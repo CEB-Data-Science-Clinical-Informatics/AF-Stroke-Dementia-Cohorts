{
 "cells": [
  {
   "cell_type": "code",
   "execution_count": 196,
   "metadata": {},
   "outputs": [],
   "source": [
    "from folder import StandardFolder\n",
    "from polars_utils import *\n",
    "import polars as pl\n",
    "import pandas as pd\n",
    "from pathlib import Path\n",
    "import matplotlib.pyplot as plt"
   ]
  },
  {
   "cell_type": "code",
   "execution_count": 7,
   "metadata": {},
   "outputs": [
    {
     "name": "stdout",
     "output_type": "stream",
     "text": [
      "11762\n"
     ]
    },
    {
     "data": {
      "text/html": [
       "<div><style>\n",
       ".dataframe > thead > tr,\n",
       ".dataframe > tbody > tr {\n",
       "  text-align: right;\n",
       "  white-space: pre-wrap;\n",
       "}\n",
       "</style>\n",
       "<small>shape: (5, 8)</small><table border=\"1\" class=\"dataframe\"><thead><tr><th>ENC_HN</th><th>D001KEY</th><th>D035KEY</th><th>D033KEY</th><th>M1022</th><th>ICD_exists</th><th>Med_exists</th><th>Both_exists</th></tr><tr><td>str</td><td>str</td><td>str</td><td>str</td><td>f64</td><td>bool</td><td>bool</td><td>bool</td></tr></thead><tbody><tr><td>&quot;A434FAA313ACDC…</td><td>&quot;2024-03-21&quot;</td><td>&quot;F0090, F0190, …</td><td>&quot;DOND-T-&quot;</td><td>63.0</td><td>true</td><td>true</td><td>true</td></tr><tr><td>&quot;14C3ED7D22CF93…</td><td>&quot;2024-03-12&quot;</td><td>null</td><td>&quot;DOND-T-&quot;</td><td>67.052632</td><td>false</td><td>true</td><td>false</td></tr><tr><td>&quot;14C3ED7D22CF93…</td><td>&quot;2024-03-12&quot;</td><td>null</td><td>&quot;DOND-T-&quot;</td><td>23.947368</td><td>false</td><td>true</td><td>false</td></tr><tr><td>&quot;4E337FACB0A17F…</td><td>&quot;2024-03-25&quot;</td><td>&quot;G309&quot;</td><td>&quot;DOND-T-&quot;</td><td>82.526316</td><td>true</td><td>true</td><td>true</td></tr><tr><td>&quot;1B3757D7B6ABFD…</td><td>&quot;2024-03-19&quot;</td><td>&quot;G309&quot;</td><td>&quot;DOND-T-&quot;</td><td>47.894737</td><td>true</td><td>true</td><td>true</td></tr></tbody></table></div>"
      ],
      "text/plain": [
       "shape: (5, 8)\n",
       "┌────────────┬────────────┬────────────┬─────────┬───────────┬────────────┬────────────┬───────────┐\n",
       "│ ENC_HN     ┆ D001KEY    ┆ D035KEY    ┆ D033KEY ┆ M1022     ┆ ICD_exists ┆ Med_exists ┆ Both_exis │\n",
       "│ ---        ┆ ---        ┆ ---        ┆ ---     ┆ ---       ┆ ---        ┆ ---        ┆ ts        │\n",
       "│ str        ┆ str        ┆ str        ┆ str     ┆ f64       ┆ bool       ┆ bool       ┆ ---       │\n",
       "│            ┆            ┆            ┆         ┆           ┆            ┆            ┆ bool      │\n",
       "╞════════════╪════════════╪════════════╪═════════╪═══════════╪════════════╪════════════╪═══════════╡\n",
       "│ A434FAA313 ┆ 2024-03-21 ┆ F0090,     ┆ DOND-T- ┆ 63.0      ┆ true       ┆ true       ┆ true      │\n",
       "│ ACDCB8C4B4 ┆            ┆ F0190,     ┆         ┆           ┆            ┆            ┆           │\n",
       "│ B66677B692 ┆            ┆ G309       ┆         ┆           ┆            ┆            ┆           │\n",
       "│ F7…        ┆            ┆            ┆         ┆           ┆            ┆            ┆           │\n",
       "│ 14C3ED7D22 ┆ 2024-03-12 ┆ null       ┆ DOND-T- ┆ 67.052632 ┆ false      ┆ true       ┆ false     │\n",
       "│ CF93AE3AB8 ┆            ┆            ┆         ┆           ┆            ┆            ┆           │\n",
       "│ 71B70B00EE ┆            ┆            ┆         ┆           ┆            ┆            ┆           │\n",
       "│ 1A…        ┆            ┆            ┆         ┆           ┆            ┆            ┆           │\n",
       "│ 14C3ED7D22 ┆ 2024-03-12 ┆ null       ┆ DOND-T- ┆ 23.947368 ┆ false      ┆ true       ┆ false     │\n",
       "│ CF93AE3AB8 ┆            ┆            ┆         ┆           ┆            ┆            ┆           │\n",
       "│ 71B70B00EE ┆            ┆            ┆         ┆           ┆            ┆            ┆           │\n",
       "│ 1A…        ┆            ┆            ┆         ┆           ┆            ┆            ┆           │\n",
       "│ 4E337FACB0 ┆ 2024-03-25 ┆ G309       ┆ DOND-T- ┆ 82.526316 ┆ true       ┆ true       ┆ true      │\n",
       "│ A17F517CD3 ┆            ┆            ┆         ┆           ┆            ┆            ┆           │\n",
       "│ F01393206B ┆            ┆            ┆         ┆           ┆            ┆            ┆           │\n",
       "│ A3…        ┆            ┆            ┆         ┆           ┆            ┆            ┆           │\n",
       "│ 1B3757D7B6 ┆ 2024-03-19 ┆ G309       ┆ DOND-T- ┆ 47.894737 ┆ true       ┆ true       ┆ true      │\n",
       "│ ABFD65BAD0 ┆            ┆            ┆         ┆           ┆            ┆            ┆           │\n",
       "│ DC13DD158E ┆            ┆            ┆         ┆           ┆            ┆            ┆           │\n",
       "│ FD…        ┆            ┆            ┆         ┆           ┆            ┆            ┆           │\n",
       "└────────────┴────────────┴────────────┴─────────┴───────────┴────────────┴────────────┴───────────┘"
      ]
     },
     "metadata": {},
     "output_type": "display_data"
    }
   ],
   "source": [
    "dementia_df = pl.read_csv(r'D:\\Prut\\Warehouses\\output\\Jun24\\n\\dementia\\dementia_full_n=11762_Jun2024.csv')\n",
    "dementia_hn = dementia_df['ENC_HN'].unique()\n",
    "print(len(dementia_hn))\n",
    "display(dementia_df.head())"
   ]
  },
  {
   "cell_type": "code",
   "execution_count": 107,
   "metadata": {},
   "outputs": [],
   "source": [
    "dementia_first_dx_date = dementia_df.group_by('ENC_HN').agg(pl.col('D001KEY').min().cast(pl.Date).alias('first_dx_date'))\n",
    "dementia_first_dx_date.write_csv('D:/Prut/Warehouses/output/Jun24/n/dementia/dementia_11762_Jun2024_firstr_dx_date.csv')"
   ]
  },
  {
   "cell_type": "code",
   "execution_count": 8,
   "metadata": {},
   "outputs": [
    {
     "data": {
      "text/html": [
       "<div><style>\n",
       ".dataframe > thead > tr,\n",
       ".dataframe > tbody > tr {\n",
       "  text-align: right;\n",
       "  white-space: pre-wrap;\n",
       "}\n",
       "</style>\n",
       "<small>shape: (9, 9)</small><table border=\"1\" class=\"dataframe\"><thead><tr><th>statistic</th><th>ENC_HN</th><th>D001KEY</th><th>D035KEY</th><th>D033KEY</th><th>M1022</th><th>ICD_exists</th><th>Med_exists</th><th>Both_exists</th></tr><tr><td>str</td><td>str</td><td>str</td><td>str</td><td>str</td><td>f64</td><td>f64</td><td>f64</td><td>f64</td></tr></thead><tbody><tr><td>&quot;count&quot;</td><td>&quot;353364&quot;</td><td>&quot;353364&quot;</td><td>&quot;79959&quot;</td><td>&quot;323413&quot;</td><td>323413.0</td><td>353364.0</td><td>353364.0</td><td>353364.0</td></tr><tr><td>&quot;null_count&quot;</td><td>&quot;0&quot;</td><td>&quot;0&quot;</td><td>&quot;273405&quot;</td><td>&quot;29951&quot;</td><td>29951.0</td><td>0.0</td><td>0.0</td><td>0.0</td></tr><tr><td>&quot;mean&quot;</td><td>null</td><td>null</td><td>null</td><td>null</td><td>382.334937</td><td>0.226279</td><td>0.91524</td><td>0.14152</td></tr><tr><td>&quot;std&quot;</td><td>null</td><td>null</td><td>null</td><td>null</td><td>2451.85417</td><td>null</td><td>null</td><td>null</td></tr><tr><td>&quot;min&quot;</td><td>&quot;0000AD03673CD2…</td><td>&quot;2010-01-01&quot;</td><td>&quot;F0000&quot;</td><td>&quot;ARIP-T-&quot;</td><td>-40680.0</td><td>0.0</td><td>0.0</td><td>0.0</td></tr><tr><td>&quot;25%&quot;</td><td>null</td><td>null</td><td>null</td><td>null</td><td>1.0</td><td>null</td><td>null</td><td>null</td></tr><tr><td>&quot;50%&quot;</td><td>null</td><td>null</td><td>null</td><td>null</td><td>15.824176</td><td>null</td><td>null</td><td>null</td></tr><tr><td>&quot;75%&quot;</td><td>null</td><td>null</td><td>null</td><td>null</td><td>82.219061</td><td>null</td><td>null</td><td>null</td></tr><tr><td>&quot;max&quot;</td><td>&quot;FFF6A0E351EDB4…</td><td>&quot;2024-06-30&quot;</td><td>&quot;G310&quot;</td><td>&quot;REMN4C-&quot;</td><td>73080.0</td><td>1.0</td><td>1.0</td><td>1.0</td></tr></tbody></table></div>"
      ],
      "text/plain": [
       "shape: (9, 9)\n",
       "┌────────────┬───────────┬───────────┬─────────┬───┬───────────┬───────────┬───────────┬───────────┐\n",
       "│ statistic  ┆ ENC_HN    ┆ D001KEY   ┆ D035KEY ┆ … ┆ M1022     ┆ ICD_exist ┆ Med_exist ┆ Both_exis │\n",
       "│ ---        ┆ ---       ┆ ---       ┆ ---     ┆   ┆ ---       ┆ s         ┆ s         ┆ ts        │\n",
       "│ str        ┆ str       ┆ str       ┆ str     ┆   ┆ f64       ┆ ---       ┆ ---       ┆ ---       │\n",
       "│            ┆           ┆           ┆         ┆   ┆           ┆ f64       ┆ f64       ┆ f64       │\n",
       "╞════════════╪═══════════╪═══════════╪═════════╪═══╪═══════════╪═══════════╪═══════════╪═══════════╡\n",
       "│ count      ┆ 353364    ┆ 353364    ┆ 79959   ┆ … ┆ 323413.0  ┆ 353364.0  ┆ 353364.0  ┆ 353364.0  │\n",
       "│ null_count ┆ 0         ┆ 0         ┆ 273405  ┆ … ┆ 29951.0   ┆ 0.0       ┆ 0.0       ┆ 0.0       │\n",
       "│ mean       ┆ null      ┆ null      ┆ null    ┆ … ┆ 382.33493 ┆ 0.226279  ┆ 0.91524   ┆ 0.14152   │\n",
       "│            ┆           ┆           ┆         ┆   ┆ 7         ┆           ┆           ┆           │\n",
       "│ std        ┆ null      ┆ null      ┆ null    ┆ … ┆ 2451.8541 ┆ null      ┆ null      ┆ null      │\n",
       "│            ┆           ┆           ┆         ┆   ┆ 7         ┆           ┆           ┆           │\n",
       "│ min        ┆ 0000AD036 ┆ 2010-01-0 ┆ F0000   ┆ … ┆ -40680.0  ┆ 0.0       ┆ 0.0       ┆ 0.0       │\n",
       "│            ┆ 73CD2E76E ┆ 1         ┆         ┆   ┆           ┆           ┆           ┆           │\n",
       "│            ┆ 746034A6B ┆           ┆         ┆   ┆           ┆           ┆           ┆           │\n",
       "│            ┆ 79782…    ┆           ┆         ┆   ┆           ┆           ┆           ┆           │\n",
       "│ 25%        ┆ null      ┆ null      ┆ null    ┆ … ┆ 1.0       ┆ null      ┆ null      ┆ null      │\n",
       "│ 50%        ┆ null      ┆ null      ┆ null    ┆ … ┆ 15.824176 ┆ null      ┆ null      ┆ null      │\n",
       "│ 75%        ┆ null      ┆ null      ┆ null    ┆ … ┆ 82.219061 ┆ null      ┆ null      ┆ null      │\n",
       "│ max        ┆ FFF6A0E35 ┆ 2024-06-3 ┆ G310    ┆ … ┆ 73080.0   ┆ 1.0       ┆ 1.0       ┆ 1.0       │\n",
       "│            ┆ 1EDB4001E ┆ 0         ┆         ┆   ┆           ┆           ┆           ┆           │\n",
       "│            ┆ D83414494 ┆           ┆         ┆   ┆           ┆           ┆           ┆           │\n",
       "│            ┆ AE9BF…    ┆           ┆         ┆   ┆           ┆           ┆           ┆           │\n",
       "└────────────┴───────────┴───────────┴─────────┴───┴───────────┴───────────┴───────────┴───────────┘"
      ]
     },
     "execution_count": 8,
     "metadata": {},
     "output_type": "execute_result"
    }
   ],
   "source": [
    "dementia_df.describe()"
   ]
  },
  {
   "cell_type": "code",
   "execution_count": null,
   "metadata": {},
   "outputs": [],
   "source": [
    "class DementiaWarehouse(StandardFolder):\n",
    "    def __init__(self, hn_list: list[str], folder: str, streaming: bool = True) -> None:\n",
    "        super().__init__(folder)\n",
    "        self.hn_list = hn_list\n",
    "        self.streaming = streaming\n",
    "        self.lab_conversion = pl.read_csv('../std/lab_conversion.csv')\n",
    "        self.meds_to_select = pl.read_excel('../std/Dementia_DX_PS.xlsx', sheet_id=2)\n",
    "        self.labs_to_select = ['glucose', 'Creatinine', 'LDL', 'HDL', 'Triglyceride', 'Plt', 'Hb', 'Hct', 'eGFR']\n",
    "        self.export_folder = Path('../output/Jun24/wh/intermediate')\n",
    "        self.ran_all = False\n",
    "\n",
    "    def get_labs(self):\n",
    "        folder_path = self.lab\n",
    "        to_concat = []\n",
    "        for path in list(folder_path.iterdir()):\n",
    "            file = (\n",
    "                scan_file(path)\n",
    "                .select(pl.col(['ENC_HN', 'REPORT_DATE', 'SHORT_TEST', 'UNIT', 'RESULT_VAL']))\n",
    "                # Select HN\n",
    "                .filter(pl.col('ENC_HN').is_in(self.hn_list))\n",
    "                # # Select wanted labs (on SHORT_TEST)\n",
    "                # .pipe(identify_in_list, col_name='SHORT_TEST', criteria=self.labs_to_select)\n",
    "                # Parse dates\n",
    "                .pipe(parse_dates, 'REPORT_DATE')\n",
    "                # Create a new column which is name+units\n",
    "                .with_columns(pl.concat_str('SHORT_TEST', 'UNIT', separator=',').alias('name_with_units'))\n",
    "                .filter(pl.col('name_with_units').is_in(self.lab_conversion.to_series()))\n",
    "                .join(self.lab_conversion.lazy(), how='left', on='name_with_units')\n",
    "                .rename({'new_name': 'Lab'})\n",
    "                # Clean lab values\n",
    "                .with_columns(pl.col('RESULT_VAL').str.extract(r'^\\d+\\.\\d+|\\d+$', 0).cast(pl.Float32))\n",
    "                .with_columns(pl.col('RESULT_VAL').str.replace(r'\\.{2,}', r'\\.'))\n",
    "                .with_columns(pl.col('RESULT_VAL').str.strip_chars('<>.,()/\\\\\\'\"'))\n",
    "                .filter(pl.col('RESULT_VAL').str.contains('^[0-9.]+$'))\n",
    "                # Multiply to standardise due to different units\n",
    "                .with_columns(pl.col('RESULT_VAL').mul(pl.col('mul_factor')))\n",
    "                # Select Added 02-11-2024\n",
    "                .filter(pl.col('Lab').is_in(self.labs_to_select))\n",
    "            )\n",
    "\n",
    "            # collect\n",
    "            file = file.collect(streaming=self.streaming)\n",
    "\n",
    "            # Pivot labs\n",
    "            file = file.pivot(values='RESULT_VAL', index=['ENC_HN', 'REPORT_DATE'], columns='Lab', aggregate_function='max')\n",
    "\n",
    "            # Rename a bit\n",
    "            file = file.rename({'REPORT_DATE': 'D001KEY'})\n",
    "\n",
    "            # Append\n",
    "            to_concat.append(file)\n",
    "\n",
    "        self.lab_df = pl.concat(to_concat, how='diagonal_relaxed').unique()\n",
    "        \n",
    "    def get_visits(self):\n",
    "        folder_path = self.visit\n",
    "        to_concat = []\n",
    "        for path in folder_path.iterdir():\n",
    "            file = (\n",
    "                scan_file(path)\n",
    "                .filter(pl.col('ENC_HN').is_in(self.hn_list))\n",
    "                .select(pl.col(['ENC_HN', 'D001KEY', 'D108KEY']))\n",
    "                .pipe(parse_dates, 'D001KEY')\n",
    "            )\n",
    "            to_concat.append(file.collect(streaming=self.streaming))\n",
    "        self.visit_df = pl.concat(to_concat).unique()\n",
    "\n",
    "    def get_deaths(self):\n",
    "        folder_path = self.deaths\n",
    "        to_concat = []\n",
    "        for path in folder_path.iterdir():\n",
    "            file = (\n",
    "                scan_file(path)\n",
    "                .filter(pl.col('ENC_HN').is_in(self.hn_list))\n",
    "                .select(pl.col('ENC_HN', 'D001KEY')).pipe(parse_dates, 'D001KEY').rename({'D001KEY': 'Death_date'})\n",
    "            )\n",
    "            to_concat.append(file.collect(streaming=self.streaming))\n",
    "        self.deaths_df = pl.concat(to_concat).unique()\n",
    "\n",
    "    def get_dx(self, select: list = None):\n",
    "        folder_path = self.dx\n",
    "        to_concat = []\n",
    "        for path in folder_path.iterdir():\n",
    "            file = (\n",
    "                scan_file(path)\n",
    "                .filter(pl.col('ENC_HN').is_in(self.hn_list))\n",
    "                .select(pl.col(['ENC_HN', 'D001KEY', 'D035KEY']))\n",
    "                .pipe(parse_dates, 'D001KEY')\n",
    "            )\n",
    "            if select is not None:\n",
    "                file = file.filter(pl.col('D035KEY').is_in(select))\n",
    "            file = file.group_by(pl.col(['ENC_HN', 'D001KEY'])).agg(pl.col('D035KEY')).with_columns(pl.col('D035KEY').list.unique().list.sort().list.join(', '))\n",
    "            to_concat.append(file.collect(streaming=self.streaming))\n",
    "        self.dx_df = pl.concat(to_concat).unique()\n",
    "\n",
    "    def get_meds(self):\n",
    "        folder_path = self.bill\n",
    "        select = self.meds_to_select.to_series().to_list()\n",
    "        self.meds_to_select = self.meds_to_select.lazy()\n",
    "        to_concat = []\n",
    "        for path in folder_path.iterdir():\n",
    "            file = (\n",
    "                scan_file(path)\n",
    "                .filter(pl.col('ENC_HN').is_in(self.hn_list)))\n",
    "            if {'PER_DATE_2', 'SERVICE_ID', 'CAL_SER_AMT'}.issubset(file.columns):\n",
    "                file = file.rename({'PER_DATE_2': 'D001KEY', 'SERVICE_ID': 'D033KEY', 'CAL_SER_AMT': 'M1022'})\n",
    "            file = (\n",
    "                file\n",
    "                .select(pl.col(['ENC_HN', 'D001KEY', 'D033KEY', 'M1022']))\n",
    "                .pipe(parse_dates, 'D001KEY')\n",
    "            )\n",
    "\n",
    "            if select is not None:\n",
    "                file = (\n",
    "                    file\n",
    "                    .filter(pl.col('D033KEY').is_in(select))\n",
    "                    .join(self.meds_to_select.select(pl.col(['drug_code', 'drug_name'])), left_on='D033KEY', right_on='drug_code', how='left')\n",
    "                )\n",
    "\n",
    "            to_concat.append(file.collect(streaming=self.streaming))\n",
    "        \n",
    "        # Concat and clean\n",
    "        self.meds_df = pl.concat(to_concat).with_columns(pl.col('drug_name').str.split(' ').list.first())\n",
    "        \n",
    "        # pivot\n",
    "        self.meds_df = self.meds_df.pivot(index=['ENC_HN', 'D001KEY'], values='M1022', columns='drug_name', aggregate_function='max') # .unique().with_columns(pl.col(['antihypertensive','antidiabetic','antidyslipidemic','anticlotting']).is_not_null())\n",
    "\n",
    "\n",
    "\n",
    "    def get_vs(self):\n",
    "        folder_path = self.vs\n",
    "        rename_long = {'RECORD': 'D001KEY', 'DIA': 'DBP', 'SYS': 'SBP', 'HRBP': 'HR'}\n",
    "        rename_wide = {'RECORDDATE': 'D001KEY', 'HIGH': 'HEIGHT', 'BW': 'WEIGHT'}\n",
    "        select = ['ENC_HN', 'D001KEY', 'SBP', 'DBP', 'HR', 'WEIGHT', 'HEIGHT', 'BMI']\n",
    "\n",
    "        to_concat = []\n",
    "        for path in folder_path.iterdir():\n",
    "            file = (\n",
    "                scan_file(path)\n",
    "                # .filter(pl.col('ENC_HN').is_in(self.hn_list))\n",
    "                )\n",
    "\n",
    "            # Must collect before pivot\n",
    "            file = file.collect(streaming=self.streaming)\n",
    "            \n",
    "            # There are two formats, wide and long\n",
    "            if len(file.columns) < 6:\n",
    "                file = file.pivot(values = 'TEST_VALUE', index = ['ENC_HN', 'RECORD'], columns='TEST_NAME', aggregate_function='max')\n",
    "                file = file.rename(rename_long)\n",
    "            else:\n",
    "                file = file.rename(rename_wide)\n",
    "\n",
    "            file = file.pipe(parse_dates, 'D001KEY').select(select).filter(pl.col('ENC_HN').is_in(self.hn_list))\n",
    "            to_concat.append(file)\n",
    "\n",
    "        \n",
    "        self.vs_df = pl.concat(to_concat).unique()\n",
    "\n",
    "\n",
    "    def get_demo(self):\n",
    "        folder_path = self.demo\n",
    "        cols = ['ENC_HN', 'D020AT3', 'H2L1KEY', 'H6L1KEY', 'H6L1DES']\n",
    "        new_col_names = ['ENC_HN', 'DOB', 'Sex', 'Province_ID', 'Province_Thai']\n",
    "        to_concat = []\n",
    "        for path in folder_path.iterdir():\n",
    "            file = scan_file(path)\n",
    "            if set(cols).issubset(set(file.columns)):\n",
    "                file = file.select(cols).collect(streaming=self.streaming).pipe(parse_dates, 'D020AT3') # New bug: only works in dataframes, so must collect first\n",
    "                to_concat.append(file)\n",
    "        self.demo_df = pl.concat(to_concat).unique()\n",
    "        self.demo_df = self.demo_df.rename(dict(zip(cols, new_col_names)))\n",
    "\n",
    "\n",
    "    def run_all(self):\n",
    "        print('start')\n",
    "        self.get_meds()\n",
    "        print('meds')\n",
    "        self.get_vs()\n",
    "        print('vs')\n",
    "        self.get_labs()\n",
    "        print('labs')\n",
    "        self.get_visits()\n",
    "        print('visit')\n",
    "        self.get_deaths()\n",
    "        print('deaths')\n",
    "        self.get_dx()\n",
    "        print('dx')\n",
    "        self.get_demo()\n",
    "        print('demo')\n",
    "        \n",
    "        self.ran_all = True\n",
    "\n",
    "    def merge(self):\n",
    "        if not self.ran_all:\n",
    "            raise Exception('Please run all first.')\n",
    "        \n",
    "        self.merged_df = (\n",
    "            self.visit_df\n",
    "            .join(self.vs_df, on=['ENC_HN', 'D001KEY'], how='outer_coalesce')\n",
    "            .join(self.dx_df, on=['ENC_HN', 'D001KEY'], how='outer_coalesce')\n",
    "            .join(self.meds_df, on=['ENC_HN', 'D001KEY'], how='outer_coalesce')\n",
    "            .join(self.lab_df, on=['ENC_HN', 'D001KEY'], how='outer_coalesce')\n",
    "            .join(self.deaths_df, on=['ENC_HN'], how='outer_coalesce')\n",
    "            .join(self.demo_df, on=['ENC_HN'], how='left')\n",
    "            .unique()\n",
    "        )\n",
    "\n",
    "        # Final Column Rename\n",
    "\n",
    "        self.merged_df = self.merged_df.rename({'D001KEY': 'Date', 'D035KEY': 'ICD10', 'D108KEY': 'Site'})\n",
    "        \n",
    "    \n",
    "    def export(self) -> None:\n",
    "        if not self.ran_all:\n",
    "            raise Exception('Please run all first.')\n",
    "        self.file_name = self.export_folder / f'dementia_warehouse_exported_jun24_{datetime.now().strftime('%d-%m-%Y')}'\n",
    "        print(f'Exporting {self.file_name}')\n",
    "        print(f'n = {self.merged_df['ENC_HN'].n_unique()}')\n",
    "        self.merged_df.write_parquet(self.file_name.with_suffix('.parquet.gzip'), compression='gzip')\n",
    "        print('Exported parquet')\n",
    "        self.merged_df.write_csv(self.file_name.with_suffix('.csv'))\n",
    "        print('Exported csv')\n",
    "        print('Complete')\n"
   ]
  },
  {
   "cell_type": "code",
   "execution_count": 43,
   "metadata": {},
   "outputs": [
    {
     "name": "stdout",
     "output_type": "stream",
     "text": [
      "2005-2009 not included.\n",
      "desktop not included.\n",
      "er_emr not included.\n",
      "readme not included.\n",
      "summary_discharge not included.\n",
      "start\n",
      "meds\n",
      "vs\n",
      "labs\n",
      "visit\n",
      "deaths\n",
      "dx\n",
      "demo\n",
      "Exporting ..\\output\\Jun24\\wh\\intermediate\\dementia_warehouse_exported_jun24_06-11-2024\n",
      "n = 11762\n",
      "Exported parquet\n",
      "Exported csv\n",
      "Complete\n"
     ]
    }
   ],
   "source": [
    "s = DementiaWarehouse(hn_list=dementia_hn, folder=r\"D:\\Datalake\\Data\\20240630_fu_nc\")\n",
    "s.run_all()\n",
    "s.merge()\n",
    "s.export()"
   ]
  },
  {
   "cell_type": "markdown",
   "metadata": {},
   "source": [
    "---"
   ]
  },
  {
   "cell_type": "markdown",
   "metadata": {},
   "source": [
    "# Analysis"
   ]
  },
  {
   "cell_type": "code",
   "execution_count": 181,
   "metadata": {},
   "outputs": [
    {
     "name": "stdout",
     "output_type": "stream",
     "text": [
      "^S72|^S7214|^M8475|^R001|^I620|^N390|^L89|^J690|^X(6|7|8[0-4])\n",
      "['fx_femur_head_neck', 'fx_femur_intertroch', 'fx_femur_atypical', 'bradycardia', 'subdural_hematoma', 'uti', 'pressure_ulcer', 'aspiration_pneumonia', 'suicide_self_harm']\n"
     ]
    }
   ],
   "source": [
    "outcomes_df = pl.read_excel('../std/Dementia_DX_PS.xlsx', sheet_id=3)\n",
    "outcomes_re = '|'.join(outcomes_df['regex'])\n",
    "print(outcomes_re)\n",
    "outcome_names = outcomes_df['outcome'].to_list()\n",
    "print(outcome_names)"
   ]
  },
  {
   "cell_type": "code",
   "execution_count": 182,
   "metadata": {},
   "outputs": [
    {
     "data": {
      "text/html": [
       "<div><style>\n",
       ".dataframe > thead > tr,\n",
       ".dataframe > tbody > tr {\n",
       "  text-align: right;\n",
       "  white-space: pre-wrap;\n",
       "}\n",
       "</style>\n",
       "<small>shape: (9, 2)</small><table border=\"1\" class=\"dataframe\"><thead><tr><th>outcome</th><th>regex</th></tr><tr><td>str</td><td>str</td></tr></thead><tbody><tr><td>&quot;fx_femur_head_…</td><td>&quot;^S72&quot;</td></tr><tr><td>&quot;fx_femur_inter…</td><td>&quot;^S7214&quot;</td></tr><tr><td>&quot;fx_femur_atypi…</td><td>&quot;^M8475&quot;</td></tr><tr><td>&quot;bradycardia&quot;</td><td>&quot;^R001&quot;</td></tr><tr><td>&quot;subdural_hemat…</td><td>&quot;^I620&quot;</td></tr><tr><td>&quot;uti&quot;</td><td>&quot;^N390&quot;</td></tr><tr><td>&quot;pressure_ulcer…</td><td>&quot;^L89&quot;</td></tr><tr><td>&quot;aspiration_pne…</td><td>&quot;^J690&quot;</td></tr><tr><td>&quot;suicide_self_h…</td><td>&quot;^X(6|7|8[0-4])…</td></tr></tbody></table></div>"
      ],
      "text/plain": [
       "shape: (9, 2)\n",
       "┌──────────────────────┬────────────────┐\n",
       "│ outcome              ┆ regex          │\n",
       "│ ---                  ┆ ---            │\n",
       "│ str                  ┆ str            │\n",
       "╞══════════════════════╪════════════════╡\n",
       "│ fx_femur_head_neck   ┆ ^S72           │\n",
       "│ fx_femur_intertroch  ┆ ^S7214         │\n",
       "│ fx_femur_atypical    ┆ ^M8475         │\n",
       "│ bradycardia          ┆ ^R001          │\n",
       "│ subdural_hematoma    ┆ ^I620          │\n",
       "│ uti                  ┆ ^N390          │\n",
       "│ pressure_ulcer       ┆ ^L89           │\n",
       "│ aspiration_pneumonia ┆ ^J690          │\n",
       "│ suicide_self_harm    ┆ ^X(6|7|8[0-4]) │\n",
       "└──────────────────────┴────────────────┘"
      ]
     },
     "execution_count": 182,
     "metadata": {},
     "output_type": "execute_result"
    }
   ],
   "source": [
    "outcomes_df"
   ]
  },
  {
   "cell_type": "code",
   "execution_count": 183,
   "metadata": {},
   "outputs": [
    {
     "name": "stdout",
     "output_type": "stream",
     "text": [
      "1561037\n",
      "861471\n",
      "11762\n"
     ]
    }
   ],
   "source": [
    "df = s.merged_df # or pl.read_parquet('../output/Jun24/wh/intermediate/dementia_warehouse_exported_jun24_06-11-2024.parquet.gzip')\n",
    "print(len(df))\n",
    "df = df.join(dementia_first_dx_date, on='ENC_HN', how='left').filter(pl.col('Date') >= pl.col('first_dx_date'))\n",
    "print(len(df))\n",
    "all_hns = df['ENC_HN'].unique().to_list()\n",
    "print(len(all_hns))"
   ]
  },
  {
   "cell_type": "code",
   "execution_count": 184,
   "metadata": {},
   "outputs": [
    {
     "data": {
      "text/html": [
       "<div><style>\n",
       ".dataframe > thead > tr,\n",
       ".dataframe > tbody > tr {\n",
       "  text-align: right;\n",
       "  white-space: pre-wrap;\n",
       "}\n",
       "</style>\n",
       "<small>shape: (9, 3)</small><table border=\"1\" class=\"dataframe\"><thead><tr><th>outcome</th><th>regex</th><th>count</th></tr><tr><td>str</td><td>str</td><td>i64</td></tr></thead><tbody><tr><td>&quot;fx_femur_head_…</td><td>&quot;^S72&quot;</td><td>212</td></tr><tr><td>&quot;fx_femur_inter…</td><td>&quot;^S7214&quot;</td><td>0</td></tr><tr><td>&quot;fx_femur_atypi…</td><td>&quot;^M8475&quot;</td><td>0</td></tr><tr><td>&quot;bradycardia&quot;</td><td>&quot;^R001&quot;</td><td>42</td></tr><tr><td>&quot;subdural_hemat…</td><td>&quot;^I620&quot;</td><td>165</td></tr><tr><td>&quot;uti&quot;</td><td>&quot;^N390&quot;</td><td>725</td></tr><tr><td>&quot;pressure_ulcer…</td><td>&quot;^L89&quot;</td><td>252</td></tr><tr><td>&quot;aspiration_pne…</td><td>&quot;^J690&quot;</td><td>297</td></tr><tr><td>&quot;suicide_self_h…</td><td>&quot;^X(6|7|8[0-4])…</td><td>0</td></tr></tbody></table></div>"
      ],
      "text/plain": [
       "shape: (9, 3)\n",
       "┌──────────────────────┬────────────────┬───────┐\n",
       "│ outcome              ┆ regex          ┆ count │\n",
       "│ ---                  ┆ ---            ┆ ---   │\n",
       "│ str                  ┆ str            ┆ i64   │\n",
       "╞══════════════════════╪════════════════╪═══════╡\n",
       "│ fx_femur_head_neck   ┆ ^S72           ┆ 212   │\n",
       "│ fx_femur_intertroch  ┆ ^S7214         ┆ 0     │\n",
       "│ fx_femur_atypical    ┆ ^M8475         ┆ 0     │\n",
       "│ bradycardia          ┆ ^R001          ┆ 42    │\n",
       "│ subdural_hematoma    ┆ ^I620          ┆ 165   │\n",
       "│ uti                  ┆ ^N390          ┆ 725   │\n",
       "│ pressure_ulcer       ┆ ^L89           ┆ 252   │\n",
       "│ aspiration_pneumonia ┆ ^J690          ┆ 297   │\n",
       "│ suicide_self_harm    ┆ ^X(6|7|8[0-4]) ┆ 0     │\n",
       "└──────────────────────┴────────────────┴───────┘"
      ]
     },
     "execution_count": 184,
     "metadata": {},
     "output_type": "execute_result"
    }
   ],
   "source": [
    "n_outcomes = []\n",
    "hn_outcomes = []\n",
    "regex_outcomes = outcomes_df['regex']\n",
    "for re in regex_outcomes:\n",
    "    hn_outcome = df.filter(pl.col('ICD10').str.contains(re)).select('ENC_HN').unique().to_series().to_list()\n",
    "    n_outcome = len(hn_outcome)\n",
    "    hn_outcomes.append(hn_outcome)\n",
    "    n_outcomes.append(n_outcome)\n",
    "    \n",
    "outcomes_df = outcomes_df.with_columns(pl.Series(n_outcomes).alias('count'))\n",
    "outcomes_df"
   ]
  },
  {
   "cell_type": "code",
   "execution_count": 185,
   "metadata": {},
   "outputs": [
    {
     "data": {
      "text/plain": [
       "1165"
      ]
     },
     "execution_count": 185,
     "metadata": {},
     "output_type": "execute_result"
    }
   ],
   "source": [
    "df.filter(pl.col('Death_date').is_not_null()).select('ENC_HN').n_unique()"
   ]
  },
  {
   "cell_type": "code",
   "execution_count": 186,
   "metadata": {},
   "outputs": [
    {
     "name": "stdout",
     "output_type": "stream",
     "text": [
      "5201\n"
     ]
    }
   ],
   "source": [
    "hn_er = df.filter(pl.col('Site').str.contains('OER101')).select('ENC_HN').unique()\n",
    "n_er = len(hn_er)\n",
    "print(n_er)"
   ]
  },
  {
   "cell_type": "code",
   "execution_count": 193,
   "metadata": {},
   "outputs": [
    {
     "data": {
      "text/html": [
       "<div><style>\n",
       ".dataframe > thead > tr,\n",
       ".dataframe > tbody > tr {\n",
       "  text-align: right;\n",
       "  white-space: pre-wrap;\n",
       "}\n",
       "</style>\n",
       "<small>shape: (11_762, 10)</small><table border=\"1\" class=\"dataframe\"><thead><tr><th>ENC_HN</th><th>fx_femur_head_neck</th><th>fx_femur_intertroch</th><th>fx_femur_atypical</th><th>bradycardia</th><th>subdural_hematoma</th><th>uti</th><th>pressure_ulcer</th><th>aspiration_pneumonia</th><th>suicide_self_harm</th></tr><tr><td>str</td><td>bool</td><td>bool</td><td>bool</td><td>bool</td><td>bool</td><td>bool</td><td>bool</td><td>bool</td><td>bool</td></tr></thead><tbody><tr><td>&quot;278099B771B3BD…</td><td>false</td><td>false</td><td>false</td><td>false</td><td>false</td><td>false</td><td>false</td><td>false</td><td>false</td></tr><tr><td>&quot;54B21CDE0106DD…</td><td>false</td><td>false</td><td>false</td><td>false</td><td>false</td><td>false</td><td>false</td><td>false</td><td>false</td></tr><tr><td>&quot;D3CA86EB11E172…</td><td>false</td><td>false</td><td>false</td><td>false</td><td>false</td><td>false</td><td>false</td><td>false</td><td>false</td></tr><tr><td>&quot;F63CE49229B289…</td><td>false</td><td>false</td><td>false</td><td>false</td><td>false</td><td>false</td><td>false</td><td>false</td><td>false</td></tr><tr><td>&quot;BC2B490C93F240…</td><td>false</td><td>false</td><td>false</td><td>false</td><td>false</td><td>true</td><td>false</td><td>false</td><td>false</td></tr><tr><td>&quot;2E6ED901A5E8FE…</td><td>false</td><td>false</td><td>false</td><td>false</td><td>false</td><td>false</td><td>false</td><td>false</td><td>false</td></tr><tr><td>&quot;92C94FC1B9EB73…</td><td>false</td><td>false</td><td>false</td><td>false</td><td>false</td><td>false</td><td>false</td><td>false</td><td>false</td></tr><tr><td>&quot;E2BD28A7251606…</td><td>false</td><td>false</td><td>false</td><td>false</td><td>false</td><td>false</td><td>false</td><td>false</td><td>false</td></tr><tr><td>&quot;75C957E8A7E77E…</td><td>false</td><td>false</td><td>false</td><td>false</td><td>false</td><td>false</td><td>false</td><td>false</td><td>false</td></tr><tr><td>&quot;7D7A575508A388…</td><td>false</td><td>false</td><td>false</td><td>false</td><td>false</td><td>false</td><td>false</td><td>false</td><td>false</td></tr><tr><td>&quot;DE099EF6945601…</td><td>false</td><td>false</td><td>false</td><td>false</td><td>false</td><td>false</td><td>false</td><td>false</td><td>false</td></tr><tr><td>&quot;4A72D14BD00242…</td><td>false</td><td>false</td><td>false</td><td>false</td><td>false</td><td>false</td><td>false</td><td>false</td><td>false</td></tr><tr><td>&hellip;</td><td>&hellip;</td><td>&hellip;</td><td>&hellip;</td><td>&hellip;</td><td>&hellip;</td><td>&hellip;</td><td>&hellip;</td><td>&hellip;</td><td>&hellip;</td></tr><tr><td>&quot;16FF53E771D0A8…</td><td>false</td><td>false</td><td>false</td><td>false</td><td>false</td><td>false</td><td>false</td><td>false</td><td>false</td></tr><tr><td>&quot;3F3F30F3349746…</td><td>false</td><td>false</td><td>false</td><td>false</td><td>false</td><td>false</td><td>false</td><td>false</td><td>false</td></tr><tr><td>&quot;1D21BB46281AF7…</td><td>false</td><td>false</td><td>false</td><td>false</td><td>false</td><td>false</td><td>false</td><td>false</td><td>false</td></tr><tr><td>&quot;83001CDA6B7B8E…</td><td>false</td><td>false</td><td>false</td><td>false</td><td>false</td><td>false</td><td>false</td><td>false</td><td>false</td></tr><tr><td>&quot;6D624C34DF506F…</td><td>false</td><td>false</td><td>false</td><td>false</td><td>false</td><td>false</td><td>false</td><td>false</td><td>false</td></tr><tr><td>&quot;FBF4DC805465E8…</td><td>false</td><td>false</td><td>false</td><td>false</td><td>false</td><td>false</td><td>false</td><td>false</td><td>false</td></tr><tr><td>&quot;C6F44A27359A5B…</td><td>false</td><td>false</td><td>false</td><td>false</td><td>false</td><td>true</td><td>false</td><td>false</td><td>false</td></tr><tr><td>&quot;0B4E5FCE429146…</td><td>false</td><td>false</td><td>false</td><td>false</td><td>false</td><td>true</td><td>false</td><td>false</td><td>false</td></tr><tr><td>&quot;BE1BA1803E82E7…</td><td>true</td><td>false</td><td>false</td><td>false</td><td>false</td><td>false</td><td>false</td><td>false</td><td>false</td></tr><tr><td>&quot;04C40A64C17601…</td><td>false</td><td>false</td><td>false</td><td>false</td><td>false</td><td>false</td><td>false</td><td>false</td><td>false</td></tr><tr><td>&quot;3BF697C0CB2A13…</td><td>false</td><td>false</td><td>false</td><td>false</td><td>false</td><td>false</td><td>false</td><td>false</td><td>false</td></tr><tr><td>&quot;3F41BDFFE38142…</td><td>false</td><td>false</td><td>false</td><td>false</td><td>false</td><td>false</td><td>false</td><td>false</td><td>false</td></tr></tbody></table></div>"
      ],
      "text/plain": [
       "shape: (11_762, 10)\n",
       "┌────────────┬────────────┬────────────┬───────────┬───┬───────┬───────────┬───────────┬───────────┐\n",
       "│ ENC_HN     ┆ fx_femur_h ┆ fx_femur_i ┆ fx_femur_ ┆ … ┆ uti   ┆ pressure_ ┆ aspiratio ┆ suicide_s │\n",
       "│ ---        ┆ ead_neck   ┆ ntertroch  ┆ atypical  ┆   ┆ ---   ┆ ulcer     ┆ n_pneumon ┆ elf_harm  │\n",
       "│ str        ┆ ---        ┆ ---        ┆ ---       ┆   ┆ bool  ┆ ---       ┆ ia        ┆ ---       │\n",
       "│            ┆ bool       ┆ bool       ┆ bool      ┆   ┆       ┆ bool      ┆ ---       ┆ bool      │\n",
       "│            ┆            ┆            ┆           ┆   ┆       ┆           ┆ bool      ┆           │\n",
       "╞════════════╪════════════╪════════════╪═══════════╪═══╪═══════╪═══════════╪═══════════╪═══════════╡\n",
       "│ 278099B771 ┆ false      ┆ false      ┆ false     ┆ … ┆ false ┆ false     ┆ false     ┆ false     │\n",
       "│ B3BD719D7E ┆            ┆            ┆           ┆   ┆       ┆           ┆           ┆           │\n",
       "│ 93E7F4BAAB ┆            ┆            ┆           ┆   ┆       ┆           ┆           ┆           │\n",
       "│ EA…        ┆            ┆            ┆           ┆   ┆       ┆           ┆           ┆           │\n",
       "│ 54B21CDE01 ┆ false      ┆ false      ┆ false     ┆ … ┆ false ┆ false     ┆ false     ┆ false     │\n",
       "│ 06DD579676 ┆            ┆            ┆           ┆   ┆       ┆           ┆           ┆           │\n",
       "│ DA39F3FA53 ┆            ┆            ┆           ┆   ┆       ┆           ┆           ┆           │\n",
       "│ F0…        ┆            ┆            ┆           ┆   ┆       ┆           ┆           ┆           │\n",
       "│ D3CA86EB11 ┆ false      ┆ false      ┆ false     ┆ … ┆ false ┆ false     ┆ false     ┆ false     │\n",
       "│ E1721AFA00 ┆            ┆            ┆           ┆   ┆       ┆           ┆           ┆           │\n",
       "│ 869E3FEF23 ┆            ┆            ┆           ┆   ┆       ┆           ┆           ┆           │\n",
       "│ 25…        ┆            ┆            ┆           ┆   ┆       ┆           ┆           ┆           │\n",
       "│ F63CE49229 ┆ false      ┆ false      ┆ false     ┆ … ┆ false ┆ false     ┆ false     ┆ false     │\n",
       "│ B289EC7741 ┆            ┆            ┆           ┆   ┆       ┆           ┆           ┆           │\n",
       "│ B491FDCE8C ┆            ┆            ┆           ┆   ┆       ┆           ┆           ┆           │\n",
       "│ 14…        ┆            ┆            ┆           ┆   ┆       ┆           ┆           ┆           │\n",
       "│ BC2B490C93 ┆ false      ┆ false      ┆ false     ┆ … ┆ true  ┆ false     ┆ false     ┆ false     │\n",
       "│ F2402F2896 ┆            ┆            ┆           ┆   ┆       ┆           ┆           ┆           │\n",
       "│ 71A7194C59 ┆            ┆            ┆           ┆   ┆       ┆           ┆           ┆           │\n",
       "│ C4…        ┆            ┆            ┆           ┆   ┆       ┆           ┆           ┆           │\n",
       "│ …          ┆ …          ┆ …          ┆ …         ┆ … ┆ …     ┆ …         ┆ …         ┆ …         │\n",
       "│ 0B4E5FCE42 ┆ false      ┆ false      ┆ false     ┆ … ┆ true  ┆ false     ┆ false     ┆ false     │\n",
       "│ 9146A56F8F ┆            ┆            ┆           ┆   ┆       ┆           ┆           ┆           │\n",
       "│ 66E18DAA77 ┆            ┆            ┆           ┆   ┆       ┆           ┆           ┆           │\n",
       "│ B8…        ┆            ┆            ┆           ┆   ┆       ┆           ┆           ┆           │\n",
       "│ BE1BA1803E ┆ true       ┆ false      ┆ false     ┆ … ┆ false ┆ false     ┆ false     ┆ false     │\n",
       "│ 82E77907A3 ┆            ┆            ┆           ┆   ┆       ┆           ┆           ┆           │\n",
       "│ C3212AA83E ┆            ┆            ┆           ┆   ┆       ┆           ┆           ┆           │\n",
       "│ 6D…        ┆            ┆            ┆           ┆   ┆       ┆           ┆           ┆           │\n",
       "│ 04C40A64C1 ┆ false      ┆ false      ┆ false     ┆ … ┆ false ┆ false     ┆ false     ┆ false     │\n",
       "│ 7601A95A57 ┆            ┆            ┆           ┆   ┆       ┆           ┆           ┆           │\n",
       "│ 69B9050E7C ┆            ┆            ┆           ┆   ┆       ┆           ┆           ┆           │\n",
       "│ 61…        ┆            ┆            ┆           ┆   ┆       ┆           ┆           ┆           │\n",
       "│ 3BF697C0CB ┆ false      ┆ false      ┆ false     ┆ … ┆ false ┆ false     ┆ false     ┆ false     │\n",
       "│ 2A1333039B ┆            ┆            ┆           ┆   ┆       ┆           ┆           ┆           │\n",
       "│ 2770A946EA ┆            ┆            ┆           ┆   ┆       ┆           ┆           ┆           │\n",
       "│ DE…        ┆            ┆            ┆           ┆   ┆       ┆           ┆           ┆           │\n",
       "│ 3F41BDFFE3 ┆ false      ┆ false      ┆ false     ┆ … ┆ false ┆ false     ┆ false     ┆ false     │\n",
       "│ 814291892F ┆            ┆            ┆           ┆   ┆       ┆           ┆           ┆           │\n",
       "│ CA2BDED6A1 ┆            ┆            ┆           ┆   ┆       ┆           ┆           ┆           │\n",
       "│ 35…        ┆            ┆            ┆           ┆   ┆       ┆           ┆           ┆           │\n",
       "└────────────┴────────────┴────────────┴───────────┴───┴───────┴───────────┴───────────┴───────────┘"
      ]
     },
     "execution_count": 193,
     "metadata": {},
     "output_type": "execute_result"
    }
   ],
   "source": [
    "# Create a dictionary with True/False for each HN in each column\n",
    "data_dict = {\n",
    "    outcome_names[i]: [hn in hn_outcomes[i] for hn in all_hns]\n",
    "    for i in range(len(hn_outcomes))\n",
    "}\n",
    "\n",
    "df_outcomes = pl.DataFrame({\"ENC_HN\": list(all_hns), **data_dict})\n",
    "df_outcomes"
   ]
  },
  {
   "cell_type": "code",
   "execution_count": 201,
   "metadata": {},
   "outputs": [
    {
     "data": {
      "text/html": [
       "<div><style>\n",
       ".dataframe > thead > tr,\n",
       ".dataframe > tbody > tr {\n",
       "  text-align: right;\n",
       "  white-space: pre-wrap;\n",
       "}\n",
       "</style>\n",
       "<small>shape: (11_762, 14)</small><table border=\"1\" class=\"dataframe\"><thead><tr><th>ENC_HN</th><th>Memantine</th><th>Galantamine</th><th>Donepezil</th><th>Rivastigmine</th><th>fx_femur_head_neck</th><th>fx_femur_intertroch</th><th>fx_femur_atypical</th><th>bradycardia</th><th>subdural_hematoma</th><th>uti</th><th>pressure_ulcer</th><th>aspiration_pneumonia</th><th>suicide_self_harm</th></tr><tr><td>str</td><td>bool</td><td>bool</td><td>bool</td><td>bool</td><td>bool</td><td>bool</td><td>bool</td><td>bool</td><td>bool</td><td>bool</td><td>bool</td><td>bool</td><td>bool</td></tr></thead><tbody><tr><td>&quot;278099B771B3BD…</td><td>false</td><td>false</td><td>true</td><td>false</td><td>false</td><td>false</td><td>false</td><td>false</td><td>false</td><td>false</td><td>false</td><td>false</td><td>false</td></tr><tr><td>&quot;54B21CDE0106DD…</td><td>false</td><td>false</td><td>false</td><td>false</td><td>false</td><td>false</td><td>false</td><td>false</td><td>false</td><td>false</td><td>false</td><td>false</td><td>false</td></tr><tr><td>&quot;D3CA86EB11E172…</td><td>false</td><td>false</td><td>false</td><td>false</td><td>false</td><td>false</td><td>false</td><td>false</td><td>false</td><td>false</td><td>false</td><td>false</td><td>false</td></tr><tr><td>&quot;F63CE49229B289…</td><td>false</td><td>false</td><td>true</td><td>false</td><td>false</td><td>false</td><td>false</td><td>false</td><td>false</td><td>false</td><td>false</td><td>false</td><td>false</td></tr><tr><td>&quot;BC2B490C93F240…</td><td>false</td><td>false</td><td>false</td><td>false</td><td>false</td><td>false</td><td>false</td><td>false</td><td>false</td><td>true</td><td>false</td><td>false</td><td>false</td></tr><tr><td>&quot;2E6ED901A5E8FE…</td><td>true</td><td>false</td><td>true</td><td>false</td><td>false</td><td>false</td><td>false</td><td>false</td><td>false</td><td>false</td><td>false</td><td>false</td><td>false</td></tr><tr><td>&quot;92C94FC1B9EB73…</td><td>false</td><td>false</td><td>true</td><td>false</td><td>false</td><td>false</td><td>false</td><td>false</td><td>false</td><td>false</td><td>false</td><td>false</td><td>false</td></tr><tr><td>&quot;E2BD28A7251606…</td><td>false</td><td>false</td><td>true</td><td>false</td><td>false</td><td>false</td><td>false</td><td>false</td><td>false</td><td>false</td><td>false</td><td>false</td><td>false</td></tr><tr><td>&quot;75C957E8A7E77E…</td><td>false</td><td>false</td><td>false</td><td>false</td><td>false</td><td>false</td><td>false</td><td>false</td><td>false</td><td>false</td><td>false</td><td>false</td><td>false</td></tr><tr><td>&quot;7D7A575508A388…</td><td>false</td><td>false</td><td>true</td><td>false</td><td>false</td><td>false</td><td>false</td><td>false</td><td>false</td><td>false</td><td>false</td><td>false</td><td>false</td></tr><tr><td>&quot;DE099EF6945601…</td><td>false</td><td>false</td><td>true</td><td>false</td><td>false</td><td>false</td><td>false</td><td>false</td><td>false</td><td>false</td><td>false</td><td>false</td><td>false</td></tr><tr><td>&quot;4A72D14BD00242…</td><td>true</td><td>false</td><td>true</td><td>false</td><td>false</td><td>false</td><td>false</td><td>false</td><td>false</td><td>false</td><td>false</td><td>false</td><td>false</td></tr><tr><td>&hellip;</td><td>&hellip;</td><td>&hellip;</td><td>&hellip;</td><td>&hellip;</td><td>&hellip;</td><td>&hellip;</td><td>&hellip;</td><td>&hellip;</td><td>&hellip;</td><td>&hellip;</td><td>&hellip;</td><td>&hellip;</td><td>&hellip;</td></tr><tr><td>&quot;16FF53E771D0A8…</td><td>true</td><td>false</td><td>false</td><td>false</td><td>false</td><td>false</td><td>false</td><td>false</td><td>false</td><td>false</td><td>false</td><td>false</td><td>false</td></tr><tr><td>&quot;3F3F30F3349746…</td><td>false</td><td>false</td><td>true</td><td>true</td><td>false</td><td>false</td><td>false</td><td>false</td><td>false</td><td>false</td><td>false</td><td>false</td><td>false</td></tr><tr><td>&quot;1D21BB46281AF7…</td><td>false</td><td>false</td><td>false</td><td>false</td><td>false</td><td>false</td><td>false</td><td>false</td><td>false</td><td>false</td><td>false</td><td>false</td><td>false</td></tr><tr><td>&quot;83001CDA6B7B8E…</td><td>false</td><td>false</td><td>true</td><td>false</td><td>false</td><td>false</td><td>false</td><td>false</td><td>false</td><td>false</td><td>false</td><td>false</td><td>false</td></tr><tr><td>&quot;6D624C34DF506F…</td><td>false</td><td>false</td><td>true</td><td>false</td><td>false</td><td>false</td><td>false</td><td>false</td><td>false</td><td>false</td><td>false</td><td>false</td><td>false</td></tr><tr><td>&quot;FBF4DC805465E8…</td><td>false</td><td>false</td><td>true</td><td>true</td><td>false</td><td>false</td><td>false</td><td>false</td><td>false</td><td>false</td><td>false</td><td>false</td><td>false</td></tr><tr><td>&quot;C6F44A27359A5B…</td><td>true</td><td>false</td><td>false</td><td>false</td><td>false</td><td>false</td><td>false</td><td>false</td><td>false</td><td>true</td><td>false</td><td>false</td><td>false</td></tr><tr><td>&quot;0B4E5FCE429146…</td><td>true</td><td>false</td><td>true</td><td>false</td><td>false</td><td>false</td><td>false</td><td>false</td><td>false</td><td>true</td><td>false</td><td>false</td><td>false</td></tr><tr><td>&quot;BE1BA1803E82E7…</td><td>false</td><td>false</td><td>true</td><td>true</td><td>true</td><td>false</td><td>false</td><td>false</td><td>false</td><td>false</td><td>false</td><td>false</td><td>false</td></tr><tr><td>&quot;04C40A64C17601…</td><td>false</td><td>false</td><td>false</td><td>true</td><td>false</td><td>false</td><td>false</td><td>false</td><td>false</td><td>false</td><td>false</td><td>false</td><td>false</td></tr><tr><td>&quot;3BF697C0CB2A13…</td><td>false</td><td>false</td><td>true</td><td>false</td><td>false</td><td>false</td><td>false</td><td>false</td><td>false</td><td>false</td><td>false</td><td>false</td><td>false</td></tr><tr><td>&quot;3F41BDFFE38142…</td><td>true</td><td>true</td><td>false</td><td>false</td><td>false</td><td>false</td><td>false</td><td>false</td><td>false</td><td>false</td><td>false</td><td>false</td><td>false</td></tr></tbody></table></div>"
      ],
      "text/plain": [
       "shape: (11_762, 14)\n",
       "┌────────────┬───────────┬────────────┬───────────┬───┬───────┬────────────┬───────────┬───────────┐\n",
       "│ ENC_HN     ┆ Memantine ┆ Galantamin ┆ Donepezil ┆ … ┆ uti   ┆ pressure_u ┆ aspiratio ┆ suicide_s │\n",
       "│ ---        ┆ ---       ┆ e          ┆ ---       ┆   ┆ ---   ┆ lcer       ┆ n_pneumon ┆ elf_harm  │\n",
       "│ str        ┆ bool      ┆ ---        ┆ bool      ┆   ┆ bool  ┆ ---        ┆ ia        ┆ ---       │\n",
       "│            ┆           ┆ bool       ┆           ┆   ┆       ┆ bool       ┆ ---       ┆ bool      │\n",
       "│            ┆           ┆            ┆           ┆   ┆       ┆            ┆ bool      ┆           │\n",
       "╞════════════╪═══════════╪════════════╪═══════════╪═══╪═══════╪════════════╪═══════════╪═══════════╡\n",
       "│ 278099B771 ┆ false     ┆ false      ┆ true      ┆ … ┆ false ┆ false      ┆ false     ┆ false     │\n",
       "│ B3BD719D7E ┆           ┆            ┆           ┆   ┆       ┆            ┆           ┆           │\n",
       "│ 93E7F4BAAB ┆           ┆            ┆           ┆   ┆       ┆            ┆           ┆           │\n",
       "│ EA…        ┆           ┆            ┆           ┆   ┆       ┆            ┆           ┆           │\n",
       "│ 54B21CDE01 ┆ false     ┆ false      ┆ false     ┆ … ┆ false ┆ false      ┆ false     ┆ false     │\n",
       "│ 06DD579676 ┆           ┆            ┆           ┆   ┆       ┆            ┆           ┆           │\n",
       "│ DA39F3FA53 ┆           ┆            ┆           ┆   ┆       ┆            ┆           ┆           │\n",
       "│ F0…        ┆           ┆            ┆           ┆   ┆       ┆            ┆           ┆           │\n",
       "│ D3CA86EB11 ┆ false     ┆ false      ┆ false     ┆ … ┆ false ┆ false      ┆ false     ┆ false     │\n",
       "│ E1721AFA00 ┆           ┆            ┆           ┆   ┆       ┆            ┆           ┆           │\n",
       "│ 869E3FEF23 ┆           ┆            ┆           ┆   ┆       ┆            ┆           ┆           │\n",
       "│ 25…        ┆           ┆            ┆           ┆   ┆       ┆            ┆           ┆           │\n",
       "│ F63CE49229 ┆ false     ┆ false      ┆ true      ┆ … ┆ false ┆ false      ┆ false     ┆ false     │\n",
       "│ B289EC7741 ┆           ┆            ┆           ┆   ┆       ┆            ┆           ┆           │\n",
       "│ B491FDCE8C ┆           ┆            ┆           ┆   ┆       ┆            ┆           ┆           │\n",
       "│ 14…        ┆           ┆            ┆           ┆   ┆       ┆            ┆           ┆           │\n",
       "│ BC2B490C93 ┆ false     ┆ false      ┆ false     ┆ … ┆ true  ┆ false      ┆ false     ┆ false     │\n",
       "│ F2402F2896 ┆           ┆            ┆           ┆   ┆       ┆            ┆           ┆           │\n",
       "│ 71A7194C59 ┆           ┆            ┆           ┆   ┆       ┆            ┆           ┆           │\n",
       "│ C4…        ┆           ┆            ┆           ┆   ┆       ┆            ┆           ┆           │\n",
       "│ …          ┆ …         ┆ …          ┆ …         ┆ … ┆ …     ┆ …          ┆ …         ┆ …         │\n",
       "│ 0B4E5FCE42 ┆ true      ┆ false      ┆ true      ┆ … ┆ true  ┆ false      ┆ false     ┆ false     │\n",
       "│ 9146A56F8F ┆           ┆            ┆           ┆   ┆       ┆            ┆           ┆           │\n",
       "│ 66E18DAA77 ┆           ┆            ┆           ┆   ┆       ┆            ┆           ┆           │\n",
       "│ B8…        ┆           ┆            ┆           ┆   ┆       ┆            ┆           ┆           │\n",
       "│ BE1BA1803E ┆ false     ┆ false      ┆ true      ┆ … ┆ false ┆ false      ┆ false     ┆ false     │\n",
       "│ 82E77907A3 ┆           ┆            ┆           ┆   ┆       ┆            ┆           ┆           │\n",
       "│ C3212AA83E ┆           ┆            ┆           ┆   ┆       ┆            ┆           ┆           │\n",
       "│ 6D…        ┆           ┆            ┆           ┆   ┆       ┆            ┆           ┆           │\n",
       "│ 04C40A64C1 ┆ false     ┆ false      ┆ false     ┆ … ┆ false ┆ false      ┆ false     ┆ false     │\n",
       "│ 7601A95A57 ┆           ┆            ┆           ┆   ┆       ┆            ┆           ┆           │\n",
       "│ 69B9050E7C ┆           ┆            ┆           ┆   ┆       ┆            ┆           ┆           │\n",
       "│ 61…        ┆           ┆            ┆           ┆   ┆       ┆            ┆           ┆           │\n",
       "│ 3BF697C0CB ┆ false     ┆ false      ┆ true      ┆ … ┆ false ┆ false      ┆ false     ┆ false     │\n",
       "│ 2A1333039B ┆           ┆            ┆           ┆   ┆       ┆            ┆           ┆           │\n",
       "│ 2770A946EA ┆           ┆            ┆           ┆   ┆       ┆            ┆           ┆           │\n",
       "│ DE…        ┆           ┆            ┆           ┆   ┆       ┆            ┆           ┆           │\n",
       "│ 3F41BDFFE3 ┆ true      ┆ true       ┆ false     ┆ … ┆ false ┆ false      ┆ false     ┆ false     │\n",
       "│ 814291892F ┆           ┆            ┆           ┆   ┆       ┆            ┆           ┆           │\n",
       "│ CA2BDED6A1 ┆           ┆            ┆           ┆   ┆       ┆            ┆           ┆           │\n",
       "│ 35…        ┆           ┆            ┆           ┆   ┆       ┆            ┆           ┆           │\n",
       "└────────────┴───────────┴────────────┴───────────┴───┴───────┴────────────┴───────────┴───────────┘"
      ]
     },
     "execution_count": 201,
     "metadata": {},
     "output_type": "execute_result"
    }
   ],
   "source": [
    "drugs = ['Memantine', 'Galantamine', 'Donepezil', 'Rivastigmine']\n",
    "crossed_df = (\n",
    "    df\n",
    "    .with_columns(pl.col(drugs).is_not_null())\n",
    "    .select(pl.col(['ENC_HN'] + drugs)).group_by('ENC_HN').agg(pl.col(drugs).any())\n",
    "    .join(df_outcomes, on='ENC_HN')\n",
    ")\n",
    "crossed_df.write_csv(r'D:\\Prut\\Warehouses\\output\\Jun24\\wh\\intermediate\\intermediate_cross_dementia.csv')\n",
    "crossed_df"
   ]
  },
  {
   "cell_type": "code",
   "execution_count": 202,
   "metadata": {},
   "outputs": [
    {
     "data": {
      "text/html": [
       "<div>\n",
       "<style scoped>\n",
       "    .dataframe tbody tr th:only-of-type {\n",
       "        vertical-align: middle;\n",
       "    }\n",
       "\n",
       "    .dataframe tbody tr th {\n",
       "        vertical-align: top;\n",
       "    }\n",
       "\n",
       "    .dataframe thead th {\n",
       "        text-align: right;\n",
       "    }\n",
       "</style>\n",
       "<table border=\"1\" class=\"dataframe\">\n",
       "  <thead>\n",
       "    <tr style=\"text-align: right;\">\n",
       "      <th></th>\n",
       "      <th>fx_femur_head_neck</th>\n",
       "      <th>fx_femur_intertroch</th>\n",
       "      <th>fx_femur_atypical</th>\n",
       "      <th>bradycardia</th>\n",
       "      <th>subdural_hematoma</th>\n",
       "      <th>uti</th>\n",
       "      <th>pressure_ulcer</th>\n",
       "      <th>aspiration_pneumonia</th>\n",
       "      <th>suicide_self_harm</th>\n",
       "    </tr>\n",
       "  </thead>\n",
       "  <tbody>\n",
       "    <tr>\n",
       "      <th>Memantine</th>\n",
       "      <td>106</td>\n",
       "      <td>0</td>\n",
       "      <td>0</td>\n",
       "      <td>17</td>\n",
       "      <td>57</td>\n",
       "      <td>261</td>\n",
       "      <td>104</td>\n",
       "      <td>121</td>\n",
       "      <td>0</td>\n",
       "    </tr>\n",
       "    <tr>\n",
       "      <th>Galantamine</th>\n",
       "      <td>35</td>\n",
       "      <td>0</td>\n",
       "      <td>0</td>\n",
       "      <td>5</td>\n",
       "      <td>17</td>\n",
       "      <td>82</td>\n",
       "      <td>25</td>\n",
       "      <td>40</td>\n",
       "      <td>0</td>\n",
       "    </tr>\n",
       "    <tr>\n",
       "      <th>Donepezil</th>\n",
       "      <td>91</td>\n",
       "      <td>0</td>\n",
       "      <td>0</td>\n",
       "      <td>30</td>\n",
       "      <td>89</td>\n",
       "      <td>314</td>\n",
       "      <td>112</td>\n",
       "      <td>113</td>\n",
       "      <td>0</td>\n",
       "    </tr>\n",
       "    <tr>\n",
       "      <th>Rivastigmine</th>\n",
       "      <td>67</td>\n",
       "      <td>0</td>\n",
       "      <td>0</td>\n",
       "      <td>8</td>\n",
       "      <td>55</td>\n",
       "      <td>235</td>\n",
       "      <td>87</td>\n",
       "      <td>96</td>\n",
       "      <td>0</td>\n",
       "    </tr>\n",
       "  </tbody>\n",
       "</table>\n",
       "</div>"
      ],
      "text/plain": [
       "             fx_femur_head_neck fx_femur_intertroch fx_femur_atypical  \\\n",
       "Memantine                   106                   0                 0   \n",
       "Galantamine                  35                   0                 0   \n",
       "Donepezil                    91                   0                 0   \n",
       "Rivastigmine                 67                   0                 0   \n",
       "\n",
       "             bradycardia subdural_hematoma  uti pressure_ulcer  \\\n",
       "Memantine             17                57  261            104   \n",
       "Galantamine            5                17   82             25   \n",
       "Donepezil             30                89  314            112   \n",
       "Rivastigmine           8                55  235             87   \n",
       "\n",
       "             aspiration_pneumonia suicide_self_harm  \n",
       "Memantine                     121                 0  \n",
       "Galantamine                    40                 0  \n",
       "Donepezil                     113                 0  \n",
       "Rivastigmine                   96                 0  "
      ]
     },
     "execution_count": 202,
     "metadata": {},
     "output_type": "execute_result"
    }
   ],
   "source": [
    "pddf = crossed_df.to_pandas()\n",
    "cross_tab = pd.DataFrame(index=drugs, columns=outcome_names)\n",
    "\n",
    "for drug in drugs:\n",
    "    for outcome in outcome_names:\n",
    "        cross_tab.loc[drug, outcome] = pddf[(pddf[drug] == True) & (pddf[outcome] == True)].shape[0]\n",
    "        \n",
    "cross_tab"
   ]
  },
  {
   "cell_type": "code",
   "execution_count": null,
   "metadata": {},
   "outputs": [],
   "source": []
  }
 ],
 "metadata": {
  "kernelspec": {
   "display_name": "prut",
   "language": "python",
   "name": "python3"
  },
  "language_info": {
   "codemirror_mode": {
    "name": "ipython",
    "version": 3
   },
   "file_extension": ".py",
   "mimetype": "text/x-python",
   "name": "python",
   "nbconvert_exporter": "python",
   "pygments_lexer": "ipython3",
   "version": "3.12.1"
  }
 },
 "nbformat": 4,
 "nbformat_minor": 2
}
