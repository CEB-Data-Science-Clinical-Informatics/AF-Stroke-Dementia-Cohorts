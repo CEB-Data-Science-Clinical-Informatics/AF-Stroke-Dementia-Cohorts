{
 "cells": [
  {
   "cell_type": "markdown",
   "metadata": {},
   "source": [
    "# Clopidogrel-Stroke Cohort - October \n",
    "(Not derived from the stroke cohort)\n",
    "(New criteria)"
   ]
  },
  {
   "cell_type": "code",
   "execution_count": 1,
   "metadata": {},
   "outputs": [],
   "source": [
    "from folder import StandardFolder\n",
    "from polars_utils import *\n",
    "import polars as pl\n",
    "from pathlib import Path\n",
    "import matplotlib.pyplot as plt"
   ]
  },
  {
   "cell_type": "markdown",
   "metadata": {},
   "source": [
    "**Please correct me if I'm wrong / Suggest other ICD10s to add https://icd.who.int/browse10/2016/en#/I60-I69**\n",
    "\n",
    "- Clopidogrel (P2Y12 inhibitor) inhibits platelet aggregation.\n",
    "\n",
    "- Clopidogrel is mainly converted into its active metabolite through CYP2C19.\n",
    "\n",
    "This study aims to look at patients who have CYP2C19 polymorphism and their possible complications.\n",
    "\n",
    "- Poor Metabolisers\n",
    "    - I63: Ischemic stroke\n",
    "\n",
    "**Exclude OACs (DOACs, Warfarin)**\n",
    "\n",
    "Ward mapping: https://docs.google.com/spreadsheets/d/1qzxQRRRC0Vs576MvMdiJMfCCxkfvwZlQpzI1Ap9r3fQ/edit#gid=440115548\n",
    "\n",
    "\n",
    "\n",
    "\n",
    "\n",
    "## UPDATES\n",
    "\n",
    "**Starting with clopidogrel**\n",
    "- Recurrence is moved downwards w.r.t. the flowchart\n",
    "\n",
    "**Clopidogrel only**\n",
    "- No longer including ticagrelor or cilostazol\n",
    "\n",
    "**Excluding TIA**\n",
    "- G45: TIA\n",
    "\n",
    "**Excluding AFib**\n",
    "- From AFib cohort\n",
    "\n",
    "\n"
   ]
  },
  {
   "cell_type": "code",
   "execution_count": 2,
   "metadata": {},
   "outputs": [
    {
     "name": "stdout",
     "output_type": "stream",
     "text": [
      "readme not included.\n"
     ]
    }
   ],
   "source": [
    "target_icds = ['I63'] # No more G45\n",
    "\n",
    "warehouse_folder = StandardFolder(folder='D:/Datalake/Data/20231231_fu_nc')\n",
    "\n",
    "admission_visit_cols = ['ENC_HN', 'D001KEY', 'D108KEY']\n",
    "stroke_unit = 'MDJ1' # in admissions\n",
    "emergency_department = 'OER101' # in visits\n",
    "\n",
    "dx_cols = ['ENC_HN', 'D001KEY', 'D035KEY', 'D108KEY', 'D195KEY'] # Primary diagnosis is when D195KEY is \"1\"\n",
    "sample_file = pl.read_parquet(list(warehouse_folder.dx.iterdir())[-1])\n",
    "assert {stroke_unit, emergency_department}.issubset(set([x.strip(' ') for x in sample_file['D108KEY'].unique() if x ]))"
   ]
  },
  {
   "cell_type": "code",
   "execution_count": 3,
   "metadata": {},
   "outputs": [],
   "source": [
    "# oac_df = pl.read_csv('../std/meds_AF.csv')\n",
    "# oac_df"
   ]
  },
  {
   "cell_type": "code",
   "execution_count": 4,
   "metadata": {},
   "outputs": [],
   "source": [
    "class ClopidogrelStrokeIdentify(StandardFolder):\n",
    "    def __init__(\n",
    "            self, \n",
    "            folder: str = 'D:/Datalake/Data/20231231_fu_nc', \n",
    "            export_folder: str = 'D:/Prut/Warehouses/output/Dec23/n/Clopidogrel',\n",
    "            select_dx: list[str] = target_icds, \n",
    "            select_dept: list[str] = [emergency_department, stroke_unit],\n",
    "            streaming: bool = True\n",
    "            ) -> None:\n",
    "        super().__init__(folder)\n",
    "\n",
    "        self.streaming = streaming\n",
    "        self.folder = Path(folder)\n",
    "        self.export_folder = Path(export_folder)\n",
    "        self.select_dx = select_dx\n",
    "        self.select_dx_re = '^' + '|^'.join(self.select_dx)\n",
    "        self.clopidogrel = pl.read_csv('../std/clopidogrel_med_code.csv').to_series(0).to_list() # ['PLAG-T-', 'CLAP-T-', 'COPL-T-', 'CLOD-T-', 'PLAP-T-', 'PLAP-T1', 'PLAV-T-']\n",
    "        self.ticagrelor = ['BRIL-T-',]\n",
    "        self.cilostazol = ['CIBZ-T-', 'CILO-T-', 'PLSR-C-', 'PLET-W-', 'PLET1T-', 'PLET-T-']\n",
    "        self.oac = pl.read_csv('../std/meds_AF.csv')['CODE'].to_list()\n",
    "        self.select_dept = select_dept\n",
    "        self.primary_dx = '1'\n",
    "        self.has_oac = []\n",
    "        self.ran_all = False\n",
    "        self.n_list = []\n",
    "\n",
    "\n",
    "    def get_dx(self):\n",
    "        folder_path = self.dx\n",
    "        to_concat = []\n",
    "        for path in folder_path.iterdir():\n",
    "            file = (\n",
    "                scan_file(path)\n",
    "                .select(pl.col(['ENC_HN', 'D001KEY', 'D035KEY', 'D108KEY', 'D195KEY']))\n",
    "                .filter(pl.col('D035KEY').str.contains(self.select_dx_re))\n",
    "                .filter(pl.col('D108KEY').is_in(self.select_dept))\n",
    "                .filter(pl.col('D195KEY') == self.primary_dx)\n",
    "                .pipe(parse_dates, 'D001KEY')\n",
    "            )\n",
    "            # file = file.group_by(pl.col(['ENC_HN', 'D001KEY'])).agg(pl.col('D035KEY')).with_columns(pl.col('D035KEY').list.unique().list.sort().list.join(', '))\n",
    "            to_concat.append(file.collect(streaming=self.streaming))\n",
    "        self.dx_df = pl.concat(to_concat).unique()\n",
    "\n",
    "    def get_meds(self):\n",
    "        folder_path = self.bill\n",
    "        to_concat = []\n",
    "        for path in folder_path.iterdir():\n",
    "            file = scan_file(path)\n",
    "            # Deal with alternative file structures\n",
    "            if {'PER_DATE_2', 'SERVICE_ID', 'CAL_SER_AMT'}.issubset(file.columns):\n",
    "                file = file.rename({'PER_DATE_2': 'D001KEY', 'SERVICE_ID': 'D033KEY', 'CAL_SER_AMT': 'M1022'})\n",
    "            file = (\n",
    "                file\n",
    "                .select(pl.col(['ENC_HN', 'D001KEY', 'D033KEY', 'M1022']))\n",
    "                .pipe(parse_dates, 'D001KEY')\n",
    "            )\n",
    "            # Store people who have ever recived an OAC\n",
    "            self.has_oac.extend(file.filter(pl.col('D033KEY').is_in(self.oac)).select('ENC_HN').unique().collect().to_series().to_list())\n",
    "\n",
    "            # Select clopidogrel, ticagrelor and cilostazol\n",
    "            # file = file.filter(pl.col('D033KEY').is_in(self.clopidogrel + self.ticagrelor + self.cilostazol))\n",
    "            file = file.filter(pl.col('D033KEY').is_in(self.clopidogrel))\n",
    "\n",
    "            to_concat.append(file.collect(streaming=self.streaming))\n",
    "\n",
    "        self.meds_df = pl.concat(to_concat)\n",
    "\n",
    "        # pivot\n",
    "        # self.meds_df = self.meds_df.pivot(index=['ENC_HN', 'D001KEY'], values='M1022', columns='D033KEY', aggregate_function='max').unique()\n",
    "\n",
    "    def get_demo(self):\n",
    "        folder_path = self.demo\n",
    "        cols = ['ENC_HN', 'D020AT3', 'H2L1KEY']\n",
    "        new_col_names = ['ENC_HN', 'DOB', 'Sex']\n",
    "        to_concat = []\n",
    "        for path in folder_path.iterdir():\n",
    "            file = scan_file(path)\n",
    "            if set(cols).issubset(set(file.columns)):\n",
    "                file = file.select(cols).collect(streaming=self.streaming).pipe(parse_dates, 'D020AT3') # New bug: only works in dataframes, so must collect first\n",
    "                to_concat.append(file)\n",
    "        self.demo_df = pl.concat(to_concat).unique()\n",
    "        self.demo_df = self.demo_df.rename(dict(zip(cols, new_col_names)))\n",
    "\n",
    "    def get_deaths(self):\n",
    "        folder_path = self.deaths\n",
    "        to_concat = []\n",
    "        for path in folder_path.iterdir():\n",
    "            file = (\n",
    "                scan_file(path)\n",
    "                .select(pl.col('ENC_HN', 'D001KEY')).pipe(parse_dates, 'D001KEY').rename({'D001KEY': 'Death_date'})\n",
    "            )\n",
    "            to_concat.append(file.collect(streaming=self.streaming))\n",
    "        self.deaths_df = pl.concat(to_concat).unique()\n",
    "\n",
    "    def run_all(self):\n",
    "        self.get_dx()\n",
    "        print('dx')\n",
    "        # self.get_demo()\n",
    "        # print('demo')\n",
    "        self.get_meds()\n",
    "        print('meds')\n",
    "        self.get_deaths()\n",
    "        print('deaths')\n",
    "        \n",
    "        self.ran_all = True\n",
    "\n",
    "    def merge(self):\n",
    "        if not self.ran_all:\n",
    "            raise Exception('Please run all first.')\n",
    "        \n",
    "        self.merged_df = (\n",
    "            self.meds_df\n",
    "            # .join(self.demo_df, on=['ENC_HN'], how='left')\n",
    "            .join(self.dx_df, on=['ENC_HN', 'D001KEY'], how='left') # switched orders of med and dx dfs\n",
    "            .join(self.deaths_df, on=['ENC_HN'], how='left') # changed to left 07-10-24\n",
    "            .unique()\n",
    "            \n",
    "        )\n"
   ]
  },
  {
   "cell_type": "code",
   "execution_count": 5,
   "metadata": {},
   "outputs": [
    {
     "name": "stdout",
     "output_type": "stream",
     "text": [
      "readme not included.\n",
      "dx\n",
      "meds\n",
      "deaths\n"
     ]
    }
   ],
   "source": [
    "s = ClopidogrelStrokeIdentify()\n",
    "s.run_all()\n",
    "s.merge()"
   ]
  },
  {
   "cell_type": "markdown",
   "metadata": {},
   "source": [
    "### The following numbers are valid for data between 2010-2023."
   ]
  },
  {
   "cell_type": "markdown",
   "metadata": {},
   "source": [
    "Number of patients who received all forms of clopidogrel"
   ]
  },
  {
   "cell_type": "code",
   "execution_count": 6,
   "metadata": {},
   "outputs": [
    {
     "name": "stdout",
     "output_type": "stream",
     "text": [
      "29867\n"
     ]
    }
   ],
   "source": [
    "assert s.meds_df['ENC_HN'].n_unique() == s.merged_df['ENC_HN'].n_unique() # sanity check for left join\n",
    "print(s.merged_df['ENC_HN'].n_unique())"
   ]
  },
  {
   "cell_type": "markdown",
   "metadata": {},
   "source": [
    "Visits at each ward"
   ]
  },
  {
   "cell_type": "code",
   "execution_count": 7,
   "metadata": {},
   "outputs": [
    {
     "data": {
      "text/html": [
       "<div><style>\n",
       ".dataframe > thead > tr,\n",
       ".dataframe > tbody > tr {\n",
       "  text-align: right;\n",
       "  white-space: pre-wrap;\n",
       "}\n",
       "</style>\n",
       "<small>shape: (3, 2)</small><table border=\"1\" class=\"dataframe\"><thead><tr><th>D108KEY</th><th>count</th></tr><tr><td>str</td><td>u32</td></tr></thead><tbody><tr><td>null</td><td>607658</td></tr><tr><td>&quot;MDJ1&quot;</td><td>1868</td></tr><tr><td>&quot;OER101&quot;</td><td>276</td></tr></tbody></table></div>"
      ],
      "text/plain": [
       "shape: (3, 2)\n",
       "┌─────────┬────────┐\n",
       "│ D108KEY ┆ count  │\n",
       "│ ---     ┆ ---    │\n",
       "│ str     ┆ u32    │\n",
       "╞═════════╪════════╡\n",
       "│ null    ┆ 607658 │\n",
       "│ MDJ1    ┆ 1868   │\n",
       "│ OER101  ┆ 276    │\n",
       "└─────────┴────────┘"
      ]
     },
     "execution_count": 7,
     "metadata": {},
     "output_type": "execute_result"
    }
   ],
   "source": [
    "s.merged_df['D108KEY'].value_counts()"
   ]
  },
  {
   "cell_type": "markdown",
   "metadata": {},
   "source": [
    "Patients at each ward (duplicates included)"
   ]
  },
  {
   "cell_type": "code",
   "execution_count": 8,
   "metadata": {},
   "outputs": [
    {
     "data": {
      "text/html": [
       "<div><style>\n",
       ".dataframe > thead > tr,\n",
       ".dataframe > tbody > tr {\n",
       "  text-align: right;\n",
       "  white-space: pre-wrap;\n",
       "}\n",
       "</style>\n",
       "<small>shape: (3, 2)</small><table border=\"1\" class=\"dataframe\"><thead><tr><th>D108KEY</th><th>ENC_HN</th></tr><tr><td>str</td><td>u32</td></tr></thead><tbody><tr><td>&quot;MDJ1&quot;</td><td>928</td></tr><tr><td>&quot;OER101&quot;</td><td>152</td></tr><tr><td>null</td><td>29844</td></tr></tbody></table></div>"
      ],
      "text/plain": [
       "shape: (3, 2)\n",
       "┌─────────┬────────┐\n",
       "│ D108KEY ┆ ENC_HN │\n",
       "│ ---     ┆ ---    │\n",
       "│ str     ┆ u32    │\n",
       "╞═════════╪════════╡\n",
       "│ MDJ1    ┆ 928    │\n",
       "│ OER101  ┆ 152    │\n",
       "│ null    ┆ 29844  │\n",
       "└─────────┴────────┘"
      ]
     },
     "execution_count": 8,
     "metadata": {},
     "output_type": "execute_result"
    }
   ],
   "source": [
    "s.merged_df.select(pl.col('ENC_HN', 'D108KEY')).group_by('D108KEY').agg(pl.col('ENC_HN').n_unique())"
   ]
  },
  {
   "cell_type": "code",
   "execution_count": 9,
   "metadata": {},
   "outputs": [
    {
     "name": "stdout",
     "output_type": "stream",
     "text": [
      "Number of patients who are given clopidogrel with a selected primary diagnosis at these two wards: 1035\n"
     ]
    }
   ],
   "source": [
    "clop_df_1 = s.merged_df.filter(pl.col('D108KEY').is_in(['MDJ1', 'OER101']))\n",
    "clop_hn_1 = clop_df_1['ENC_HN'].unique().to_list()\n",
    "print(f'Number of patients who are given clopidogrel with a selected primary diagnosis at these two wards: {len(clop_hn_1)}')"
   ]
  },
  {
   "cell_type": "markdown",
   "metadata": {},
   "source": [
    "Remove AFib"
   ]
  },
  {
   "cell_type": "code",
   "execution_count": 10,
   "metadata": {},
   "outputs": [
    {
     "name": "stdout",
     "output_type": "stream",
     "text": [
      "Number of AFib patients up to 2023: 23337\n"
     ]
    }
   ],
   "source": [
    "af_df = (\n",
    "    pl.read_csv(r'D:\\Prut\\Warehouses\\output\\Jun24\\n\\af\\af_cohort_n=24928_Jun2024.csv')\n",
    "    .with_columns(pl.col('First_date').cast(pl.Date))\n",
    "    .filter(pl.col('First_date').dt.year() <= 2023)\n",
    ")\n",
    "print(f'Number of AFib patients up to 2023: {len(af_df)}')\n",
    "af_hn = af_df.to_series().to_list()"
   ]
  },
  {
   "cell_type": "code",
   "execution_count": 11,
   "metadata": {},
   "outputs": [
    {
     "name": "stdout",
     "output_type": "stream",
     "text": [
      "Number of patients receiving clopidogrel who does not have AFib: 897\n"
     ]
    }
   ],
   "source": [
    "clop_hn_2 = set(clop_hn_1) - set(af_hn)\n",
    "print(f'Number of patients receiving clopidogrel who does not have AFib: {len(clop_hn_2)}')"
   ]
  },
  {
   "cell_type": "code",
   "execution_count": 12,
   "metadata": {},
   "outputs": [
    {
     "name": "stdout",
     "output_type": "stream",
     "text": [
      "Number of patients receiving clopidogrel who does not have AFib or does not recevie OACs: 843\n"
     ]
    }
   ],
   "source": [
    "clop_hn_3 = clop_hn_2 - set(s.has_oac)\n",
    "clop_df_3 = clop_df_1.filter(pl.col('ENC_HN').is_in(clop_hn_3))\n",
    "assert clop_df_3['ENC_HN'].n_unique() == len(clop_hn_3) # sanity check\n",
    "print(f'Number of patients receiving clopidogrel who does not have AFib or does not recevie OACs: {len(clop_hn_3)}')"
   ]
  },
  {
   "cell_type": "markdown",
   "metadata": {},
   "source": [
    "## Exporting here"
   ]
  },
  {
   "cell_type": "code",
   "execution_count": 13,
   "metadata": {},
   "outputs": [
    {
     "data": {
      "text/html": [
       "<div><style>\n",
       ".dataframe > thead > tr,\n",
       ".dataframe > tbody > tr {\n",
       "  text-align: right;\n",
       "  white-space: pre-wrap;\n",
       "}\n",
       "</style>\n",
       "<small>shape: (1_759, 8)</small><table border=\"1\" class=\"dataframe\"><thead><tr><th>ENC_HN</th><th>D001KEY</th><th>D033KEY</th><th>M1022</th><th>D035KEY</th><th>D108KEY</th><th>D195KEY</th><th>Death_date</th></tr><tr><td>str</td><td>date</td><td>str</td><td>str</td><td>str</td><td>str</td><td>str</td><td>date</td></tr></thead><tbody><tr><td>&quot;5503812C4CC9D4…</td><td>2012-10-09</td><td>&quot;PLAP-T1&quot;</td><td>&quot;0&quot;</td><td>&quot;I633&quot;</td><td>&quot;MDJ1&quot;</td><td>&quot;1&quot;</td><td>null</td></tr><tr><td>&quot;2B0E1D905C20F8…</td><td>2013-07-11</td><td>&quot;PLAP-T1&quot;</td><td>&quot;3&quot;</td><td>&quot;I635&quot;</td><td>&quot;MDJ1&quot;</td><td>&quot;1&quot;</td><td>null</td></tr><tr><td>&quot;5F49688AD67C70…</td><td>2013-12-13</td><td>&quot;PLAP-T1&quot;</td><td>&quot;0&quot;</td><td>&quot;I638&quot;</td><td>&quot;MDJ1&quot;</td><td>&quot;1&quot;</td><td>null</td></tr><tr><td>&quot;A7C5ED58AF853D…</td><td>2013-07-02</td><td>&quot;PLAP-T1&quot;</td><td>&quot;15&quot;</td><td>&quot;I634&quot;</td><td>&quot;MDJ1&quot;</td><td>&quot;1&quot;</td><td>2019-08-07</td></tr><tr><td>&quot;2378AD195A9EA0…</td><td>2014-10-22</td><td>&quot;PLAP-T1&quot;</td><td>&quot;10&quot;</td><td>&quot;I633&quot;</td><td>&quot;MDJ1&quot;</td><td>&quot;1&quot;</td><td>null</td></tr><tr><td>&quot;52D42A333B94F5…</td><td>2014-10-13</td><td>&quot;PLAP-T1&quot;</td><td>&quot;3&quot;</td><td>&quot;I634&quot;</td><td>&quot;MDJ1&quot;</td><td>&quot;1&quot;</td><td>null</td></tr><tr><td>&quot;7CA13FD56852A9…</td><td>2014-09-03</td><td>&quot;PLAP-T1&quot;</td><td>&quot;3&quot;</td><td>&quot;I638&quot;</td><td>&quot;MDJ1&quot;</td><td>&quot;1&quot;</td><td>null</td></tr><tr><td>&quot;DFAF4870DF6BF7…</td><td>2014-09-24</td><td>&quot;PLAP-T1&quot;</td><td>&quot;13&quot;</td><td>&quot;I635&quot;</td><td>&quot;MDJ1&quot;</td><td>&quot;1&quot;</td><td>null</td></tr><tr><td>&quot;F144A5A0FB96ED…</td><td>2015-06-14</td><td>&quot;CLOD-T-&quot;</td><td>&quot;15&quot;</td><td>&quot;I639&quot;</td><td>&quot;MDJ1&quot;</td><td>&quot;1&quot;</td><td>null</td></tr><tr><td>&quot;059D3E1EE71E9F…</td><td>2016-07-29</td><td>&quot;PLAV-T-&quot;</td><td>&quot;4&quot;</td><td>&quot;I639&quot;</td><td>&quot;OER101&quot;</td><td>&quot;1&quot;</td><td>null</td></tr><tr><td>&quot;163645D8875ED8…</td><td>2016-03-05</td><td>&quot;PLAP-T1&quot;</td><td>&quot;7&quot;</td><td>&quot;I635&quot;</td><td>&quot;MDJ1&quot;</td><td>&quot;1&quot;</td><td>null</td></tr><tr><td>&quot;21D24E0CE6EAD0…</td><td>2016-12-15</td><td>&quot;PLAV-T-&quot;</td><td>&quot;4&quot;</td><td>&quot;I639&quot;</td><td>&quot;OER101&quot;</td><td>&quot;1&quot;</td><td>null</td></tr><tr><td>&hellip;</td><td>&hellip;</td><td>&hellip;</td><td>&hellip;</td><td>&hellip;</td><td>&hellip;</td><td>&hellip;</td><td>&hellip;</td></tr><tr><td>&quot;3D6DFB3B6285E7…</td><td>2023-06-12</td><td>&quot;CLOD-T-&quot;</td><td>&quot;0.741935483870…</td><td>&quot;I635&quot;</td><td>&quot;MDJ1&quot;</td><td>&quot;1&quot;</td><td>null</td></tr><tr><td>&quot;85DB05A57A4DB3…</td><td>2023-11-29</td><td>&quot;CLOD-T-&quot;</td><td>&quot;18.54838709677…</td><td>&quot;I639&quot;</td><td>&quot;MDJ1&quot;</td><td>&quot;1&quot;</td><td>null</td></tr><tr><td>&quot;881D728E00DB8E…</td><td>2023-01-01</td><td>&quot;CLOD-T-&quot;</td><td>&quot;1&quot;</td><td>&quot;I639&quot;</td><td>&quot;MDJ1&quot;</td><td>&quot;1&quot;</td><td>null</td></tr><tr><td>&quot;B430CBAC25F819…</td><td>2023-01-03</td><td>&quot;CLOD-T-&quot;</td><td>&quot;2&quot;</td><td>&quot;I635&quot;</td><td>&quot;MDJ1&quot;</td><td>&quot;1&quot;</td><td>null</td></tr><tr><td>&quot;B879691F2A9479…</td><td>2023-03-19</td><td>&quot;CLOD-T-&quot;</td><td>&quot;15.12195121951…</td><td>&quot;I635&quot;</td><td>&quot;MDJ1&quot;</td><td>&quot;1&quot;</td><td>null</td></tr><tr><td>&quot;EB4F227272D59B…</td><td>2023-03-10</td><td>&quot;CLOD-T-&quot;</td><td>&quot;1&quot;</td><td>&quot;I635&quot;</td><td>&quot;MDJ1&quot;</td><td>&quot;1&quot;</td><td>null</td></tr><tr><td>&quot;2541F4B517EFA7…</td><td>2010-09-06</td><td>&quot;PLAP-T-&quot;</td><td>&quot;1593&quot;</td><td>&quot;I639&quot;</td><td>&quot;MDJ1&quot;</td><td>&quot;1&quot;</td><td>null</td></tr><tr><td>&quot;C42C81144570C3…</td><td>2010-03-25</td><td>&quot;PLAP-T-&quot;</td><td>&quot;354&quot;</td><td>&quot;I633&quot;</td><td>&quot;MDJ1&quot;</td><td>&quot;1&quot;</td><td>2021-07-03</td></tr><tr><td>&quot;6733A12BF38902…</td><td>2011-07-28</td><td>&quot;PLAP-T1&quot;</td><td>&quot;507.7099999999…</td><td>&quot;I633&quot;</td><td>&quot;MDJ1&quot;</td><td>&quot;1&quot;</td><td>null</td></tr><tr><td>&quot;7093477CF1C0CA…</td><td>2011-03-29</td><td>&quot;PLAP-T1&quot;</td><td>&quot;507.7099999999…</td><td>&quot;I635&quot;</td><td>&quot;MDJ1&quot;</td><td>&quot;1&quot;</td><td>2011-05-14</td></tr><tr><td>&quot;B42E27190B94FF…</td><td>2011-08-03</td><td>&quot;PLAV-T-&quot;</td><td>&quot;1770&quot;</td><td>&quot;I639&quot;</td><td>&quot;OER101&quot;</td><td>&quot;1&quot;</td><td>null</td></tr><tr><td>&quot;F1E2DB7634501A…</td><td>2011-04-22</td><td>&quot;PLAP-T1&quot;</td><td>&quot;507.7099999999…</td><td>&quot;I634&quot;</td><td>&quot;MDJ1&quot;</td><td>&quot;1&quot;</td><td>null</td></tr></tbody></table></div>"
      ],
      "text/plain": [
       "shape: (1_759, 8)\n",
       "┌────────────────┬────────────┬─────────┬───────────────┬─────────┬─────────┬─────────┬────────────┐\n",
       "│ ENC_HN         ┆ D001KEY    ┆ D033KEY ┆ M1022         ┆ D035KEY ┆ D108KEY ┆ D195KEY ┆ Death_date │\n",
       "│ ---            ┆ ---        ┆ ---     ┆ ---           ┆ ---     ┆ ---     ┆ ---     ┆ ---        │\n",
       "│ str            ┆ date       ┆ str     ┆ str           ┆ str     ┆ str     ┆ str     ┆ date       │\n",
       "╞════════════════╪════════════╪═════════╪═══════════════╪═════════╪═════════╪═════════╪════════════╡\n",
       "│ 5503812C4CC9D4 ┆ 2012-10-09 ┆ PLAP-T1 ┆ 0             ┆ I633    ┆ MDJ1    ┆ 1       ┆ null       │\n",
       "│ BF02D552D89DA1 ┆            ┆         ┆               ┆         ┆         ┆         ┆            │\n",
       "│ 043D…          ┆            ┆         ┆               ┆         ┆         ┆         ┆            │\n",
       "│ 2B0E1D905C20F8 ┆ 2013-07-11 ┆ PLAP-T1 ┆ 3             ┆ I635    ┆ MDJ1    ┆ 1       ┆ null       │\n",
       "│ 0B81BDCF729ECC ┆            ┆         ┆               ┆         ┆         ┆         ┆            │\n",
       "│ 37DE…          ┆            ┆         ┆               ┆         ┆         ┆         ┆            │\n",
       "│ 5F49688AD67C70 ┆ 2013-12-13 ┆ PLAP-T1 ┆ 0             ┆ I638    ┆ MDJ1    ┆ 1       ┆ null       │\n",
       "│ 93C4E968961B5C ┆            ┆         ┆               ┆         ┆         ┆         ┆            │\n",
       "│ F5F2…          ┆            ┆         ┆               ┆         ┆         ┆         ┆            │\n",
       "│ A7C5ED58AF853D ┆ 2013-07-02 ┆ PLAP-T1 ┆ 15            ┆ I634    ┆ MDJ1    ┆ 1       ┆ 2019-08-07 │\n",
       "│ 33668882645AD7 ┆            ┆         ┆               ┆         ┆         ┆         ┆            │\n",
       "│ B5F1…          ┆            ┆         ┆               ┆         ┆         ┆         ┆            │\n",
       "│ 2378AD195A9EA0 ┆ 2014-10-22 ┆ PLAP-T1 ┆ 10            ┆ I633    ┆ MDJ1    ┆ 1       ┆ null       │\n",
       "│ 209DAF8366F280 ┆            ┆         ┆               ┆         ┆         ┆         ┆            │\n",
       "│ 3EBF…          ┆            ┆         ┆               ┆         ┆         ┆         ┆            │\n",
       "│ …              ┆ …          ┆ …       ┆ …             ┆ …       ┆ …       ┆ …       ┆ …          │\n",
       "│ C42C81144570C3 ┆ 2010-03-25 ┆ PLAP-T- ┆ 354           ┆ I633    ┆ MDJ1    ┆ 1       ┆ 2021-07-03 │\n",
       "│ 5E02D848C3240B ┆            ┆         ┆               ┆         ┆         ┆         ┆            │\n",
       "│ 5F79…          ┆            ┆         ┆               ┆         ┆         ┆         ┆            │\n",
       "│ 6733A12BF38902 ┆ 2011-07-28 ┆ PLAP-T1 ┆ 507.709999999 ┆ I633    ┆ MDJ1    ┆ 1       ┆ null       │\n",
       "│ 2E0417CBE5FE7E ┆            ┆         ┆ 99998         ┆         ┆         ┆         ┆            │\n",
       "│ 0219…          ┆            ┆         ┆               ┆         ┆         ┆         ┆            │\n",
       "│ 7093477CF1C0CA ┆ 2011-03-29 ┆ PLAP-T1 ┆ 507.709999999 ┆ I635    ┆ MDJ1    ┆ 1       ┆ 2011-05-14 │\n",
       "│ AEC17AE55E0109 ┆            ┆         ┆ 99998         ┆         ┆         ┆         ┆            │\n",
       "│ 2CE5…          ┆            ┆         ┆               ┆         ┆         ┆         ┆            │\n",
       "│ B42E27190B94FF ┆ 2011-08-03 ┆ PLAV-T- ┆ 1770          ┆ I639    ┆ OER101  ┆ 1       ┆ null       │\n",
       "│ 3F1E951BD1E8B5 ┆            ┆         ┆               ┆         ┆         ┆         ┆            │\n",
       "│ 53B5…          ┆            ┆         ┆               ┆         ┆         ┆         ┆            │\n",
       "│ F1E2DB7634501A ┆ 2011-04-22 ┆ PLAP-T1 ┆ 507.709999999 ┆ I634    ┆ MDJ1    ┆ 1       ┆ null       │\n",
       "│ 24DABD6C572EE7 ┆            ┆         ┆ 99998         ┆         ┆         ┆         ┆            │\n",
       "│ 96E4…          ┆            ┆         ┆               ┆         ┆         ┆         ┆            │\n",
       "└────────────────┴────────────┴─────────┴───────────────┴─────────┴─────────┴─────────┴────────────┘"
      ]
     },
     "execution_count": 13,
     "metadata": {},
     "output_type": "execute_result"
    }
   ],
   "source": [
    "clop_df_3"
   ]
  },
  {
   "cell_type": "markdown",
   "metadata": {},
   "source": [
    "---"
   ]
  },
  {
   "cell_type": "markdown",
   "metadata": {},
   "source": [
    "Added Nov 2024:\n",
    "\n",
    "### More Exclusion Criteria\n",
    "#### Already excluded above:\n",
    "- OAC\n",
    "- AFib\n",
    "  \n",
    "#### To Do\n",
    "- Cardioembolism I634\n",
    "- Malignancies C00 - C97\n",
    "- Hepatic disease K70 - K77\n",
    "- eGFR < 30\n",
    "- Plt < 100k or > 450k\n",
    "- Hct < 25%\n",
    "- Acute illness / Drug abuse / Sickle cell / Cognitive impairments --- not excluded here.\n",
    "\n",
    "And add deaths."
   ]
  },
  {
   "cell_type": "code",
   "execution_count": 14,
   "metadata": {},
   "outputs": [],
   "source": [
    "# Pull all ICD10s\n",
    "exclude_more_re = '^I634|^C|^K7'\n",
    "\n",
    "# Labs required\n"
   ]
  },
  {
   "cell_type": "markdown",
   "metadata": {},
   "source": [
    "---"
   ]
  },
  {
   "cell_type": "markdown",
   "metadata": {},
   "source": [
    "Number of **patients** with **readmissions**, as defined as more than one visit of primarily diagnosed stroke."
   ]
  },
  {
   "cell_type": "code",
   "execution_count": 15,
   "metadata": {},
   "outputs": [
    {
     "name": "stdout",
     "output_type": "stream",
     "text": [
      "60\n"
     ]
    }
   ],
   "source": [
    "_readmission_df = clop_df_3.select(['ENC_HN', 'D001KEY']).unique().group_by('ENC_HN').len().filter(pl.col('len') > 1)\n",
    "readmission_hn = _readmission_df.select('ENC_HN').unique().to_series().to_list()\n",
    "print(len(readmission_hn))"
   ]
  },
  {
   "cell_type": "code",
   "execution_count": 16,
   "metadata": {},
   "outputs": [],
   "source": [
    "_readmission_df.select('ENC_HN').unique().write_csv(r'D:\\Prut\\Warehouses\\output\\Jun24\\wh\\intermediate\\readmission_df.csv')"
   ]
  },
  {
   "cell_type": "markdown",
   "metadata": {},
   "source": [
    "Organise"
   ]
  },
  {
   "cell_type": "code",
   "execution_count": 17,
   "metadata": {},
   "outputs": [
    {
     "name": "stdout",
     "output_type": "stream",
     "text": [
      "len(single_admission_df) = 1506\n",
      "len(readmission_df) = 253\n",
      "single_admission_df['ENC_HN'].n_unique() = 783\n",
      "readmission_df['ENC_HN'].n_unique() = 60\n"
     ]
    }
   ],
   "source": [
    "single_admission_df = clop_df_3.filter(~pl.col('ENC_HN').is_in(readmission_hn))\n",
    "readmission_df = clop_df_3.filter(pl.col('ENC_HN').is_in(readmission_hn))\n",
    "\n",
    "print(f'{len(single_admission_df) = }')\n",
    "print(f'{len(readmission_df) = }')\n",
    "print(f'{single_admission_df['ENC_HN'].n_unique() = }')\n",
    "print(f'{readmission_df['ENC_HN'].n_unique() = }')"
   ]
  },
  {
   "cell_type": "markdown",
   "metadata": {},
   "source": [
    "Deaths"
   ]
  },
  {
   "cell_type": "markdown",
   "metadata": {},
   "source": [
    "Deaths in single admissions"
   ]
  },
  {
   "cell_type": "code",
   "execution_count": 18,
   "metadata": {},
   "outputs": [
    {
     "name": "stdout",
     "output_type": "stream",
     "text": [
      "Percentage of deaths: 5.1%\n"
     ]
    }
   ],
   "source": [
    "single_admission_df.filter(pl.col('Death_date').is_not_null())['ENC_HN'].n_unique()\n",
    "\n",
    "print(f'Percentage of deaths: {\n",
    "    single_admission_df.filter(pl.col('Death_date').is_not_null())['ENC_HN'].n_unique() / \\\n",
    "    single_admission_df['ENC_HN'].n_unique() \\\n",
    "    :.1%\n",
    "}'\n",
    ")"
   ]
  },
  {
   "cell_type": "markdown",
   "metadata": {},
   "source": [
    "Death in readmissions"
   ]
  },
  {
   "cell_type": "code",
   "execution_count": 19,
   "metadata": {},
   "outputs": [
    {
     "name": "stdout",
     "output_type": "stream",
     "text": [
      "Percentage of deaths: 3.3%\n"
     ]
    }
   ],
   "source": [
    "readmission_df.filter(pl.col('Death_date').is_not_null())['ENC_HN'].n_unique()\n",
    "\n",
    "print(f'Percentage of deaths: {\n",
    "    readmission_df.filter(pl.col('Death_date').is_not_null())['ENC_HN'].n_unique() / \\\n",
    "    readmission_df['ENC_HN'].n_unique() \\\n",
    "    :.1%\n",
    "}'\n",
    ")"
   ]
  }
 ],
 "metadata": {
  "kernelspec": {
   "display_name": "prut",
   "language": "python",
   "name": "python3"
  },
  "language_info": {
   "codemirror_mode": {
    "name": "ipython",
    "version": 3
   },
   "file_extension": ".py",
   "mimetype": "text/x-python",
   "name": "python",
   "nbconvert_exporter": "python",
   "pygments_lexer": "ipython3",
   "version": "3.12.1"
  }
 },
 "nbformat": 4,
 "nbformat_minor": 2
}
