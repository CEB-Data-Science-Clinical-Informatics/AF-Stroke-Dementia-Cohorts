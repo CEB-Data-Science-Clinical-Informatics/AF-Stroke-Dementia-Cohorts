{
 "cells": [
  {
   "cell_type": "code",
   "execution_count": 1,
   "metadata": {},
   "outputs": [],
   "source": [
    "from folder import StandardFolder\n",
    "from polars_utils import *\n",
    "import polars as pl\n",
    "from pathlib import Path\n",
    "import matplotlib.pyplot as plt"
   ]
  },
  {
   "cell_type": "code",
   "execution_count": 2,
   "metadata": {},
   "outputs": [
    {
     "name": "stdout",
     "output_type": "stream",
     "text": [
      "1112\n"
     ]
    }
   ],
   "source": [
    "intermediate_df = pl.read_csv(r'D:\\Prut\\Warehouses\\output\\Jun24\\wh\\intermediate\\clopidogrel_intermediate_with_TIA.csv') # _with_TIA 11-11-24\n",
    "intermediate_hn = intermediate_df.to_series().unique().to_list()\n",
    "print(len(intermediate_hn))"
   ]
  },
  {
   "cell_type": "markdown",
   "metadata": {},
   "source": [
    "# RUN"
   ]
  },
  {
   "cell_type": "code",
   "execution_count": 3,
   "metadata": {},
   "outputs": [],
   "source": [
    "class ClopidogrelStrokeWarehouse(StandardFolder):\n",
    "    def __init__(self, hn_list: list[str], folder: str, streaming: bool = True) -> None:\n",
    "        super().__init__(folder)\n",
    "        self.hn_list = hn_list\n",
    "        self.streaming = streaming\n",
    "        self.lab_conversion = pl.read_csv('../std/lab_conversion.csv')\n",
    "        self.meds_to_select = pl.read_csv('../std/med_groups_prut.csv')\n",
    "        self.labs_to_select = ['glucose', 'Creatinine', 'LDL', 'HDL', 'Triglyceride', 'Plt', 'Hb', 'Hct', 'eGFR']\n",
    "        self.export_folder = Path('../output/Jun24/wh/intermediate')\n",
    "        self.ran_all = False\n",
    "\n",
    "    def get_labs(self):\n",
    "        folder_path = self.lab\n",
    "        to_concat = []\n",
    "        for path in list(folder_path.iterdir()):\n",
    "            file = (\n",
    "                scan_file(path)\n",
    "                .select(pl.col(['ENC_HN', 'REPORT_DATE', 'SHORT_TEST', 'UNIT', 'RESULT_VAL']))\n",
    "                # Select HN\n",
    "                .filter(pl.col('ENC_HN').is_in(self.hn_list))\n",
    "                # # Select wanted labs (on SHORT_TEST)\n",
    "                # .pipe(identify_in_list, col_name='SHORT_TEST', criteria=self.labs_to_select)\n",
    "                # Parse dates\n",
    "                .pipe(parse_dates, 'REPORT_DATE')\n",
    "                # Create a new column which is name+units\n",
    "                .with_columns(pl.concat_str('SHORT_TEST', 'UNIT', separator=',').alias('name_with_units'))\n",
    "                .filter(pl.col('name_with_units').is_in(self.lab_conversion.to_series()))\n",
    "                .join(self.lab_conversion.lazy(), how='left', on='name_with_units')\n",
    "                .rename({'new_name': 'Lab'})\n",
    "                # Clean lab values\n",
    "                .with_columns(pl.col('RESULT_VAL').str.extract(r'^\\d+\\.\\d+|\\d+$', 0).cast(pl.Float32))\n",
    "                .with_columns(pl.col('RESULT_VAL').str.replace(r'\\.{2,}', r'\\.'))\n",
    "                .with_columns(pl.col('RESULT_VAL').str.strip_chars('<>.,()/\\\\\\'\"'))\n",
    "                .filter(pl.col('RESULT_VAL').str.contains('^[0-9.]+$'))\n",
    "                # Multiply to standardise due to different units\n",
    "                .with_columns(pl.col('RESULT_VAL').mul(pl.col('mul_factor')))\n",
    "                # Select Added 02-11-2024\n",
    "                .filter(pl.col('Lab').is_in(self.labs_to_select))\n",
    "            )\n",
    "\n",
    "            # collect\n",
    "            file = file.collect(streaming=self.streaming)\n",
    "\n",
    "            # Pivot labs\n",
    "            file = file.pivot(values='RESULT_VAL', index=['ENC_HN', 'REPORT_DATE'], columns='Lab', aggregate_function='max')\n",
    "\n",
    "            # Rename a bit\n",
    "            file = file.rename({'REPORT_DATE': 'D001KEY'})\n",
    "\n",
    "            # Append\n",
    "            to_concat.append(file)\n",
    "\n",
    "        self.lab_df = pl.concat(to_concat, how='diagonal_relaxed').unique()\n",
    "        \n",
    "    def get_visits(self):\n",
    "        folder_path = self.visit\n",
    "        to_concat = []\n",
    "        for path in folder_path.iterdir():\n",
    "            file = (\n",
    "                scan_file(path)\n",
    "                .filter(pl.col('ENC_HN').is_in(self.hn_list))\n",
    "                .select(pl.col(['ENC_HN', 'D001KEY', 'D108KEY']))\n",
    "                .pipe(parse_dates, 'D001KEY')\n",
    "            )\n",
    "            to_concat.append(file.collect(streaming=self.streaming))\n",
    "        self.visit_df = pl.concat(to_concat).unique()\n",
    "\n",
    "    def get_deaths(self):\n",
    "        folder_path = self.deaths\n",
    "        to_concat = []\n",
    "        for path in folder_path.iterdir():\n",
    "            file = (\n",
    "                scan_file(path)\n",
    "                .filter(pl.col('ENC_HN').is_in(self.hn_list))\n",
    "                .select(pl.col('ENC_HN', 'D001KEY')).pipe(parse_dates, 'D001KEY').rename({'D001KEY': 'Death_date'})\n",
    "            )\n",
    "            to_concat.append(file.collect(streaming=self.streaming))\n",
    "        self.deaths_df = pl.concat(to_concat).unique()\n",
    "\n",
    "    def get_dx(self, select: list = None):\n",
    "        folder_path = self.dx\n",
    "        to_concat = []\n",
    "        for path in folder_path.iterdir():\n",
    "            file = (\n",
    "                scan_file(path)\n",
    "                .filter(pl.col('ENC_HN').is_in(self.hn_list))\n",
    "                .select(pl.col(['ENC_HN', 'D001KEY', 'D035KEY']))\n",
    "                .pipe(parse_dates, 'D001KEY')\n",
    "            )\n",
    "            if select is not None:\n",
    "                file = file.filter(pl.col('D035KEY').is_in(select))\n",
    "            file = file.group_by(pl.col(['ENC_HN', 'D001KEY'])).agg(pl.col('D035KEY')).with_columns(pl.col('D035KEY').list.unique().list.sort().list.join(', '))\n",
    "            to_concat.append(file.collect(streaming=self.streaming))\n",
    "        self.dx_df = pl.concat(to_concat).unique()\n",
    "\n",
    "    def get_meds(self):\n",
    "        folder_path = self.bill\n",
    "        select = self.meds_to_select.to_series(1).to_list()\n",
    "        self.meds_to_select = self.meds_to_select.lazy()\n",
    "        to_concat = []\n",
    "        for path in folder_path.iterdir():\n",
    "            file = (\n",
    "                scan_file(path)\n",
    "                .filter(pl.col('ENC_HN').is_in(self.hn_list)))\n",
    "            if {'PER_DATE_2', 'SERVICE_ID', 'CAL_SER_AMT'}.issubset(file.columns):\n",
    "                file = file.rename({'PER_DATE_2': 'D001KEY', 'SERVICE_ID': 'D033KEY', 'CAL_SER_AMT': 'M1022'})\n",
    "            file = (\n",
    "                file\n",
    "                .select(pl.col(['ENC_HN', 'D001KEY', 'D033KEY', 'M1022']))\n",
    "                .pipe(parse_dates, 'D001KEY')\n",
    "            )\n",
    "\n",
    "            if select is not None:\n",
    "                file = (\n",
    "                    file\n",
    "                    .filter(pl.col('D033KEY').is_in(select))\n",
    "                    .join(self.meds_to_select.select(pl.col(['Drug_code', 'Class'])), left_on='D033KEY', right_on='Drug_code', how='left')\n",
    "                )\n",
    "\n",
    "            to_concat.append(file.collect(streaming=self.streaming))\n",
    "        \n",
    "        # pivot\n",
    "        self.meds_df = pl.concat(to_concat)\n",
    "        self.meds_df = self.meds_df.pivot(index=['ENC_HN', 'D001KEY'], values='M1022', columns='Class', aggregate_function='max').unique().with_columns(pl.col(['antihypertensive','antidiabetic','antidyslipidemic','anticlotting']).is_not_null())\n",
    "\n",
    "\n",
    "\n",
    "    def get_vs(self):\n",
    "        folder_path = self.vs\n",
    "        rename_long = {'RECORD': 'D001KEY', 'DIA': 'DBP', 'SYS': 'SBP', 'HRBP': 'HR'}\n",
    "        rename_wide = {'RECORDDATE': 'D001KEY', 'HIGH': 'HEIGHT', 'BW': 'WEIGHT'}\n",
    "        select = ['ENC_HN', 'D001KEY', 'SBP', 'DBP', 'HR', 'WEIGHT', 'HEIGHT', 'BMI']\n",
    "\n",
    "        to_concat = []\n",
    "        for path in folder_path.iterdir():\n",
    "            file = (\n",
    "                scan_file(path)\n",
    "                # .filter(pl.col('ENC_HN').is_in(self.hn_list))\n",
    "                )\n",
    "\n",
    "            # Must collect before pivot\n",
    "            file = file.collect(streaming=self.streaming)\n",
    "            \n",
    "            # There are two formats, wide and long\n",
    "            if len(file.columns) < 6:\n",
    "                file = file.pivot(values = 'TEST_VALUE', index = ['ENC_HN', 'RECORD'], columns='TEST_NAME', aggregate_function='max')\n",
    "                file = file.rename(rename_long)\n",
    "            else:\n",
    "                file = file.rename(rename_wide)\n",
    "\n",
    "            file = file.pipe(parse_dates, 'D001KEY').select(select).filter(pl.col('ENC_HN').is_in(self.hn_list))\n",
    "            to_concat.append(file)\n",
    "\n",
    "        \n",
    "        self.vs_df = pl.concat(to_concat).unique()\n",
    "\n",
    "\n",
    "    def get_demo(self):\n",
    "        folder_path = self.demo\n",
    "        cols = ['ENC_HN', 'D020AT3', 'H2L1KEY', 'H6L1KEY', 'H6L1DES']\n",
    "        new_col_names = ['ENC_HN', 'DOB', 'Sex', 'Province_ID', 'Province_Thai']\n",
    "        to_concat = []\n",
    "        for path in folder_path.iterdir():\n",
    "            file = scan_file(path)\n",
    "            if set(cols).issubset(set(file.columns)):\n",
    "                file = file.select(cols).collect(streaming=self.streaming).pipe(parse_dates, 'D020AT3') # New bug: only works in dataframes, so must collect first\n",
    "                to_concat.append(file)\n",
    "        self.demo_df = pl.concat(to_concat).unique()\n",
    "        self.demo_df = self.demo_df.rename(dict(zip(cols, new_col_names)))\n",
    "\n",
    "\n",
    "    def run_all(self):\n",
    "        print('start')\n",
    "        self.get_meds()\n",
    "        print('meds')\n",
    "        self.get_vs()\n",
    "        print('vs')\n",
    "        self.get_labs()\n",
    "        print('labs')\n",
    "        self.get_visits()\n",
    "        print('visit')\n",
    "        self.get_deaths()\n",
    "        print('deaths')\n",
    "        self.get_dx()\n",
    "        print('dx')\n",
    "        self.get_demo()\n",
    "        print('demo')\n",
    "        \n",
    "        self.ran_all = True\n",
    "\n",
    "    def merge(self):\n",
    "        if not self.ran_all:\n",
    "            raise Exception('Please run all first.')\n",
    "        \n",
    "        self.merged_df = (\n",
    "            self.visit_df\n",
    "            .join(self.vs_df, on=['ENC_HN', 'D001KEY'], how='outer_coalesce')\n",
    "            .join(self.dx_df, on=['ENC_HN', 'D001KEY'], how='outer_coalesce')\n",
    "            .join(self.meds_df, on=['ENC_HN', 'D001KEY'], how='outer_coalesce')\n",
    "            .join(self.lab_df, on=['ENC_HN', 'D001KEY'], how='outer_coalesce')\n",
    "            .join(self.deaths_df, on=['ENC_HN'], how='outer_coalesce')\n",
    "            .join(self.demo_df, on=['ENC_HN'], how='left')\n",
    "            .unique()\n",
    "        )\n",
    "\n",
    "        # Final Column Rename\n",
    "\n",
    "        self.merged_df = self.merged_df.rename({'D001KEY': 'Date', 'D035KEY': 'ICD10', 'D108KEY': 'Site'})\n",
    "    \n",
    "    def export(self) -> None:\n",
    "        if not self.ran_all:\n",
    "            raise Exception('Please run all first.')\n",
    "        self.file_name = self.export_folder / f'clopidogrel_with_TIA_warehouse_exported_jun24_{datetime.now().strftime('%d-%m-%Y')}'\n",
    "        print(f'Exporting {self.file_name}')\n",
    "        print(f'n = {self.merged_df['ENC_HN'].n_unique()}')\n",
    "        self.merged_df.write_parquet(self.file_name.with_suffix('.parquet.gzip'), compression='gzip')\n",
    "        print('Exported parquet')\n",
    "        self.merged_df.write_csv(self.file_name.with_suffix('.csv'))\n",
    "        print('Exported csv')\n",
    "        print('Complete')\n"
   ]
  },
  {
   "cell_type": "code",
   "execution_count": 4,
   "metadata": {},
   "outputs": [
    {
     "name": "stdout",
     "output_type": "stream",
     "text": [
      "2005-2009 not included.\n",
      "desktop not included.\n",
      "er_emr not included.\n",
      "readme not included.\n",
      "summary_discharge not included.\n",
      "start\n",
      "meds\n",
      "vs\n",
      "labs\n",
      "visit\n",
      "deaths\n",
      "dx\n",
      "demo\n",
      "Exporting ..\\output\\Jun24\\wh\\intermediate\\clopidogrel_with_TIA_warehouse_exported_jun24_11-11-2024\n",
      "n = 1112\n",
      "Exported parquet\n",
      "Exported csv\n",
      "Complete\n"
     ]
    }
   ],
   "source": [
    "s = ClopidogrelStrokeWarehouse(hn_list=intermediate_hn, folder=r\"D:\\Datalake\\Data\\20240630_fu_nc\")\n",
    "s.run_all()\n",
    "s.merge()\n",
    "s.export()"
   ]
  },
  {
   "cell_type": "code",
   "execution_count": 5,
   "metadata": {},
   "outputs": [
    {
     "data": {
      "text/plain": [
       "(132273, 27)"
      ]
     },
     "execution_count": 5,
     "metadata": {},
     "output_type": "execute_result"
    }
   ],
   "source": [
    "s.merged_df.shape # 2023 was (91224, 27) 2024 is (96696, 27)"
   ]
  },
  {
   "cell_type": "markdown",
   "metadata": {},
   "source": [
    "---"
   ]
  },
  {
   "cell_type": "markdown",
   "metadata": {},
   "source": [
    "Added Nov 2024:\n",
    "\n",
    "### More Exclusion Criteria\n",
    "#### Already excluded above:\n",
    "- OAC\n",
    "- AFib\n",
    "  \n",
    "#### To Do\n",
    "- Cardioembolism I634\n",
    "- Malignancies C00 - C97\n",
    "- Hepatic disease K70 - K77\n",
    "- eGFR < 30\n",
    "- Plt < 100k or > 450k\n",
    "- Hct < 25%\n",
    "- Acute illness / Drug abuse / Sickle cell / Cognitive impairments --- not excluded here.\n",
    "\n",
    "And add deaths.\n",
    "\n",
    "```exclude_more_re = '^I634|^C|^K7'```\n",
    "\n"
   ]
  },
  {
   "cell_type": "code",
   "execution_count": 6,
   "metadata": {},
   "outputs": [],
   "source": [
    "df = s.merged_df # Or load file\n",
    "exclude_more_re = '^I634|^C|^K7'"
   ]
  },
  {
   "cell_type": "code",
   "execution_count": 7,
   "metadata": {},
   "outputs": [
    {
     "data": {
      "text/plain": [
       "1112"
      ]
     },
     "execution_count": 7,
     "metadata": {},
     "output_type": "execute_result"
    }
   ],
   "source": [
    "df['ENC_HN'].n_unique()"
   ]
  },
  {
   "cell_type": "code",
   "execution_count": 8,
   "metadata": {},
   "outputs": [
    {
     "name": "stdout",
     "output_type": "stream",
     "text": [
      "192\n"
     ]
    }
   ],
   "source": [
    "hn_icd_excl = df.filter(pl.col('ICD10').str.contains(exclude_more_re)).to_series().unique().to_list()\n",
    "print(len(hn_icd_excl))"
   ]
  },
  {
   "cell_type": "code",
   "execution_count": 9,
   "metadata": {},
   "outputs": [
    {
     "name": "stdout",
     "output_type": "stream",
     "text": [
      "317\n"
     ]
    }
   ],
   "source": [
    "hn_lab_excl = df.filter(\n",
    "    (pl.col('Plt') < 100) |\n",
    "    (pl.col('Plt') > 450) |\n",
    "    (pl.col('Hct') < 25) |\n",
    "    (pl.col('eGFR') < 30)\n",
    ").to_series().unique().to_list()\n",
    "\n",
    "print(len(hn_lab_excl))"
   ]
  },
  {
   "cell_type": "code",
   "execution_count": 10,
   "metadata": {},
   "outputs": [
    {
     "name": "stdout",
     "output_type": "stream",
     "text": [
      "411\n"
     ]
    }
   ],
   "source": [
    "hn_excl = set(hn_icd_excl) | set(hn_lab_excl)\n",
    "print(len(hn_excl))"
   ]
  },
  {
   "cell_type": "code",
   "execution_count": 11,
   "metadata": {},
   "outputs": [
    {
     "name": "stdout",
     "output_type": "stream",
     "text": [
      "701\n"
     ]
    }
   ],
   "source": [
    "df_final = df.filter(~pl.col('ENC_HN').is_in(hn_excl))\n",
    "hn_final = set(df_final['ENC_HN'])\n",
    "print(len(hn_final))"
   ]
  },
  {
   "cell_type": "markdown",
   "metadata": {},
   "source": [
    "Readmissions"
   ]
  },
  {
   "cell_type": "code",
   "execution_count": 14,
   "metadata": {},
   "outputs": [
    {
     "name": "stdout",
     "output_type": "stream",
     "text": [
      "No readmissions: 613\n",
      "Readmissions: 88\n"
     ]
    }
   ],
   "source": [
    "readmissions = pl.read_csv(r'D:\\Prut\\Warehouses\\output\\Jun24\\wh\\intermediate\\readmission_df_with_TIA.csv')['ENC_HN']\n",
    "no_readmissions = hn_final - set(readmissions)\n",
    "print('No readmissions:', len(no_readmissions))\n",
    "readmissions = hn_final - no_readmissions\n",
    "print('Readmissions:', len(readmissions))"
   ]
  },
  {
   "cell_type": "code",
   "execution_count": 16,
   "metadata": {},
   "outputs": [
    {
     "name": "stdout",
     "output_type": "stream",
     "text": [
      "No readmissions-deaths: 7\n",
      "No readmissions-death percentage: 1.142%\n",
      "Readmissions-deaths: 1\n",
      "Readmissions-death percentage: 1.136%\n"
     ]
    }
   ],
   "source": [
    "no_readmissions_deaths = df_final.filter(pl.col('ENC_HN').is_in(no_readmissions)).filter(pl.col('Death_date').is_not_null())['ENC_HN'].unique()\n",
    "print('No readmissions-deaths:', len(no_readmissions_deaths))\n",
    "print(f'No readmissions-death percentage: {len(no_readmissions_deaths) / len(no_readmissions):.3%}')\n",
    "readmissions_deaths = df_final.filter(pl.col('ENC_HN').is_in(readmissions)).filter(pl.col('Death_date').is_not_null())['ENC_HN'].unique()\n",
    "print('Readmissions-deaths:', len(readmissions_deaths))\n",
    "print(f'Readmissions-death percentage: {len(readmissions_deaths) / len(readmissions):.3%}')"
   ]
  },
  {
   "cell_type": "code",
   "execution_count": null,
   "metadata": {},
   "outputs": [],
   "source": []
  }
 ],
 "metadata": {
  "kernelspec": {
   "display_name": "prut",
   "language": "python",
   "name": "python3"
  },
  "language_info": {
   "codemirror_mode": {
    "name": "ipython",
    "version": 3
   },
   "file_extension": ".py",
   "mimetype": "text/x-python",
   "name": "python",
   "nbconvert_exporter": "python",
   "pygments_lexer": "ipython3",
   "version": "3.12.1"
  }
 },
 "nbformat": 4,
 "nbformat_minor": 2
}
