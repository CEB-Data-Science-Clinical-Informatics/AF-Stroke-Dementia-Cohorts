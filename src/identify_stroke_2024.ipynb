{
 "cells": [
  {
   "cell_type": "code",
   "execution_count": 45,
   "metadata": {},
   "outputs": [
    {
     "name": "stdout",
     "output_type": "stream",
     "text": [
      "len(prevprev_hn) = 27735\n",
      "len(prev_hn) = 28810\n"
     ]
    }
   ],
   "source": [
    "from folder import StandardFolder\n",
    "from polars_utils import *\n",
    "\n",
    "import polars as pl\n",
    "from pathlib import Path\n",
    "\n",
    "prevprev_hn = pl.read_csv('D:/Prut/Warehouses/output/Dec23/n/Stroke/stroke_n_updatedSep2023_28112023.csv').to_series().to_list()\n",
    "print(f'{len(prevprev_hn) = }')\n",
    "\n",
    "PREV_PATH = 'D:/Prut/Warehouses/output/Dec23/n/Stroke/stroke_n_updated_05032024.csv'\n",
    "\n",
    "prev_hn = pl.read_csv(PREV_PATH).to_series().to_list()\n",
    "print(f'{len(prev_hn) = }')"
   ]
  },
  {
   "cell_type": "code",
   "execution_count": 46,
   "metadata": {},
   "outputs": [],
   "source": [
    "class StrokeIdentify(StandardFolder):\n",
    "    def __init__(self, folder: str, streaming: bool = True) -> None:\n",
    "        super().__init__(folder)\n",
    "        self.streaming = streaming\n",
    "        self.export_folder = Path('../output/Jun24/wh/complete')\n",
    "        self.select_dx = [f'I6{i}' for i in range(10)] + ['G45']\n",
    "        self.select_dx_re = '^' + '|^'.join(self.select_dx)\n",
    "        # self.prev_hn = pl.read_csv('D:/Prut/Warehouses/output/Dec23/n/Stroke/stroke_n_updatedSep2023_28112023.csv').to_series().to_list()\n",
    "        self.ran_all = False\n",
    "\n",
    "    def get_dx(self, select: list = None):\n",
    "        folder_path = self.dx\n",
    "        to_concat = []\n",
    "        for path in folder_path.iterdir():\n",
    "            file = (\n",
    "                scan_file(path)\n",
    "                .select(pl.col(['ENC_HN', 'D001KEY', 'D035KEY']))\n",
    "                .pipe(parse_dates, 'D001KEY')\n",
    "            )\n",
    "            if select is not None:\n",
    "                file = file.filter(pl.col('D035KEY').str.contains(self.select_dx_re))\n",
    "            file = file.group_by(pl.col(['ENC_HN', 'D001KEY'])).agg(pl.col('D035KEY')).with_columns(pl.col('D035KEY').list.unique().list.sort().list.join(', '))\n",
    "            to_concat.append(file.collect(streaming=self.streaming))\n",
    "        self.dx_df = pl.concat(to_concat).unique()\n",
    "\n",
    "\n",
    "    def get_demo(self):\n",
    "        folder_path = self.demo\n",
    "        # cols = ['ENC_HN', 'D020AT3', 'H2L1KEY', 'H6L1KEY', 'H6L1DES']\n",
    "        cols = ['ENC_HN', 'D020AT3']\n",
    "        # new_col_names = ['ENC_HN', 'DOB', 'Sex', 'Province_ID', 'Province_Thai']\n",
    "        new_col_names = ['ENC_HN', 'DOB']\n",
    "        to_concat = []\n",
    "        for path in folder_path.iterdir():\n",
    "            file = scan_file(path)\n",
    "            if set(cols).issubset(set(file.columns)):\n",
    "                file = file.select(cols).collect(streaming=self.streaming).pipe(parse_dates, 'D020AT3') # New bug: only works in dataframes, so must collect first\n",
    "                to_concat.append(file)\n",
    "        self.demo_df = pl.concat(to_concat).unique()\n",
    "        self.demo_df = self.demo_df.rename(dict(zip(cols, new_col_names)))\n",
    "\n",
    "    def run_all(self):\n",
    "        self.get_dx(select=self.select_dx)\n",
    "        print('dx')\n",
    "        self.get_demo()\n",
    "        print('demo')\n",
    "        \n",
    "        self.ran_all = True\n",
    "\n",
    "    def merge(self):\n",
    "        if not self.ran_all:\n",
    "            raise Exception('Please run all first.')\n",
    "        \n",
    "        self.merged_df = (\n",
    "            self.dx_df\n",
    "            .join(self.demo_df, on=['ENC_HN'], how='left')\n",
    "            .unique()\n",
    "            \n",
    "        )\n",
    "\n",
    "\n",
    "        # Remove previous\n",
    "            # .pipe(self.remove_previous_hn)\n",
    "            # .pipe(print_n)\n",
    "            # Clip dates\n",
    "            # .pipe(clip_dates, date_col='D001KEY', start_month=7, start_year=2023, end_month=12, end_year=2023)\n",
    "            # .pipe(print_n)\n",
    "\n"
   ]
  },
  {
   "cell_type": "code",
   "execution_count": 47,
   "metadata": {},
   "outputs": [
    {
     "name": "stdout",
     "output_type": "stream",
     "text": [
      "er_emr not included.\n",
      "summary_discharge not included.\n",
      "dimension table not included.\n",
      "dx\n",
      "demo\n"
     ]
    }
   ],
   "source": [
    "# Cases in our other cohorts\n",
    "FOLDER_OC = \"H:/Shared drives/Datalake/Data/20240630_fu\"\n",
    "# Cases not in any cohorts, i.e. new cases\n",
    "FOLDER_NC = \"H:/Shared drives/Datalake/Loosely_criteria_data/newcase_202406(Jan-June2024)/Data for new case iden 202406\"\n",
    "\n",
    "s1 = StrokeIdentify(folder=FOLDER_OC)\n",
    "s1.run_all()\n",
    "s1.merge()"
   ]
  },
  {
   "cell_type": "code",
   "execution_count": 48,
   "metadata": {},
   "outputs": [
    {
     "data": {
      "text/html": [
       "<div><style>\n",
       ".dataframe > thead > tr,\n",
       ".dataframe > tbody > tr {\n",
       "  text-align: right;\n",
       "  white-space: pre-wrap;\n",
       "}\n",
       "</style>\n",
       "<small>shape: (305_815, 4)</small><table border=\"1\" class=\"dataframe\"><thead><tr><th>ENC_HN</th><th>D001KEY</th><th>D035KEY</th><th>DOB</th></tr><tr><td>str</td><td>date</td><td>str</td><td>date</td></tr></thead><tbody><tr><td>&quot;74CBCEF52D1992…</td><td>2014-02-06</td><td>&quot;I693&quot;</td><td>1939-07-05</td></tr><tr><td>&quot;5F49688AD67C70…</td><td>2014-09-29</td><td>&quot;I693&quot;</td><td>1945-01-01</td></tr><tr><td>&quot;717DC3A956DD17…</td><td>2014-03-31</td><td>&quot;I694&quot;</td><td>1936-03-03</td></tr><tr><td>&quot;77CEFE38B88F9B…</td><td>2014-08-23</td><td>&quot;I678&quot;</td><td>1945-08-23</td></tr><tr><td>&quot;6FF6F4B3B13210…</td><td>2014-09-15</td><td>&quot;I693&quot;</td><td>1949-06-26</td></tr><tr><td>&quot;3AFED8E1C41060…</td><td>2014-06-14</td><td>&quot;I64&quot;</td><td>1940-01-15</td></tr><tr><td>&quot;6BDC5C378327A4…</td><td>2014-08-08</td><td>&quot;I694&quot;</td><td>1929-01-01</td></tr><tr><td>&quot;59C7F8592B38CF…</td><td>2014-12-22</td><td>&quot;I693&quot;</td><td>1947-04-15</td></tr><tr><td>&quot;CA44EB0C31B69A…</td><td>2014-05-15</td><td>&quot;I694&quot;</td><td>1948-01-01</td></tr><tr><td>&quot;FE277D635C2305…</td><td>2014-02-05</td><td>&quot;I693&quot;</td><td>1941-03-03</td></tr><tr><td>&quot;C2D03C09FBFA3F…</td><td>2014-02-05</td><td>&quot;I639&quot;</td><td>1938-04-04</td></tr><tr><td>&quot;2421FC23F38426…</td><td>2014-07-15</td><td>&quot;I693, I694&quot;</td><td>1944-01-26</td></tr><tr><td>&hellip;</td><td>&hellip;</td><td>&hellip;</td><td>&hellip;</td></tr><tr><td>&quot;13EAE811FB2105…</td><td>2010-01-27</td><td>&quot;I64&quot;</td><td>1925-11-25</td></tr><tr><td>&quot;78506134C5963D…</td><td>2010-02-04</td><td>&quot;I694&quot;</td><td>1948-09-06</td></tr><tr><td>&quot;CC506DEC42FFA8…</td><td>2010-09-16</td><td>&quot;I634&quot;</td><td>1937-05-07</td></tr><tr><td>&quot;F08838E62D4235…</td><td>2010-04-10</td><td>&quot;I633&quot;</td><td>1941-08-28</td></tr><tr><td>&quot;A7BAB8D056C16E…</td><td>2010-01-26</td><td>&quot;I64&quot;</td><td>1938-01-01</td></tr><tr><td>&quot;AC2FF53DF63C74…</td><td>2010-09-02</td><td>&quot;I64&quot;</td><td>1980-05-07</td></tr><tr><td>&quot;74EFA2E98CF504…</td><td>2010-11-01</td><td>&quot;I64&quot;</td><td>1951-02-13</td></tr><tr><td>&quot;7E320123969936…</td><td>2010-03-27</td><td>&quot;I64&quot;</td><td>1951-10-25</td></tr><tr><td>&quot;E216A63F4EBC54…</td><td>2010-01-04</td><td>&quot;I671&quot;</td><td>1991-10-10</td></tr><tr><td>&quot;C0FD33C78C588C…</td><td>2010-03-03</td><td>&quot;I693&quot;</td><td>1938-01-01</td></tr><tr><td>&quot;59E160D204E1E4…</td><td>2010-07-10</td><td>&quot;I693&quot;</td><td>1927-01-01</td></tr><tr><td>&quot;C1B3563BB1B230…</td><td>2010-05-07</td><td>&quot;I64&quot;</td><td>1927-01-01</td></tr></tbody></table></div>"
      ],
      "text/plain": [
       "shape: (305_815, 4)\n",
       "┌───────────────────────────────────┬────────────┬─────────┬────────────┐\n",
       "│ ENC_HN                            ┆ D001KEY    ┆ D035KEY ┆ DOB        │\n",
       "│ ---                               ┆ ---        ┆ ---     ┆ ---        │\n",
       "│ str                               ┆ date       ┆ str     ┆ date       │\n",
       "╞═══════════════════════════════════╪════════════╪═════════╪════════════╡\n",
       "│ 74CBCEF52D199220195608C9F14383AE… ┆ 2014-02-06 ┆ I693    ┆ 1939-07-05 │\n",
       "│ 5F49688AD67C7093C4E968961B5CF5F2… ┆ 2014-09-29 ┆ I693    ┆ 1945-01-01 │\n",
       "│ 717DC3A956DD17BCF5D0C067196D8F88… ┆ 2014-03-31 ┆ I694    ┆ 1936-03-03 │\n",
       "│ 77CEFE38B88F9BE5BCC53FE766BECBD5… ┆ 2014-08-23 ┆ I678    ┆ 1945-08-23 │\n",
       "│ 6FF6F4B3B1321001835D6214DFCBD9AA… ┆ 2014-09-15 ┆ I693    ┆ 1949-06-26 │\n",
       "│ …                                 ┆ …          ┆ …       ┆ …          │\n",
       "│ 7E320123969936D826879C8C2F805E21… ┆ 2010-03-27 ┆ I64     ┆ 1951-10-25 │\n",
       "│ E216A63F4EBC54F20BD55720C74A8E28… ┆ 2010-01-04 ┆ I671    ┆ 1991-10-10 │\n",
       "│ C0FD33C78C588C89B274094D3BF6E65D… ┆ 2010-03-03 ┆ I693    ┆ 1938-01-01 │\n",
       "│ 59E160D204E1E4317BC37B291AB35EA5… ┆ 2010-07-10 ┆ I693    ┆ 1927-01-01 │\n",
       "│ C1B3563BB1B23085F84384CB7A3F5050… ┆ 2010-05-07 ┆ I64     ┆ 1927-01-01 │\n",
       "└───────────────────────────────────┴────────────┴─────────┴────────────┘"
      ]
     },
     "execution_count": 48,
     "metadata": {},
     "output_type": "execute_result"
    }
   ],
   "source": [
    "s1.merged_df"
   ]
  },
  {
   "cell_type": "code",
   "execution_count": 49,
   "metadata": {},
   "outputs": [
    {
     "name": "stdout",
     "output_type": "stream",
     "text": [
      "ok\n"
     ]
    },
    {
     "data": {
      "text/html": [
       "<div><style>\n",
       ".dataframe > thead > tr,\n",
       ".dataframe > tbody > tr {\n",
       "  text-align: right;\n",
       "  white-space: pre-wrap;\n",
       "}\n",
       "</style>\n",
       "<small>shape: (15_280, 4)</small><table border=\"1\" class=\"dataframe\"><thead><tr><th>ENC_HN</th><th>D001KEY</th><th>D035KEY</th><th>DOB</th></tr><tr><td>str</td><td>date</td><td>str</td><td>date</td></tr></thead><tbody><tr><td>&quot;9C721641945228…</td><td>2024-03-14</td><td>&quot;I652&quot;</td><td>1955-05-21</td></tr><tr><td>&quot;0E9D652F91BF79…</td><td>2024-03-18</td><td>&quot;I64&quot;</td><td>1950-01-01</td></tr><tr><td>&quot;76D1BA7E6612F6…</td><td>2024-03-21</td><td>&quot;I639, I679&quot;</td><td>1962-07-03</td></tr><tr><td>&quot;44E92E20FEFFE7…</td><td>2024-01-22</td><td>&quot;G450&quot;</td><td>1949-12-03</td></tr><tr><td>&quot;9B48572F991B2B…</td><td>2024-01-18</td><td>&quot;I693&quot;</td><td>1944-12-08</td></tr><tr><td>&quot;04B0F3CCBF7F8B…</td><td>2024-01-27</td><td>&quot;I694&quot;</td><td>1951-01-06</td></tr><tr><td>&quot;714668A5EE9F9A…</td><td>2024-01-10</td><td>&quot;I694&quot;</td><td>1953-01-01</td></tr><tr><td>&quot;F32DC80AC33863…</td><td>2024-02-15</td><td>&quot;I694&quot;</td><td>1943-01-02</td></tr><tr><td>&quot;0103044B31145C…</td><td>2024-02-22</td><td>&quot;I608&quot;</td><td>2009-12-02</td></tr><tr><td>&quot;00D41C89613516…</td><td>2024-04-29</td><td>&quot;I694&quot;</td><td>1929-01-01</td></tr><tr><td>&quot;BC7D39FE13E1EE…</td><td>2024-04-10</td><td>&quot;I652, I694&quot;</td><td>1975-01-19</td></tr><tr><td>&quot;FA1A6133337519…</td><td>2024-04-03</td><td>&quot;I691&quot;</td><td>1956-03-20</td></tr><tr><td>&hellip;</td><td>&hellip;</td><td>&hellip;</td><td>&hellip;</td></tr><tr><td>&quot;05F1CD6551F2BA…</td><td>2024-06-16</td><td>&quot;I694&quot;</td><td>1942-04-04</td></tr><tr><td>&quot;812B21BE4EDDE6…</td><td>2024-06-13</td><td>&quot;I694&quot;</td><td>1962-06-27</td></tr><tr><td>&quot;BAEE5724E8DC21…</td><td>2024-06-03</td><td>&quot;I694&quot;</td><td>1966-07-17</td></tr><tr><td>&quot;CD1B0DCFDE0F90…</td><td>2024-01-10</td><td>&quot;I694&quot;</td><td>1944-02-04</td></tr><tr><td>&quot;DEECDC4CBCBC48…</td><td>2024-01-05</td><td>&quot;I691&quot;</td><td>1943-12-10</td></tr><tr><td>&quot;CBF04AF21FDD00…</td><td>2024-02-22</td><td>&quot;G459&quot;</td><td>1960-12-27</td></tr><tr><td>&quot;EDF08D2EA40C30…</td><td>2024-02-23</td><td>&quot;I694&quot;</td><td>1947-08-12</td></tr><tr><td>&quot;8442D5024DEE62…</td><td>2024-02-01</td><td>&quot;G459&quot;</td><td>1949-01-01</td></tr><tr><td>&quot;4F8EB6855DC596…</td><td>2024-02-21</td><td>&quot;I694&quot;</td><td>1954-01-01</td></tr><tr><td>&quot;0BECCF7C03CC91…</td><td>2024-05-02</td><td>&quot;I694&quot;</td><td>1949-03-26</td></tr><tr><td>&quot;C56ABFF9A0BA27…</td><td>2024-06-04</td><td>&quot;I694&quot;</td><td>1963-10-11</td></tr><tr><td>&quot;9110061146467F…</td><td>2024-06-12</td><td>&quot;I64&quot;</td><td>1941-02-13</td></tr></tbody></table></div>"
      ],
      "text/plain": [
       "shape: (15_280, 4)\n",
       "┌───────────────────────────────────┬────────────┬────────────┬────────────┐\n",
       "│ ENC_HN                            ┆ D001KEY    ┆ D035KEY    ┆ DOB        │\n",
       "│ ---                               ┆ ---        ┆ ---        ┆ ---        │\n",
       "│ str                               ┆ date       ┆ str        ┆ date       │\n",
       "╞═══════════════════════════════════╪════════════╪════════════╪════════════╡\n",
       "│ 9C72164194522846A920D1D5E228342D… ┆ 2024-03-14 ┆ I652       ┆ 1955-05-21 │\n",
       "│ 0E9D652F91BF7908541772D9DB0CD809… ┆ 2024-03-18 ┆ I64        ┆ 1950-01-01 │\n",
       "│ 76D1BA7E6612F665AE9B43B65A9330FD… ┆ 2024-03-21 ┆ I639, I679 ┆ 1962-07-03 │\n",
       "│ 44E92E20FEFFE7DB3679B5248596C913… ┆ 2024-01-22 ┆ G450       ┆ 1949-12-03 │\n",
       "│ 9B48572F991B2BFED91686F69FADE596… ┆ 2024-01-18 ┆ I693       ┆ 1944-12-08 │\n",
       "│ …                                 ┆ …          ┆ …          ┆ …          │\n",
       "│ 8442D5024DEE621ED3532F564AA8A3DF… ┆ 2024-02-01 ┆ G459       ┆ 1949-01-01 │\n",
       "│ 4F8EB6855DC596D488C486D5DA29B68E… ┆ 2024-02-21 ┆ I694       ┆ 1954-01-01 │\n",
       "│ 0BECCF7C03CC9192B7AE4B555F493CF2… ┆ 2024-05-02 ┆ I694       ┆ 1949-03-26 │\n",
       "│ C56ABFF9A0BA273A4F8AC900C649CAB8… ┆ 2024-06-04 ┆ I694       ┆ 1963-10-11 │\n",
       "│ 9110061146467F951A4D3B90E60A75C9… ┆ 2024-06-12 ┆ I64        ┆ 1941-02-13 │\n",
       "└───────────────────────────────────┴────────────┴────────────┴────────────┘"
      ]
     },
     "execution_count": 49,
     "metadata": {},
     "output_type": "execute_result"
    }
   ],
   "source": [
    "# Folder is different in structure again!!! must do separaely.\n",
    "s2 = pl.read_parquet(r\"H:\\Shared drives\\Datalake\\Loosely_criteria_data\\newcase_202406(Jan-June2024)\\Data for new case iden 202406\\Diagnosis\\DX_202401_202406_encoded.parquet.gzip\")\n",
    "dob = s2.select(pl.col(['ENC_HN', 'D020AT3'])).pipe(parse_dates, 'D020AT3')\n",
    "s2 = (\n",
    "    s2\n",
    "    .select(pl.col(['ENC_HN', 'D001KEY', 'D035KEY', 'D020AT3']))\n",
    "    .pipe(parse_dates, 'D001KEY')\n",
    "    .pipe(parse_dates, 'D020AT3')\n",
    ")\n",
    "\n",
    "select = s1.select_dx\n",
    "select_dx_re = '^' + '|^'.join(select)\n",
    "s2 = s2.filter(pl.col('D035KEY').str.contains(select_dx_re))\n",
    "s2 = s2.group_by(pl.col(['ENC_HN', 'D001KEY'])).agg(pl.col('D035KEY')).with_columns(pl.col('D035KEY').list.unique().list.sort().list.join(', '))\n",
    "s2 = s2.join(dob, on=['ENC_HN'], how='left').unique()\n",
    "s2 = s2.rename({'D020AT3': 'DOB'})\n",
    "print('ok')\n",
    "s2"
   ]
  },
  {
   "cell_type": "code",
   "execution_count": 50,
   "metadata": {},
   "outputs": [
    {
     "data": {
      "text/html": [
       "<div><style>\n",
       ".dataframe > thead > tr,\n",
       ".dataframe > tbody > tr {\n",
       "  text-align: right;\n",
       "  white-space: pre-wrap;\n",
       "}\n",
       "</style>\n",
       "<small>shape: (306_872, 4)</small><table border=\"1\" class=\"dataframe\"><thead><tr><th>ENC_HN</th><th>D001KEY</th><th>D035KEY</th><th>DOB</th></tr><tr><td>str</td><td>date</td><td>str</td><td>date</td></tr></thead><tbody><tr><td>&quot;4C2CEC5CC61AF2…</td><td>2020-06-18</td><td>&quot;G459&quot;</td><td>1957-12-16</td></tr><tr><td>&quot;F04BB1DD15D6A6…</td><td>2023-02-16</td><td>&quot;I693&quot;</td><td>1942-04-30</td></tr><tr><td>&quot;21B2BF9CCAD23D…</td><td>2022-04-04</td><td>&quot;I610&quot;</td><td>1963-06-23</td></tr><tr><td>&quot;DD6F676AFA60DE…</td><td>2018-07-12</td><td>&quot;I694&quot;</td><td>1944-04-10</td></tr><tr><td>&quot;36AE0BA4A35ACC…</td><td>2018-02-09</td><td>&quot;I64&quot;</td><td>1976-01-02</td></tr><tr><td>&quot;8AE2BE66E16A1D…</td><td>2016-08-31</td><td>&quot;G450&quot;</td><td>1951-10-09</td></tr><tr><td>&quot;61614D50F2AD42…</td><td>2017-10-09</td><td>&quot;I694&quot;</td><td>1949-07-05</td></tr><tr><td>&quot;499733E61033C0…</td><td>2013-04-30</td><td>&quot;I694&quot;</td><td>1943-01-01</td></tr><tr><td>&quot;D91498A2E8BAE1…</td><td>2020-07-15</td><td>&quot;I620&quot;</td><td>2004-10-31</td></tr><tr><td>&quot;C11183776C8F40…</td><td>2024-01-16</td><td>&quot;I694&quot;</td><td>1953-09-12</td></tr><tr><td>&quot;68A172ECA88750…</td><td>2024-03-19</td><td>&quot;I693&quot;</td><td>1943-02-14</td></tr><tr><td>&quot;55220F72940001…</td><td>2022-02-28</td><td>&quot;I693&quot;</td><td>1957-03-11</td></tr><tr><td>&hellip;</td><td>&hellip;</td><td>&hellip;</td><td>&hellip;</td></tr><tr><td>&quot;DBA52E240A7A73…</td><td>2024-04-18</td><td>&quot;I671&quot;</td><td>1965-06-21</td></tr><tr><td>&quot;DA683B5DDF3D9D…</td><td>2024-06-05</td><td>&quot;I691&quot;</td><td>1987-01-18</td></tr><tr><td>&quot;18A83F5EA2F516…</td><td>2024-05-15</td><td>&quot;I64&quot;</td><td>2009-11-14</td></tr><tr><td>&quot;DBA52E240A7A73…</td><td>2024-03-08</td><td>&quot;I671&quot;</td><td>1965-06-21</td></tr><tr><td>&quot;CE664AD779E29F…</td><td>2024-03-08</td><td>&quot;I64&quot;</td><td>1933-01-01</td></tr><tr><td>&quot;6C9E86AD81C270…</td><td>2024-04-06</td><td>&quot;I694&quot;</td><td>1942-01-01</td></tr><tr><td>&quot;C7B2B352ECC427…</td><td>2024-05-08</td><td>&quot;I694&quot;</td><td>1956-03-14</td></tr><tr><td>&quot;2499D69D39B71B…</td><td>2024-06-09</td><td>&quot;I694&quot;</td><td>1927-01-01</td></tr><tr><td>&quot;A2131B448F4769…</td><td>2024-06-28</td><td>&quot;I694&quot;</td><td>1959-09-20</td></tr><tr><td>&quot;BD0EA02142F6B4…</td><td>2024-05-10</td><td>&quot;I610, I64&quot;</td><td>1968-11-02</td></tr><tr><td>&quot;D9DA352DF4A32E…</td><td>2024-03-11</td><td>&quot;I64&quot;</td><td>1995-06-14</td></tr><tr><td>&quot;38BF85F2EE6F48…</td><td>2024-06-25</td><td>&quot;I694&quot;</td><td>1948-10-23</td></tr></tbody></table></div>"
      ],
      "text/plain": [
       "shape: (306_872, 4)\n",
       "┌───────────────────────────────────┬────────────┬───────────┬────────────┐\n",
       "│ ENC_HN                            ┆ D001KEY    ┆ D035KEY   ┆ DOB        │\n",
       "│ ---                               ┆ ---        ┆ ---       ┆ ---        │\n",
       "│ str                               ┆ date       ┆ str       ┆ date       │\n",
       "╞═══════════════════════════════════╪════════════╪═══════════╪════════════╡\n",
       "│ 4C2CEC5CC61AF2A00926BA6996E6F628… ┆ 2020-06-18 ┆ G459      ┆ 1957-12-16 │\n",
       "│ F04BB1DD15D6A682F67FE859929FDB36… ┆ 2023-02-16 ┆ I693      ┆ 1942-04-30 │\n",
       "│ 21B2BF9CCAD23D3F69F1517F0B2FDDCE… ┆ 2022-04-04 ┆ I610      ┆ 1963-06-23 │\n",
       "│ DD6F676AFA60DEC4C5160389EBDF61DB… ┆ 2018-07-12 ┆ I694      ┆ 1944-04-10 │\n",
       "│ 36AE0BA4A35ACCFE9744298BA67529C4… ┆ 2018-02-09 ┆ I64       ┆ 1976-01-02 │\n",
       "│ …                                 ┆ …          ┆ …         ┆ …          │\n",
       "│ 2499D69D39B71BA0935E225ACC02706F… ┆ 2024-06-09 ┆ I694      ┆ 1927-01-01 │\n",
       "│ A2131B448F47698791B6C952FD52929B… ┆ 2024-06-28 ┆ I694      ┆ 1959-09-20 │\n",
       "│ BD0EA02142F6B49C4D3C922E43075D4A… ┆ 2024-05-10 ┆ I610, I64 ┆ 1968-11-02 │\n",
       "│ D9DA352DF4A32E47C92D4F5B8B306044… ┆ 2024-03-11 ┆ I64       ┆ 1995-06-14 │\n",
       "│ 38BF85F2EE6F4809A4DBFDD3EA8C766C… ┆ 2024-06-25 ┆ I694      ┆ 1948-10-23 │\n",
       "└───────────────────────────────────┴────────────┴───────────┴────────────┘"
      ]
     },
     "execution_count": 50,
     "metadata": {},
     "output_type": "execute_result"
    }
   ],
   "source": [
    "# merge s1 s2\n",
    "merged_df = pl.concat([s1.merged_df, s2]).unique()\n",
    "merged_df"
   ]
  },
  {
   "cell_type": "markdown",
   "metadata": {},
   "source": [
    "Due to rules set by others on how to draw the flowchart, the following functions cannot be incorporated above."
   ]
  },
  {
   "cell_type": "code",
   "execution_count": 51,
   "metadata": {},
   "outputs": [],
   "source": [
    "def remove_previous_hn(lf: pl.LazyFrame, prev_hn=prev_hn) -> pl.LazyFrame:\n",
    "    return lf.filter(~pl.col('ENC_HN').is_in(prev_hn))\n",
    "\n",
    "def print_n(df: pl.DataFrame) -> pl.DataFrame:\n",
    "        print(df['ENC_HN'].n_unique())\n",
    "        return df\n",
    "\n",
    "def remove_previous_stroke(df: pl.DataFrame) -> pl.DataFrame:\n",
    "    # Remove patients who are diagnosed with stroke before entering the cohort\n",
    "    return df.sort('D001KEY').group_by('ENC_HN', maintain_order=True).first().filter(~pl.col('D035KEY').map_elements(lambda x: 'I69' in x))\n"
   ]
  },
  {
   "cell_type": "code",
   "execution_count": 52,
   "metadata": {},
   "outputs": [
    {
     "name": "stdout",
     "output_type": "stream",
     "text": [
      "2547\n",
      "1006\n",
      "983\n",
      "29793\n"
     ]
    },
    {
     "name": "stderr",
     "output_type": "stream",
     "text": [
      "C:\\Users\\PC5\\AppData\\Local\\Temp\\ipykernel_10464\\1560725653.py:10: PolarsInefficientMapWarning: \n",
      "Expr.map_elements is significantly slower than the native expressions API.\n",
      "Only use if you absolutely CANNOT implement your logic otherwise.\n",
      "Replace this expression...\n",
      "  - pl.col(\"D035KEY\").map_elements(lambda x: ...)\n",
      "with this one instead:\n",
      "  + 'I69'.is_in(pl.col(\"D035KEY\"))\n",
      "\n",
      "  return df.sort('D001KEY').group_by('ENC_HN', maintain_order=True).first().filter(~pl.col('D035KEY').map_elements(lambda x: 'I69' in x))\n"
     ]
    }
   ],
   "source": [
    "# Flow box 1\n",
    "merged_df.pipe(clip_dates, date_col='D001KEY', start_month=1, start_year=2024, end_month=6, end_day=30, end_year=2024).pipe(remove_previous_hn).pipe(print_n)\n",
    "# Flow box 2\n",
    "s1 = merged_df.pipe(remove_previous_stroke).pipe(clip_dates, date_col='D001KEY', start_month=1, start_year=2024, end_month=6, end_day=30, end_year=2024)\n",
    "s1.pipe(remove_previous_hn).pipe(print_n)\n",
    "# Flow box 3\n",
    "s2 = s1.pipe(remove_previous_hn).filter((pl.col('D001KEY') - pl.col('DOB')) >= pl.duration(days=365*18))\n",
    "s2.pipe(print_n)\n",
    "# Save output\n",
    "prev = pl.read_csv(PREV_PATH).pipe(parse_dates, 'Date')\n",
    "new = s2[['ENC_HN', 'D001KEY', 'D035KEY']].rename({'D001KEY': 'Date', 'D035KEY': 'ICD10'})\n",
    "output = pl.concat([new, prev])\n",
    "output.pipe(print_n)\n",
    "\n",
    "output.write_csv('D:/Prut/Warehouses/output/Jun24/n/stroke/stroke_n_updated_08092024.csv')"
   ]
  },
  {
   "cell_type": "code",
   "execution_count": 54,
   "metadata": {},
   "outputs": [
    {
     "data": {
      "text/plain": [
       "29793"
      ]
     },
     "execution_count": 54,
     "metadata": {},
     "output_type": "execute_result"
    }
   ],
   "source": [
    "983+28810"
   ]
  },
  {
   "cell_type": "code",
   "execution_count": null,
   "metadata": {},
   "outputs": [],
   "source": []
  }
 ],
 "metadata": {
  "kernelspec": {
   "display_name": "prut",
   "language": "python",
   "name": "python3"
  },
  "language_info": {
   "codemirror_mode": {
    "name": "ipython",
    "version": 3
   },
   "file_extension": ".py",
   "mimetype": "text/x-python",
   "name": "python",
   "nbconvert_exporter": "python",
   "pygments_lexer": "ipython3",
   "version": "3.12.1"
  }
 },
 "nbformat": 4,
 "nbformat_minor": 2
}
