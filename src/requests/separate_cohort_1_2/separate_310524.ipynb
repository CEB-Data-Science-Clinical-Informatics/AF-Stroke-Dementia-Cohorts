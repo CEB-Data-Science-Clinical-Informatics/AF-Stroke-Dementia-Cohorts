{
 "cells": [
  {
   "cell_type": "code",
   "execution_count": 13,
   "metadata": {},
   "outputs": [],
   "source": [
    "import polars as pl\n",
    "import sys\n",
    "sys.path.append('D:/Prut/Warehouses/src')\n",
    "from folder import StandardFolder\n",
    "\n",
    "from polars_utils import *"
   ]
  },
  {
   "cell_type": "code",
   "execution_count": 62,
   "metadata": {},
   "outputs": [],
   "source": [
    "hn = pl.read_csv('D:/Prut/Warehouses/output/Dec23/n/AF/AF_201001_202306.csv').to_series().to_list() + \\\n",
    "    pl.read_csv('D:/Prut/Warehouses/output/Dec23/n/AF/af_for_aj_eak_180124.csv').to_series().to_list()"
   ]
  },
  {
   "cell_type": "code",
   "execution_count": 63,
   "metadata": {},
   "outputs": [
    {
     "data": {
      "text/plain": [
       "23499"
      ]
     },
     "execution_count": 63,
     "metadata": {},
     "output_type": "execute_result"
    }
   ],
   "source": [
    "len(hn)"
   ]
  },
  {
   "cell_type": "code",
   "execution_count": 83,
   "metadata": {},
   "outputs": [],
   "source": [
    "af_aft = pl.read_csv('D:/Prut/Warehouses/output/Dec23/n/AF/af_n_21032024.csv')\n",
    "af_bef = pl.read_csv('D:/Prut/Warehouses/output/Dec23/n/requests/2005-2009/af_2005_2009.csv')\n",
    "\n",
    "af_aft_hn = set(af_aft['ENC_HN'])\n",
    "af_bef_hn = set(af_bef['ENC_HN'])\n",
    "af_combined_hn = af_aft_hn.union(af_bef_hn)\n",
    "\n",
    "af_aft = af_aft.with_columns(pl.col('Date').str.strptime(pl.Date, '%d/%m/%y').cast(str))\n",
    "af_bef = af_bef.rename({'D001KEY': 'Date'})\n",
    "af_cohort2 = af_aft\n",
    "af_cohort1 = pl.concat([af_bef, af_cohort2]).group_by('ENC_HN').agg(pl.min('Date'))\n",
    "af_cohort1.write_csv('D:/Prut/Warehouses/output/Dec23/n/requests/cohort_1_2_310524/af_cohort_1.csv')\n",
    "af_cohort2.write_csv('D:/Prut/Warehouses/output/Dec23/n/requests/cohort_1_2_310524/af_cohort_2.csv')"
   ]
  },
  {
   "cell_type": "code",
   "execution_count": 84,
   "metadata": {},
   "outputs": [
    {
     "data": {
      "text/plain": [
       "25391"
      ]
     },
     "execution_count": 84,
     "metadata": {},
     "output_type": "execute_result"
    }
   ],
   "source": [
    "len(af_cohort1)"
   ]
  },
  {
   "cell_type": "code",
   "execution_count": 85,
   "metadata": {},
   "outputs": [
    {
     "data": {
      "text/plain": [
       "23301"
      ]
     },
     "execution_count": 85,
     "metadata": {},
     "output_type": "execute_result"
    }
   ],
   "source": [
    "len(af_cohort2)"
   ]
  },
  {
   "cell_type": "code",
   "execution_count": 60,
   "metadata": {},
   "outputs": [
    {
     "data": {
      "text/plain": [
       "25391"
      ]
     },
     "execution_count": 60,
     "metadata": {},
     "output_type": "execute_result"
    }
   ],
   "source": [
    "len(af_combined_hn)"
   ]
  },
  {
   "cell_type": "code",
   "execution_count": 58,
   "metadata": {},
   "outputs": [
    {
     "data": {
      "text/plain": [
       "23301"
      ]
     },
     "execution_count": 58,
     "metadata": {},
     "output_type": "execute_result"
    }
   ],
   "source": [
    "len(af_aft_hn)"
   ]
  },
  {
   "cell_type": "code",
   "execution_count": 55,
   "metadata": {},
   "outputs": [
    {
     "data": {
      "text/plain": [
       "2091"
      ]
     },
     "execution_count": 55,
     "metadata": {},
     "output_type": "execute_result"
    }
   ],
   "source": [
    "len(af_bef_hn)"
   ]
  },
  {
   "cell_type": "code",
   "execution_count": 54,
   "metadata": {},
   "outputs": [
    {
     "data": {
      "text/plain": [
       "23336"
      ]
     },
     "execution_count": 54,
     "metadata": {},
     "output_type": "execute_result"
    }
   ],
   "source": [
    "len(set(af_aft_hn) - set(af_bef_hn))"
   ]
  },
  {
   "cell_type": "code",
   "execution_count": null,
   "metadata": {},
   "outputs": [],
   "source": [
    "len(af_)"
   ]
  },
  {
   "cell_type": "code",
   "execution_count": 37,
   "metadata": {},
   "outputs": [],
   "source": [
    "st_aft = pl.read_parquet('D:/Prut/Warehouses/output/Dec23/wh/complete/Stroke_warehouse_exported_05-03-2024.parquet.gzip')\n",
    "st_bef = pl.read_csv('D:/Prut/Warehouses/output/Dec23/n/requests/2005-2009/stroke_2005_2009.csv')\n",
    "\n",
    "st_aft_hn = set(st_aft['ENC_HN'])\n",
    "st_bef_hn = set(st_bef['ENC_HN'])\n",
    "st_combined_hn = st_aft_hn.union(st_bef_hn)\n",
    "\n",
    "st_bef = st_bef.rename({'D001KEY': 'Date'})\n",
    "st_cohort2 = pl.read_csv('D:/Prut/Warehouses/output/Dec23/n/Stroke/stroke_n_updated_05032024.csv')[['ENC_HN', 'Date']]\n",
    "st_cohort1 = pl.concat([st_bef, st_cohort2]).group_by('ENC_HN').agg(pl.min('Date'))\n",
    "st_cohort1.write_csv('D:/Prut/Warehouses/output/Dec23/n/requests/cohort_1_2_310524/stroke_cohort_1.csv')\n",
    "st_cohort2.write_csv('D:/Prut/Warehouses/output/Dec23/n/requests/cohort_1_2_310524/stroke_cohort_2.csv')"
   ]
  },
  {
   "cell_type": "code",
   "execution_count": 43,
   "metadata": {},
   "outputs": [
    {
     "data": {
      "text/plain": [
       "35149"
      ]
     },
     "execution_count": 43,
     "metadata": {},
     "output_type": "execute_result"
    }
   ],
   "source": [
    "len(st_combined_hn)"
   ]
  },
  {
   "cell_type": "code",
   "execution_count": 47,
   "metadata": {},
   "outputs": [
    {
     "data": {
      "text/plain": [
       "28810"
      ]
     },
     "execution_count": 47,
     "metadata": {},
     "output_type": "execute_result"
    }
   ],
   "source": [
    "len(set(st_combined_hn) - set(st_bef_hn))"
   ]
  },
  {
   "cell_type": "code",
   "execution_count": 50,
   "metadata": {},
   "outputs": [
    {
     "data": {
      "text/html": [
       "<div><style>\n",
       ".dataframe > thead > tr,\n",
       ".dataframe > tbody > tr {\n",
       "  text-align: right;\n",
       "  white-space: pre-wrap;\n",
       "}\n",
       "</style>\n",
       "<small>shape: (28_810, 2)</small><table border=\"1\" class=\"dataframe\"><thead><tr><th>ENC_HN</th><th>Date</th></tr><tr><td>str</td><td>str</td></tr></thead><tbody><tr><td>&quot;A4492C950A3E54…</td><td>&quot;2023-07-01&quot;</td></tr><tr><td>&quot;4A5EB81CEE0548…</td><td>&quot;2023-07-01&quot;</td></tr><tr><td>&quot;F6601F82F5128A…</td><td>&quot;2023-07-01&quot;</td></tr><tr><td>&quot;A30602CCA5FF18…</td><td>&quot;2023-07-01&quot;</td></tr><tr><td>&quot;09A2E5566D53C2…</td><td>&quot;2023-07-01&quot;</td></tr><tr><td>&quot;FC204076FB15A9…</td><td>&quot;2023-07-01&quot;</td></tr><tr><td>&quot;AAFE01CB39DA77…</td><td>&quot;2023-07-01&quot;</td></tr><tr><td>&quot;77750419FD49C8…</td><td>&quot;2023-07-02&quot;</td></tr><tr><td>&quot;D6868434163B6A…</td><td>&quot;2023-07-03&quot;</td></tr><tr><td>&quot;0B3016E38F544A…</td><td>&quot;2023-07-03&quot;</td></tr><tr><td>&quot;9F65D8D4379372…</td><td>&quot;2023-07-03&quot;</td></tr><tr><td>&quot;F4BEC37B2F62A7…</td><td>&quot;2023-07-03&quot;</td></tr><tr><td>&hellip;</td><td>&hellip;</td></tr><tr><td>&quot;A988031149DBD8…</td><td>&quot;2019-02-18&quot;</td></tr><tr><td>&quot;C77F2CC8BE23A1…</td><td>&quot;2020-01-30&quot;</td></tr><tr><td>&quot;6E241BA770E79B…</td><td>&quot;2011-07-28&quot;</td></tr><tr><td>&quot;672450519E4E0A…</td><td>&quot;2013-11-04&quot;</td></tr><tr><td>&quot;5EC9051723DAFC…</td><td>&quot;2018-03-28&quot;</td></tr><tr><td>&quot;08F11F38B452CF…</td><td>&quot;2022-04-08&quot;</td></tr><tr><td>&quot;C4CCDFC5D50649…</td><td>&quot;2016-03-29&quot;</td></tr><tr><td>&quot;1B746CCD45EBB2…</td><td>&quot;2010-12-16&quot;</td></tr><tr><td>&quot;F97A5B16C4D8C9…</td><td>&quot;2014-05-05&quot;</td></tr><tr><td>&quot;982FD60C55DFFB…</td><td>&quot;2012-06-20&quot;</td></tr><tr><td>&quot;5366F96FBFAD73…</td><td>&quot;2017-05-09&quot;</td></tr><tr><td>&quot;D13361DC2F8CF5…</td><td>&quot;2016-06-16&quot;</td></tr></tbody></table></div>"
      ],
      "text/plain": [
       "shape: (28_810, 2)\n",
       "┌───────────────────────────────────┬────────────┐\n",
       "│ ENC_HN                            ┆ Date       │\n",
       "│ ---                               ┆ ---        │\n",
       "│ str                               ┆ str        │\n",
       "╞═══════════════════════════════════╪════════════╡\n",
       "│ A4492C950A3E5441CCB1D85538890999… ┆ 2023-07-01 │\n",
       "│ 4A5EB81CEE0548CC59AF47DA8265E145… ┆ 2023-07-01 │\n",
       "│ F6601F82F5128A80B749CED6461BAF9A… ┆ 2023-07-01 │\n",
       "│ A30602CCA5FF182FD3A0EB1CA8AEEB18… ┆ 2023-07-01 │\n",
       "│ 09A2E5566D53C2483CC0FDE7C9DF12B2… ┆ 2023-07-01 │\n",
       "│ …                                 ┆ …          │\n",
       "│ 1B746CCD45EBB2DD46867B520E8F8896… ┆ 2010-12-16 │\n",
       "│ F97A5B16C4D8C9A7E5B8777FDD72F309… ┆ 2014-05-05 │\n",
       "│ 982FD60C55DFFB3978A9F0FA282C40E0… ┆ 2012-06-20 │\n",
       "│ 5366F96FBFAD73E723218E180FEE521B… ┆ 2017-05-09 │\n",
       "│ D13361DC2F8CF51367837B0EA5BC2EF4… ┆ 2016-06-16 │\n",
       "└───────────────────────────────────┴────────────┘"
      ]
     },
     "execution_count": 50,
     "metadata": {},
     "output_type": "execute_result"
    }
   ],
   "source": [
    "pl.read_csv('D:/Prut/Warehouses/output/Dec23/n/requests/cohort_1_2_310524/stroke_cohort_2.csv')"
   ]
  },
  {
   "cell_type": "code",
   "execution_count": 46,
   "metadata": {},
   "outputs": [
    {
     "data": {
      "text/html": [
       "<div><style>\n",
       ".dataframe > thead > tr,\n",
       ".dataframe > tbody > tr {\n",
       "  text-align: right;\n",
       "  white-space: pre-wrap;\n",
       "}\n",
       "</style>\n",
       "<small>shape: (7_099, 2)</small><table border=\"1\" class=\"dataframe\"><thead><tr><th>ENC_HN</th><th>Date</th></tr><tr><td>str</td><td>str</td></tr></thead><tbody><tr><td>&quot;364859C39FB8B7…</td><td>&quot;2005-01-17&quot;</td></tr><tr><td>&quot;7A276556F5E8BA…</td><td>&quot;2005-02-10&quot;</td></tr><tr><td>&quot;2813E36E49E70D…</td><td>&quot;2005-04-16&quot;</td></tr><tr><td>&quot;81066DD60A98D4…</td><td>&quot;2006-09-04&quot;</td></tr><tr><td>&quot;97EFFA20943056…</td><td>&quot;2005-02-18&quot;</td></tr><tr><td>&quot;CFE1ED418427F5…</td><td>&quot;2005-04-25&quot;</td></tr><tr><td>&quot;1ED335C36E31E0…</td><td>&quot;2006-05-17&quot;</td></tr><tr><td>&quot;EEF7E76D193E7D…</td><td>&quot;2005-03-31&quot;</td></tr><tr><td>&quot;170DE7BB2AAAFC…</td><td>&quot;2005-01-12&quot;</td></tr><tr><td>&quot;70A48618F43981…</td><td>&quot;2005-09-02&quot;</td></tr><tr><td>&quot;DE5D7EBC764C1E…</td><td>&quot;2005-02-08&quot;</td></tr><tr><td>&quot;9D35AE2A195E75…</td><td>&quot;2005-11-17&quot;</td></tr><tr><td>&hellip;</td><td>&hellip;</td></tr><tr><td>&quot;DE658940468DDB…</td><td>&quot;2009-03-06&quot;</td></tr><tr><td>&quot;C67012D7AD83F8…</td><td>&quot;2007-01-04&quot;</td></tr><tr><td>&quot;5E643855685875…</td><td>&quot;2007-06-07&quot;</td></tr><tr><td>&quot;8B7618579A4806…</td><td>&quot;2009-09-10&quot;</td></tr><tr><td>&quot;0665ADC47AA458…</td><td>&quot;2009-10-05&quot;</td></tr><tr><td>&quot;9F2194A6B3DC91…</td><td>&quot;2008-05-07&quot;</td></tr><tr><td>&quot;E2B7CCFD9602BC…</td><td>&quot;2007-12-14&quot;</td></tr><tr><td>&quot;25FF612226E45C…</td><td>&quot;2007-05-16&quot;</td></tr><tr><td>&quot;DEFDC029A4E374…</td><td>&quot;2008-02-18&quot;</td></tr><tr><td>&quot;135473FA722416…</td><td>&quot;2008-12-11&quot;</td></tr><tr><td>&quot;2813E36E49E70D…</td><td>&quot;2009-01-31&quot;</td></tr><tr><td>&quot;CB485E128AA8BE…</td><td>&quot;2007-11-19&quot;</td></tr></tbody></table></div>"
      ],
      "text/plain": [
       "shape: (7_099, 2)\n",
       "┌───────────────────────────────────┬────────────┐\n",
       "│ ENC_HN                            ┆ Date       │\n",
       "│ ---                               ┆ ---        │\n",
       "│ str                               ┆ str        │\n",
       "╞═══════════════════════════════════╪════════════╡\n",
       "│ 364859C39FB8B79CE36BF3C60A5FEA43… ┆ 2005-01-17 │\n",
       "│ 7A276556F5E8BA97C381DD234BC7A484… ┆ 2005-02-10 │\n",
       "│ 2813E36E49E70D6B5908AE68BDE17C06… ┆ 2005-04-16 │\n",
       "│ 81066DD60A98D48DB084B89DACAB3572… ┆ 2006-09-04 │\n",
       "│ 97EFFA20943056CBC65803EFB84DEA4D… ┆ 2005-02-18 │\n",
       "│ …                                 ┆ …          │\n",
       "│ 25FF612226E45C38AD2202238156C1A6… ┆ 2007-05-16 │\n",
       "│ DEFDC029A4E374A95EF449931EF8EB9B… ┆ 2008-02-18 │\n",
       "│ 135473FA722416A50CAA2B6BE9B4E03D… ┆ 2008-12-11 │\n",
       "│ 2813E36E49E70D6B5908AE68BDE17C06… ┆ 2009-01-31 │\n",
       "│ CB485E128AA8BEB199F0B1EC7AACBAA3… ┆ 2007-11-19 │\n",
       "└───────────────────────────────────┴────────────┘"
      ]
     },
     "execution_count": 46,
     "metadata": {},
     "output_type": "execute_result"
    }
   ],
   "source": [
    "st_bef"
   ]
  },
  {
   "cell_type": "code",
   "execution_count": 39,
   "metadata": {},
   "outputs": [
    {
     "data": {
      "text/html": [
       "<div><style>\n",
       ".dataframe > thead > tr,\n",
       ".dataframe > tbody > tr {\n",
       "  text-align: right;\n",
       "  white-space: pre-wrap;\n",
       "}\n",
       "</style>\n",
       "<small>shape: (35_149, 2)</small><table border=\"1\" class=\"dataframe\"><thead><tr><th>ENC_HN</th><th>Date</th></tr><tr><td>str</td><td>str</td></tr></thead><tbody><tr><td>&quot;5CE990C8422600…</td><td>&quot;2023-06-28&quot;</td></tr><tr><td>&quot;EAC9E771E35087…</td><td>&quot;2017-01-17&quot;</td></tr><tr><td>&quot;E28918F03248FA…</td><td>&quot;2019-07-29&quot;</td></tr><tr><td>&quot;AABD867E0C5705…</td><td>&quot;2021-02-05&quot;</td></tr><tr><td>&quot;C88386FB54BC34…</td><td>&quot;2013-11-18&quot;</td></tr><tr><td>&quot;26607065B94C2F…</td><td>&quot;2021-07-01&quot;</td></tr><tr><td>&quot;C3D25B9D3C8BF9…</td><td>&quot;2018-04-03&quot;</td></tr><tr><td>&quot;50638930EDC731…</td><td>&quot;2019-11-01&quot;</td></tr><tr><td>&quot;658A1381BA812B…</td><td>&quot;2019-02-04&quot;</td></tr><tr><td>&quot;FEDF1227DE62F5…</td><td>&quot;2008-01-21&quot;</td></tr><tr><td>&quot;A8EB6057C41918…</td><td>&quot;2010-01-16&quot;</td></tr><tr><td>&quot;673445FBCF2DA1…</td><td>&quot;2011-01-10&quot;</td></tr><tr><td>&hellip;</td><td>&hellip;</td></tr><tr><td>&quot;3CF1442D2B8ECC…</td><td>&quot;2017-02-12&quot;</td></tr><tr><td>&quot;8523D78EB24467…</td><td>&quot;2014-08-17&quot;</td></tr><tr><td>&quot;3E95ADECA93865…</td><td>&quot;2022-09-21&quot;</td></tr><tr><td>&quot;333E3A479B6C13…</td><td>&quot;2006-02-03&quot;</td></tr><tr><td>&quot;AA4E8BED187515…</td><td>&quot;2021-10-01&quot;</td></tr><tr><td>&quot;BB1E1334FE193B…</td><td>&quot;2022-01-25&quot;</td></tr><tr><td>&quot;9017D480401EB5…</td><td>&quot;2013-02-26&quot;</td></tr><tr><td>&quot;3FACB13DD62727…</td><td>&quot;2017-12-22&quot;</td></tr><tr><td>&quot;50B58B472AA55C…</td><td>&quot;2023-03-08&quot;</td></tr><tr><td>&quot;0D874267C71DC8…</td><td>&quot;2005-03-21&quot;</td></tr><tr><td>&quot;9005F1E04335E1…</td><td>&quot;2017-03-27&quot;</td></tr><tr><td>&quot;8B618C1F2AC36E…</td><td>&quot;2022-01-08&quot;</td></tr></tbody></table></div>"
      ],
      "text/plain": [
       "shape: (35_149, 2)\n",
       "┌───────────────────────────────────┬────────────┐\n",
       "│ ENC_HN                            ┆ Date       │\n",
       "│ ---                               ┆ ---        │\n",
       "│ str                               ┆ str        │\n",
       "╞═══════════════════════════════════╪════════════╡\n",
       "│ 5CE990C842260087D3E11BAF1BE8D174… ┆ 2023-06-28 │\n",
       "│ EAC9E771E35087ABC5F25733EDD32ABD… ┆ 2017-01-17 │\n",
       "│ E28918F03248FACB4EB9D94A295737B8… ┆ 2019-07-29 │\n",
       "│ AABD867E0C5705F5A9E27FF91976C9D0… ┆ 2021-02-05 │\n",
       "│ C88386FB54BC34CB86F3EA33C6D01760… ┆ 2013-11-18 │\n",
       "│ …                                 ┆ …          │\n",
       "│ 3FACB13DD627278CF8258FBC7746612C… ┆ 2017-12-22 │\n",
       "│ 50B58B472AA55C333BA3C5C8AC96581E… ┆ 2023-03-08 │\n",
       "│ 0D874267C71DC811FB3649B05964C8A1… ┆ 2005-03-21 │\n",
       "│ 9005F1E04335E14F2ACE7616372C6510… ┆ 2017-03-27 │\n",
       "│ 8B618C1F2AC36E2304AD2C663C16C50F… ┆ 2022-01-08 │\n",
       "└───────────────────────────────────┴────────────┘"
      ]
     },
     "execution_count": 39,
     "metadata": {},
     "output_type": "execute_result"
    }
   ],
   "source": [
    "st_cohort1"
   ]
  },
  {
   "cell_type": "markdown",
   "metadata": {},
   "source": [
    "# Stroke"
   ]
  },
  {
   "cell_type": "code",
   "execution_count": 14,
   "metadata": {},
   "outputs": [],
   "source": [
    "class StrokeWarehouse(StandardFolder):\n",
    "    def __init__(self, hn_list: list[str], folder: str, streaming: bool = True) -> None:\n",
    "        super().__init__(folder)\n",
    "        self.hn_list = hn_list\n",
    "        self.streaming = streaming\n",
    "\n",
    "   \n",
    "    def get_visits(self):\n",
    "        folder_path = self.visit\n",
    "        to_concat = []\n",
    "        for path in folder_path.iterdir():\n",
    "            file = (\n",
    "                scan_file(path)\n",
    "                .filter(pl.col('ENC_HN').is_in(self.hn_list))\n",
    "                .select(pl.col(['ENC_HN', 'D001KEY', 'D108KEY']))\n",
    "                .pipe(parse_dates, 'D001KEY')\n",
    "            )\n",
    "            to_concat.append(file.collect(streaming=self.streaming))\n",
    "        self.visit_df = pl.concat(to_concat).unique()\n",
    "\n",
    "    def get_dx(self, select: list = None):\n",
    "        folder_path = self.dx\n",
    "        to_concat = []\n",
    "        for path in folder_path.iterdir():\n",
    "            file = (\n",
    "                scan_file(path)\n",
    "                .filter(pl.col('ENC_HN').is_in(self.hn_list))\n",
    "                .select(pl.col(['ENC_HN', 'D001KEY', 'D035KEY']))\n",
    "                .pipe(parse_dates, 'D001KEY')\n",
    "            )\n",
    "            if select is not None:\n",
    "                file = file.filter(pl.col('D035KEY').is_in(select))\n",
    "            file = file.group_by(pl.col(['ENC_HN', 'D001KEY'])).agg(pl.col('D035KEY')).with_columns(pl.col('D035KEY').list.unique().list.sort().list.join(', '))\n",
    "            to_concat.append(file.collect(streaming=self.streaming))\n",
    "        self.dx_df = pl.concat(to_concat).unique()\n",
    "\n",
    "\n",
    "    def get_demo(self):\n",
    "        folder_path = self.demo\n",
    "        cols = ['ENC_HN', 'D020AT3', 'H2L1KEY', 'H6L1KEY', 'H6L1DES']\n",
    "        new_col_names = ['ENC_HN', 'DOB', 'Sex', 'Province_ID', 'Province_Thai']\n",
    "        to_concat = []\n",
    "        for path in folder_path.iterdir():\n",
    "            file = scan_file(path)\n",
    "            if set(cols).issubset(set(file.columns)):\n",
    "                file = file.select(cols).collect(streaming=self.streaming).pipe(parse_dates, 'D020AT3') # New bug: only works in dataframes, so must collect first\n",
    "                to_concat.append(file)\n",
    "        self.demo_df = pl.concat(to_concat).unique()\n",
    "        self.demo_df = self.demo_df.rename(dict(zip(cols, new_col_names)))\n",
    "\n",
    "\n",
    "    def run_all(self):\n",
    "        print('start')\n",
    "      \n",
    "        self.get_visits()\n",
    "        print('visit')\n",
    "       \n",
    "        self.get_dx()\n",
    "        print('dx')\n",
    "\n",
    "        self.get_demo()\n",
    "        print('demo')\n",
    "        \n",
    "        self.ran_all = True\n",
    "\n",
    "    def merge(self):\n",
    "        if not self.ran_all:\n",
    "            raise Exception('Please run all first.')\n",
    "        \n",
    "        self.merged_df = (\n",
    "            self.visit_df\n",
    "            .join(self.dx_df, on=['ENC_HN', 'D001KEY'], how='outer_coalesce')\n",
    "            .join(self.demo_df, on=['ENC_HN'], how='left')\n",
    "            .unique()\n",
    "        )\n",
    "\n",
    "        self.merged_df = self.merged_df.rename({'D001KEY': 'Date', 'D035KEY': 'ICD10', 'D108KEY': 'Site'})\n"
   ]
  },
  {
   "cell_type": "code",
   "execution_count": 15,
   "metadata": {},
   "outputs": [
    {
     "data": {
      "text/plain": [
       "35149"
      ]
     },
     "execution_count": 15,
     "metadata": {},
     "output_type": "execute_result"
    }
   ],
   "source": [
    "len(st_combined_hn)"
   ]
  },
  {
   "cell_type": "code",
   "execution_count": 40,
   "metadata": {},
   "outputs": [
    {
     "name": "stdout",
     "output_type": "stream",
     "text": [
      "readme not included.\n",
      "start\n",
      "visit\n",
      "dx\n",
      "demo\n"
     ]
    }
   ],
   "source": [
    "s = StrokeWarehouse(hn_list=st_bef_hn, folder='D:/Datalake/Data/20231231_fu_nc')\n",
    "s.run_all()\n",
    "s.merge()"
   ]
  },
  {
   "cell_type": "code",
   "execution_count": 18,
   "metadata": {},
   "outputs": [
    {
     "data": {
      "text/plain": [
       "28859"
      ]
     },
     "execution_count": 18,
     "metadata": {},
     "output_type": "execute_result"
    }
   ],
   "source": [
    "s.merged_df['ENC_HN'].n_unique()"
   ]
  },
  {
   "cell_type": "code",
   "execution_count": 19,
   "metadata": {},
   "outputs": [
    {
     "data": {
      "text/plain": [
       "28810"
      ]
     },
     "execution_count": 19,
     "metadata": {},
     "output_type": "execute_result"
    }
   ],
   "source": [
    "len(set(s.merged_df['ENC_HN']) - set(st_bef_hn))"
   ]
  },
  {
   "cell_type": "code",
   "execution_count": 42,
   "metadata": {},
   "outputs": [
    {
     "data": {
      "text/plain": [
       "28810"
      ]
     },
     "execution_count": 42,
     "metadata": {},
     "output_type": "execute_result"
    }
   ],
   "source": [
    "len(st_aft_hn)"
   ]
  },
  {
   "cell_type": "code",
   "execution_count": null,
   "metadata": {},
   "outputs": [],
   "source": []
  }
 ],
 "metadata": {
  "kernelspec": {
   "display_name": "prut",
   "language": "python",
   "name": "python3"
  },
  "language_info": {
   "codemirror_mode": {
    "name": "ipython",
    "version": 3
   },
   "file_extension": ".py",
   "mimetype": "text/x-python",
   "name": "python",
   "nbconvert_exporter": "python",
   "pygments_lexer": "ipython3",
   "version": "3.12.1"
  }
 },
 "nbformat": 4,
 "nbformat_minor": 2
}
