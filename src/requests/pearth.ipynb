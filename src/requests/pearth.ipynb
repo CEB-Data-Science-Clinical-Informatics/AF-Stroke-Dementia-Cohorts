{
 "cells": [
  {
   "cell_type": "code",
   "execution_count": 1,
   "metadata": {},
   "outputs": [],
   "source": [
    "import polars as pl"
   ]
  },
  {
   "cell_type": "code",
   "execution_count": 3,
   "metadata": {},
   "outputs": [
    {
     "data": {
      "text/html": [
       "<div><style>\n",
       ".dataframe > thead > tr,\n",
       ".dataframe > tbody > tr {\n",
       "  text-align: right;\n",
       "  white-space: pre-wrap;\n",
       "}\n",
       "</style>\n",
       "<small>shape: (2_761_854, 32)</small><table border=\"1\" class=\"dataframe\"><thead><tr><th>ENC_HN</th><th>Date</th><th>Site</th><th>SBP</th><th>DBP</th><th>HR</th><th>WEIGHT</th><th>HEIGHT</th><th>BMI</th><th>ICD10</th><th>Warfarin_sodium_5_mg</th><th>Warfarin_sodium_3_mg</th><th>Dabigatran_etexilate_110_mg</th><th>Rivaroxaban_10_mg</th><th>Dabigatran_etexilate_75_mg</th><th>Dabigatran_etexilate_150_mg</th><th>Rivaroxaban_15_mg</th><th>Rivaroxaban_20_mg</th><th>Apixaban_5_mg</th><th>Edoxaban_tosilate_60_mg</th><th>Rivaroxaban_2.5_mg</th><th>glucose</th><th>Serum creatinine</th><th>LDL</th><th>Triglyceride</th><th>HDL</th><th>Urine creatinine</th><th>Death_date</th><th>DOB</th><th>Sex</th><th>Province_ID</th><th>Province_Thai</th></tr><tr><td>str</td><td>date</td><td>str</td><td>f64</td><td>f64</td><td>f64</td><td>f64</td><td>f64</td><td>f64</td><td>str</td><td>str</td><td>str</td><td>str</td><td>str</td><td>str</td><td>str</td><td>str</td><td>str</td><td>str</td><td>str</td><td>str</td><td>f64</td><td>f64</td><td>f64</td><td>f64</td><td>f64</td><td>f64</td><td>date</td><td>date</td><td>str</td><td>str</td><td>str</td></tr></thead><tbody><tr><td>&quot;02B9A45D4615C1…</td><td>2010-03-05</td><td>&quot;OMD15&quot;</td><td>null</td><td>null</td><td>null</td><td>null</td><td>null</td><td>null</td><td>&quot;J459&quot;</td><td>null</td><td>null</td><td>null</td><td>null</td><td>null</td><td>null</td><td>null</td><td>null</td><td>null</td><td>null</td><td>null</td><td>null</td><td>null</td><td>null</td><td>null</td><td>null</td><td>null</td><td>2017-01-18</td><td>1932-02-15</td><td>&quot;F&quot;</td><td>&quot;10&quot;</td><td>&quot;กทม&quot;</td></tr><tr><td>&quot;06DDB477F640CA…</td><td>2010-09-01</td><td>&quot;ORP01&quot;</td><td>null</td><td>null</td><td>null</td><td>null</td><td>null</td><td>null</td><td>&quot;M4316, M5416&quot;</td><td>null</td><td>null</td><td>null</td><td>null</td><td>null</td><td>null</td><td>null</td><td>null</td><td>null</td><td>null</td><td>null</td><td>null</td><td>null</td><td>null</td><td>null</td><td>null</td><td>null</td><td>null</td><td>1961-10-07</td><td>&quot;F&quot;</td><td>&quot;10&quot;</td><td>&quot;กทม&quot;</td></tr><tr><td>&quot;14872CEC0215B4…</td><td>2010-04-27</td><td>&quot;OFM05&quot;</td><td>null</td><td>null</td><td>null</td><td>null</td><td>null</td><td>null</td><td>&quot;G939&quot;</td><td>null</td><td>null</td><td>null</td><td>null</td><td>null</td><td>null</td><td>null</td><td>null</td><td>null</td><td>null</td><td>null</td><td>null</td><td>null</td><td>null</td><td>null</td><td>null</td><td>null</td><td>null</td><td>1942-01-23</td><td>&quot;M&quot;</td><td>&quot;94&quot;</td><td>&quot;ปัตตานี&quot;</td></tr><tr><td>&quot;182325FC7323B7…</td><td>2010-05-25</td><td>&quot;OER101&quot;</td><td>null</td><td>null</td><td>null</td><td>null</td><td>null</td><td>null</td><td>&quot;I251, I48, R50…</td><td>null</td><td>null</td><td>null</td><td>null</td><td>null</td><td>null</td><td>null</td><td>null</td><td>null</td><td>null</td><td>null</td><td>null</td><td>null</td><td>null</td><td>null</td><td>null</td><td>null</td><td>null</td><td>1940-08-04</td><td>&quot;M&quot;</td><td>&quot;10&quot;</td><td>&quot;กทม&quot;</td></tr><tr><td>&quot;1AB53044B55507…</td><td>2010-05-08</td><td>&quot;OFM05&quot;</td><td>null</td><td>null</td><td>null</td><td>null</td><td>null</td><td>null</td><td>null</td><td>null</td><td>null</td><td>null</td><td>null</td><td>null</td><td>null</td><td>null</td><td>null</td><td>null</td><td>null</td><td>null</td><td>null</td><td>null</td><td>null</td><td>null</td><td>null</td><td>null</td><td>null</td><td>1963-08-17</td><td>&quot;F&quot;</td><td>&quot;10&quot;</td><td>&quot;กทม&quot;</td></tr><tr><td>&quot;1EDF33F6605037…</td><td>2010-01-11</td><td>&quot;OET01&quot;</td><td>null</td><td>null</td><td>null</td><td>null</td><td>null</td><td>null</td><td>&quot;H810&quot;</td><td>null</td><td>null</td><td>null</td><td>null</td><td>null</td><td>null</td><td>null</td><td>null</td><td>null</td><td>null</td><td>null</td><td>null</td><td>null</td><td>null</td><td>null</td><td>null</td><td>null</td><td>null</td><td>1958-07-15</td><td>&quot;F&quot;</td><td>&quot;57&quot;</td><td>&quot;เชียงราย&quot;</td></tr><tr><td>&quot;2B9D6A805A1E4A…</td><td>2010-12-28</td><td>&quot;SDOEY03&quot;</td><td>null</td><td>null</td><td>null</td><td>null</td><td>null</td><td>null</td><td>&quot;H251, I10, I48…</td><td>null</td><td>null</td><td>null</td><td>null</td><td>null</td><td>null</td><td>null</td><td>null</td><td>null</td><td>null</td><td>null</td><td>null</td><td>null</td><td>null</td><td>null</td><td>null</td><td>null</td><td>null</td><td>1931-01-01</td><td>&quot;F&quot;</td><td>&quot;80&quot;</td><td>&quot;นครศรีธรรมราช&quot;</td></tr><tr><td>&quot;365C2222E90558…</td><td>2010-09-07</td><td>&quot;SDOEY03&quot;</td><td>null</td><td>null</td><td>null</td><td>null</td><td>null</td><td>null</td><td>&quot;H401&quot;</td><td>null</td><td>null</td><td>null</td><td>null</td><td>null</td><td>null</td><td>null</td><td>null</td><td>null</td><td>null</td><td>null</td><td>null</td><td>null</td><td>null</td><td>null</td><td>null</td><td>null</td><td>null</td><td>1937-01-01</td><td>&quot;M&quot;</td><td>&quot;24&quot;</td><td>&quot;ฉะเชิงเทรา&quot;</td></tr><tr><td>&quot;39588445CD1CA4…</td><td>2010-02-03</td><td>&quot;OMD01&quot;</td><td>null</td><td>null</td><td>null</td><td>null</td><td>null</td><td>null</td><td>&quot;E041, K30&quot;</td><td>null</td><td>null</td><td>null</td><td>null</td><td>null</td><td>null</td><td>null</td><td>null</td><td>null</td><td>null</td><td>null</td><td>null</td><td>null</td><td>null</td><td>null</td><td>null</td><td>null</td><td>null</td><td>1937-09-12</td><td>&quot;M&quot;</td><td>&quot;13&quot;</td><td>&quot;พระนครศรีอยุธย…</td></tr><tr><td>&quot;3BD75FBE6406D4…</td><td>2010-10-11</td><td>&quot;OMD07&quot;</td><td>null</td><td>null</td><td>null</td><td>null</td><td>null</td><td>null</td><td>null</td><td>null</td><td>null</td><td>null</td><td>null</td><td>null</td><td>null</td><td>null</td><td>null</td><td>null</td><td>null</td><td>null</td><td>null</td><td>null</td><td>null</td><td>null</td><td>null</td><td>null</td><td>null</td><td>1927-09-18</td><td>&quot;M&quot;</td><td>&quot;10&quot;</td><td>&quot;กทม&quot;</td></tr><tr><td>&quot;4188FAD93FDB3E…</td><td>2010-09-29</td><td>&quot;OMD18&quot;</td><td>null</td><td>null</td><td>null</td><td>null</td><td>null</td><td>null</td><td>null</td><td>null</td><td>null</td><td>null</td><td>null</td><td>null</td><td>null</td><td>null</td><td>null</td><td>null</td><td>null</td><td>null</td><td>null</td><td>null</td><td>null</td><td>null</td><td>null</td><td>null</td><td>2012-05-19</td><td>1932-08-11</td><td>&quot;F&quot;</td><td>&quot;11&quot;</td><td>&quot;นนทบุรี&quot;</td></tr><tr><td>&quot;4336A26CDA8FCA…</td><td>2010-01-14</td><td>&quot;OSU03&quot;</td><td>null</td><td>null</td><td>null</td><td>null</td><td>null</td><td>null</td><td>&quot;S819&quot;</td><td>null</td><td>null</td><td>null</td><td>null</td><td>null</td><td>null</td><td>null</td><td>null</td><td>null</td><td>null</td><td>null</td><td>null</td><td>null</td><td>null</td><td>null</td><td>null</td><td>null</td><td>null</td><td>1980-10-10</td><td>&quot;F&quot;</td><td>&quot;10&quot;</td><td>&quot;กทม&quot;</td></tr><tr><td>&hellip;</td><td>&hellip;</td><td>&hellip;</td><td>&hellip;</td><td>&hellip;</td><td>&hellip;</td><td>&hellip;</td><td>&hellip;</td><td>&hellip;</td><td>&hellip;</td><td>&hellip;</td><td>&hellip;</td><td>&hellip;</td><td>&hellip;</td><td>&hellip;</td><td>&hellip;</td><td>&hellip;</td><td>&hellip;</td><td>&hellip;</td><td>&hellip;</td><td>&hellip;</td><td>&hellip;</td><td>&hellip;</td><td>&hellip;</td><td>&hellip;</td><td>&hellip;</td><td>&hellip;</td><td>&hellip;</td><td>&hellip;</td><td>&hellip;</td><td>&hellip;</td><td>&hellip;</td></tr><tr><td>&quot;579B4E2690D7B3…</td><td>2015-12-17</td><td>null</td><td>null</td><td>null</td><td>null</td><td>null</td><td>null</td><td>null</td><td>null</td><td>null</td><td>null</td><td>null</td><td>null</td><td>null</td><td>null</td><td>null</td><td>null</td><td>null</td><td>null</td><td>null</td><td>194.0</td><td>0.64</td><td>51.0</td><td>113.0</td><td>46.0</td><td>null</td><td>null</td><td>1960-03-11</td><td>&quot;F&quot;</td><td>&quot;13&quot;</td><td>&quot;พระนครศรีอยุธย…</td></tr><tr><td>&quot;AD0FB1F2BE704E…</td><td>2020-05-03</td><td>null</td><td>null</td><td>null</td><td>null</td><td>null</td><td>null</td><td>null</td><td>null</td><td>null</td><td>null</td><td>null</td><td>null</td><td>null</td><td>null</td><td>null</td><td>null</td><td>null</td><td>null</td><td>null</td><td>null</td><td>1.17</td><td>null</td><td>null</td><td>null</td><td>null</td><td>null</td><td>1952-06-24</td><td>&quot;F&quot;</td><td>&quot;84&quot;</td><td>&quot;สุราษฎร์ธานี&quot;</td></tr><tr><td>&quot;98CCA131F38923…</td><td>2012-03-04</td><td>null</td><td>null</td><td>null</td><td>null</td><td>null</td><td>null</td><td>null</td><td>null</td><td>null</td><td>null</td><td>null</td><td>null</td><td>null</td><td>null</td><td>null</td><td>null</td><td>null</td><td>null</td><td>null</td><td>135.0</td><td>1.57</td><td>109.0</td><td>176.0</td><td>30.0</td><td>null</td><td>null</td><td>1933-07-08</td><td>&quot;F&quot;</td><td>&quot;10&quot;</td><td>&quot;กทม&quot;</td></tr><tr><td>&quot;0A8525B9F101CB…</td><td>2014-11-25</td><td>null</td><td>null</td><td>null</td><td>null</td><td>null</td><td>null</td><td>null</td><td>null</td><td>null</td><td>null</td><td>null</td><td>null</td><td>null</td><td>null</td><td>null</td><td>null</td><td>null</td><td>null</td><td>null</td><td>210.0</td><td>null</td><td>null</td><td>null</td><td>null</td><td>null</td><td>null</td><td>1957-03-23</td><td>&quot;F&quot;</td><td>&quot;24&quot;</td><td>&quot;ฉะเชิงเทรา&quot;</td></tr><tr><td>&quot;DC90334961F4B0…</td><td>2016-11-30</td><td>null</td><td>null</td><td>null</td><td>null</td><td>null</td><td>null</td><td>null</td><td>null</td><td>null</td><td>null</td><td>null</td><td>null</td><td>null</td><td>null</td><td>null</td><td>null</td><td>null</td><td>null</td><td>null</td><td>null</td><td>0.64</td><td>null</td><td>null</td><td>null</td><td>null</td><td>null</td><td>1936-01-31</td><td>&quot;F&quot;</td><td>&quot;10&quot;</td><td>&quot;กทม&quot;</td></tr><tr><td>&quot;A96DE4834C772D…</td><td>2017-02-08</td><td>null</td><td>null</td><td>null</td><td>null</td><td>null</td><td>null</td><td>null</td><td>null</td><td>null</td><td>null</td><td>null</td><td>null</td><td>null</td><td>null</td><td>null</td><td>null</td><td>null</td><td>null</td><td>null</td><td>96.0</td><td>0.87</td><td>56.0</td><td>50.0</td><td>60.0</td><td>null</td><td>null</td><td>1960-01-09</td><td>&quot;M&quot;</td><td>&quot;10&quot;</td><td>&quot;กทม&quot;</td></tr><tr><td>&quot;6FEF8AFBBA0828…</td><td>2019-06-27</td><td>null</td><td>null</td><td>null</td><td>null</td><td>null</td><td>null</td><td>null</td><td>null</td><td>null</td><td>null</td><td>null</td><td>null</td><td>null</td><td>null</td><td>null</td><td>null</td><td>null</td><td>null</td><td>null</td><td>92.0</td><td>6.97</td><td>48.0</td><td>31.0</td><td>null</td><td>null</td><td>null</td><td>1956-04-29</td><td>&quot;M&quot;</td><td>&quot;13&quot;</td><td>&quot;พระนครศรีอยุธย…</td></tr><tr><td>&quot;C3FD766CABD120…</td><td>2012-04-12</td><td>null</td><td>null</td><td>null</td><td>null</td><td>null</td><td>null</td><td>null</td><td>null</td><td>null</td><td>null</td><td>null</td><td>null</td><td>null</td><td>null</td><td>null</td><td>null</td><td>null</td><td>null</td><td>null</td><td>null</td><td>2.48</td><td>null</td><td>null</td><td>null</td><td>null</td><td>null</td><td>1942-01-13</td><td>&quot;M&quot;</td><td>&quot;84&quot;</td><td>&quot;สุราษฎร์ธานี&quot;</td></tr><tr><td>&quot;75CE3891CA1EF1…</td><td>2018-02-07</td><td>null</td><td>null</td><td>null</td><td>null</td><td>null</td><td>null</td><td>null</td><td>null</td><td>null</td><td>null</td><td>null</td><td>null</td><td>null</td><td>null</td><td>null</td><td>null</td><td>null</td><td>null</td><td>null</td><td>null</td><td>3.15</td><td>null</td><td>null</td><td>null</td><td>null</td><td>null</td><td>1944-11-17</td><td>&quot;F&quot;</td><td>&quot;21&quot;</td><td>&quot;ระยอง&quot;</td></tr><tr><td>&quot;C713CDF08EAFF5…</td><td>2017-09-16</td><td>null</td><td>null</td><td>null</td><td>null</td><td>null</td><td>null</td><td>null</td><td>null</td><td>null</td><td>null</td><td>null</td><td>null</td><td>null</td><td>null</td><td>null</td><td>null</td><td>null</td><td>null</td><td>null</td><td>null</td><td>0.58</td><td>null</td><td>null</td><td>null</td><td>null</td><td>2017-11-17</td><td>1923-12-16</td><td>&quot;F&quot;</td><td>&quot;10&quot;</td><td>&quot;กทม&quot;</td></tr><tr><td>&quot;7427D67262440F…</td><td>2020-01-10</td><td>null</td><td>null</td><td>null</td><td>null</td><td>null</td><td>null</td><td>null</td><td>null</td><td>null</td><td>null</td><td>null</td><td>null</td><td>null</td><td>null</td><td>null</td><td>null</td><td>null</td><td>null</td><td>null</td><td>null</td><td>1.58</td><td>null</td><td>null</td><td>null</td><td>null</td><td>2020-03-26</td><td>1940-01-01</td><td>&quot;F&quot;</td><td>&quot;10&quot;</td><td>&quot;กทม&quot;</td></tr><tr><td>&quot;CFCB972F3CABAF…</td><td>2017-02-22</td><td>null</td><td>null</td><td>null</td><td>null</td><td>null</td><td>null</td><td>null</td><td>null</td><td>null</td><td>null</td><td>null</td><td>null</td><td>null</td><td>null</td><td>null</td><td>null</td><td>null</td><td>null</td><td>null</td><td>null</td><td>1.78</td><td>null</td><td>null</td><td>null</td><td>null</td><td>2017-10-21</td><td>1934-10-22</td><td>&quot;M&quot;</td><td>&quot;10&quot;</td><td>&quot;กทม&quot;</td></tr></tbody></table></div>"
      ],
      "text/plain": [
       "shape: (2_761_854, 32)\n",
       "┌────────────────┬────────────┬────────┬──────┬───┬────────────┬─────┬─────────────┬───────────────┐\n",
       "│ ENC_HN         ┆ Date       ┆ Site   ┆ SBP  ┆ … ┆ DOB        ┆ Sex ┆ Province_ID ┆ Province_Thai │\n",
       "│ ---            ┆ ---        ┆ ---    ┆ ---  ┆   ┆ ---        ┆ --- ┆ ---         ┆ ---           │\n",
       "│ str            ┆ date       ┆ str    ┆ f64  ┆   ┆ date       ┆ str ┆ str         ┆ str           │\n",
       "╞════════════════╪════════════╪════════╪══════╪═══╪════════════╪═════╪═════════════╪═══════════════╡\n",
       "│ 02B9A45D4615C1 ┆ 2010-03-05 ┆ OMD15  ┆ null ┆ … ┆ 1932-02-15 ┆ F   ┆ 10          ┆ กทม           │\n",
       "│ 58EA4669EAACE6 ┆            ┆        ┆      ┆   ┆            ┆     ┆             ┆               │\n",
       "│ AC8E…          ┆            ┆        ┆      ┆   ┆            ┆     ┆             ┆               │\n",
       "│ 06DDB477F640CA ┆ 2010-09-01 ┆ ORP01  ┆ null ┆ … ┆ 1961-10-07 ┆ F   ┆ 10          ┆ กทม           │\n",
       "│ A4C075A4E9FEE6 ┆            ┆        ┆      ┆   ┆            ┆     ┆             ┆               │\n",
       "│ 3354…          ┆            ┆        ┆      ┆   ┆            ┆     ┆             ┆               │\n",
       "│ 14872CEC0215B4 ┆ 2010-04-27 ┆ OFM05  ┆ null ┆ … ┆ 1942-01-23 ┆ M   ┆ 94          ┆ ปัตตานี         │\n",
       "│ A6680B66FAB6C5 ┆            ┆        ┆      ┆   ┆            ┆     ┆             ┆               │\n",
       "│ 8C6A…          ┆            ┆        ┆      ┆   ┆            ┆     ┆             ┆               │\n",
       "│ 182325FC7323B7 ┆ 2010-05-25 ┆ OER101 ┆ null ┆ … ┆ 1940-08-04 ┆ M   ┆ 10          ┆ กทม           │\n",
       "│ FE7E3DB373BBD2 ┆            ┆        ┆      ┆   ┆            ┆     ┆             ┆               │\n",
       "│ F54F…          ┆            ┆        ┆      ┆   ┆            ┆     ┆             ┆               │\n",
       "│ 1AB53044B55507 ┆ 2010-05-08 ┆ OFM05  ┆ null ┆ … ┆ 1963-08-17 ┆ F   ┆ 10          ┆ กทม           │\n",
       "│ ACB09F0A2E45DD ┆            ┆        ┆      ┆   ┆            ┆     ┆             ┆               │\n",
       "│ 8A10…          ┆            ┆        ┆      ┆   ┆            ┆     ┆             ┆               │\n",
       "│ …              ┆ …          ┆ …      ┆ …    ┆ … ┆ …          ┆ …   ┆ …           ┆ …             │\n",
       "│ C3FD766CABD120 ┆ 2012-04-12 ┆ null   ┆ null ┆ … ┆ 1942-01-13 ┆ M   ┆ 84          ┆ สุราษฎร์ธานี     │\n",
       "│ 4B1A4334AA6979 ┆            ┆        ┆      ┆   ┆            ┆     ┆             ┆               │\n",
       "│ FFE4…          ┆            ┆        ┆      ┆   ┆            ┆     ┆             ┆               │\n",
       "│ 75CE3891CA1EF1 ┆ 2018-02-07 ┆ null   ┆ null ┆ … ┆ 1944-11-17 ┆ F   ┆ 21          ┆ ระยอง         │\n",
       "│ 380108F130B50C ┆            ┆        ┆      ┆   ┆            ┆     ┆             ┆               │\n",
       "│ 6FCE…          ┆            ┆        ┆      ┆   ┆            ┆     ┆             ┆               │\n",
       "│ C713CDF08EAFF5 ┆ 2017-09-16 ┆ null   ┆ null ┆ … ┆ 1923-12-16 ┆ F   ┆ 10          ┆ กทม           │\n",
       "│ D8518BCDB63487 ┆            ┆        ┆      ┆   ┆            ┆     ┆             ┆               │\n",
       "│ E5C4…          ┆            ┆        ┆      ┆   ┆            ┆     ┆             ┆               │\n",
       "│ 7427D67262440F ┆ 2020-01-10 ┆ null   ┆ null ┆ … ┆ 1940-01-01 ┆ F   ┆ 10          ┆ กทม           │\n",
       "│ 005C446FB238BD ┆            ┆        ┆      ┆   ┆            ┆     ┆             ┆               │\n",
       "│ B10A…          ┆            ┆        ┆      ┆   ┆            ┆     ┆             ┆               │\n",
       "│ CFCB972F3CABAF ┆ 2017-02-22 ┆ null   ┆ null ┆ … ┆ 1934-10-22 ┆ M   ┆ 10          ┆ กทม           │\n",
       "│ 410BDBAFADBE9C ┆            ┆        ┆      ┆   ┆            ┆     ┆             ┆               │\n",
       "│ 3A56…          ┆            ┆        ┆      ┆   ┆            ┆     ┆             ┆               │\n",
       "└────────────────┴────────────┴────────┴──────┴───┴────────────┴─────┴─────────────┴───────────────┘"
      ]
     },
     "execution_count": 3,
     "metadata": {},
     "output_type": "execute_result"
    }
   ],
   "source": [
    "df = pl.read_parquet(r'D:\\Prut\\Warehouses\\output\\Dec23\\wh\\complete\\AF_warehouse_exported_22-02-2024.parquet.gzip')\n",
    "df"
   ]
  },
  {
   "cell_type": "code",
   "execution_count": 13,
   "metadata": {},
   "outputs": [],
   "source": [
    "oac = ['Warfarin_sodium_5_mg',\t'Warfarin_sodium_3_mg',\t'Dabigatran_etexilate_110_mg',\t'Rivaroxaban_10_mg',\t'Dabigatran_etexilate_75_mg',\t'Dabigatran_etexilate_150_mg',\t'Rivaroxaban_15_mg',\t'Rivaroxaban_20_mg',\t'Apixaban_5_mg',\t'Edoxaban_tosilate_60_mg',\t'Rivaroxaban_2.5_mg']\n",
    "\n",
    "\n",
    "df2 = df.filter( (pl.col('Date') - pl.col('DOB')) >= pl.duration(days=365*75))"
   ]
  },
  {
   "cell_type": "code",
   "execution_count": 16,
   "metadata": {},
   "outputs": [
    {
     "data": {
      "text/plain": [
       "11414"
      ]
     },
     "execution_count": 16,
     "metadata": {},
     "output_type": "execute_result"
    }
   ],
   "source": [
    "df2['ENC_HN'].n_unique()"
   ]
  },
  {
   "cell_type": "code",
   "execution_count": 34,
   "metadata": {},
   "outputs": [
    {
     "data": {
      "text/plain": [
       "[{'Warfarin_sodium_5_mg': 954,\n",
       "  'Warfarin_sodium_3_mg': 3484,\n",
       "  'Dabigatran_etexilate_110_mg': 742,\n",
       "  'Rivaroxaban_10_mg': 384,\n",
       "  'Dabigatran_etexilate_75_mg': 211,\n",
       "  'Dabigatran_etexilate_150_mg': 115,\n",
       "  'Rivaroxaban_15_mg': 714,\n",
       "  'Rivaroxaban_20_mg': 326,\n",
       "  'Apixaban_5_mg': 1224,\n",
       "  'Edoxaban_tosilate_60_mg': 673,\n",
       "  'Rivaroxaban_2.5_mg': 11}]"
      ]
     },
     "execution_count": 34,
     "metadata": {},
     "output_type": "execute_result"
    }
   ],
   "source": [
    "df2[['ENC_HN'] + oac].group_by('ENC_HN').agg(pl.all().count()).with_columns(pl.col(oac).cast(bool)).select(oac).sum().to_dicts()"
   ]
  },
  {
   "cell_type": "code",
   "execution_count": null,
   "metadata": {},
   "outputs": [],
   "source": []
  }
 ],
 "metadata": {
  "kernelspec": {
   "display_name": "prut",
   "language": "python",
   "name": "python3"
  },
  "language_info": {
   "codemirror_mode": {
    "name": "ipython",
    "version": 3
   },
   "file_extension": ".py",
   "mimetype": "text/x-python",
   "name": "python",
   "nbconvert_exporter": "python",
   "pygments_lexer": "ipython3",
   "version": "3.12.1"
  }
 },
 "nbformat": 4,
 "nbformat_minor": 2
}
