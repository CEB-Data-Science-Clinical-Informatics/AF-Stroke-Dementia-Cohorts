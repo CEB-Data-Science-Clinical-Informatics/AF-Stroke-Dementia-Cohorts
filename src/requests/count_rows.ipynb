{
 "cells": [
  {
   "cell_type": "code",
   "execution_count": 4,
   "metadata": {},
   "outputs": [],
   "source": [
    "import polars as pl"
   ]
  },
  {
   "cell_type": "code",
   "execution_count": 5,
   "metadata": {},
   "outputs": [
    {
     "name": "stderr",
     "output_type": "stream",
     "text": [
      "<>:1: SyntaxWarning: invalid escape sequence '\\P'\n",
      "<>:1: SyntaxWarning: invalid escape sequence '\\P'\n",
      "C:\\Users\\PC5\\AppData\\Local\\Temp\\ipykernel_32068\\2459654224.py:1: SyntaxWarning: invalid escape sequence '\\P'\n",
      "  af = pl.read_parquet('D:\\Prut\\Warehouses\\output\\Dec23\\wh\\complete\\AF_warehouse_exported_22-02-2024.parquet.gzip')\n"
     ]
    }
   ],
   "source": [
    "af = pl.read_parquet('D:\\Prut\\Warehouses\\output\\Dec23\\wh\\complete\\AF_warehouse_exported_22-02-2024.parquet.gzip')"
   ]
  },
  {
   "cell_type": "code",
   "execution_count": 6,
   "metadata": {},
   "outputs": [
    {
     "name": "stderr",
     "output_type": "stream",
     "text": [
      "<>:1: SyntaxWarning: invalid escape sequence '\\P'\n",
      "<>:1: SyntaxWarning: invalid escape sequence '\\P'\n",
      "C:\\Users\\PC5\\AppData\\Local\\Temp\\ipykernel_32068\\1789862749.py:1: SyntaxWarning: invalid escape sequence '\\P'\n",
      "  st = pl.read_parquet('D:\\Prut\\Warehouses\\output\\Dec23\\wh\\complete\\Stroke_warehouse_exported_05-03-2024.parquet.gzip')\n"
     ]
    }
   ],
   "source": [
    "st = pl.read_parquet('D:\\Prut\\Warehouses\\output\\Dec23\\wh\\complete\\Stroke_warehouse_exported_05-03-2024.parquet.gzip')"
   ]
  },
  {
   "cell_type": "code",
   "execution_count": 7,
   "metadata": {},
   "outputs": [
    {
     "data": {
      "text/plain": [
       "2761854"
      ]
     },
     "execution_count": 7,
     "metadata": {},
     "output_type": "execute_result"
    }
   ],
   "source": [
    "len(af)"
   ]
  },
  {
   "cell_type": "code",
   "execution_count": 8,
   "metadata": {},
   "outputs": [
    {
     "data": {
      "text/plain": [
       "3362322"
      ]
     },
     "execution_count": 8,
     "metadata": {},
     "output_type": "execute_result"
    }
   ],
   "source": [
    "len(st)"
   ]
  },
  {
   "cell_type": "code",
   "execution_count": 9,
   "metadata": {},
   "outputs": [
    {
     "data": {
      "text/plain": [
       "23337"
      ]
     },
     "execution_count": 9,
     "metadata": {},
     "output_type": "execute_result"
    }
   ],
   "source": [
    "af['ENC_HN'].n_unique()"
   ]
  },
  {
   "cell_type": "code",
   "execution_count": 10,
   "metadata": {},
   "outputs": [
    {
     "data": {
      "text/plain": [
       "28810"
      ]
     },
     "execution_count": 10,
     "metadata": {},
     "output_type": "execute_result"
    }
   ],
   "source": [
    "st['ENC_HN'].n_unique()"
   ]
  },
  {
   "cell_type": "code",
   "execution_count": 11,
   "metadata": {},
   "outputs": [
    {
     "data": {
      "text/plain": [
       "(2, 761, 854)"
      ]
     },
     "execution_count": 11,
     "metadata": {},
     "output_type": "execute_result"
    }
   ],
   "source": [
    "2,761,854"
   ]
  },
  {
   "cell_type": "code",
   "execution_count": 12,
   "metadata": {},
   "outputs": [],
   "source": [
    "import os"
   ]
  },
  {
   "cell_type": "code",
   "execution_count": 13,
   "metadata": {},
   "outputs": [],
   "source": [
    "def get_gb(path: str) -> float:\n",
    "    return os.stat(path).st_size / (1024**3)"
   ]
  },
  {
   "cell_type": "code",
   "execution_count": 14,
   "metadata": {},
   "outputs": [
    {
     "name": "stderr",
     "output_type": "stream",
     "text": [
      "<>:1: SyntaxWarning: invalid escape sequence '\\P'\n",
      "<>:1: SyntaxWarning: invalid escape sequence '\\P'\n",
      "C:\\Users\\PC5\\AppData\\Local\\Temp\\ipykernel_32068\\1013307917.py:1: SyntaxWarning: invalid escape sequence '\\P'\n",
      "  get_gb('D:\\Prut\\Warehouses\\output\\Dec23\\wh\\complete\\AF_warehouse_exported_22-02-2024.parquet.gzip')\n"
     ]
    },
    {
     "data": {
      "text/plain": [
       "0.14263731986284256"
      ]
     },
     "execution_count": 14,
     "metadata": {},
     "output_type": "execute_result"
    }
   ],
   "source": [
    "get_gb('D:\\Prut\\Warehouses\\output\\Dec23\\wh\\complete\\AF_warehouse_exported_22-02-2024.parquet.gzip')"
   ]
  },
  {
   "cell_type": "code",
   "execution_count": 15,
   "metadata": {},
   "outputs": [
    {
     "name": "stderr",
     "output_type": "stream",
     "text": [
      "<>:1: SyntaxWarning: invalid escape sequence '\\P'\n",
      "<>:1: SyntaxWarning: invalid escape sequence '\\P'\n",
      "C:\\Users\\PC5\\AppData\\Local\\Temp\\ipykernel_32068\\1093423257.py:1: SyntaxWarning: invalid escape sequence '\\P'\n",
      "  get_gb('D:\\Prut\\Warehouses\\output\\Dec23\\wh\\complete\\AF_warehouse_exported_22-02-2024.csv')\n"
     ]
    },
    {
     "data": {
      "text/plain": [
       "0.4356000339612365"
      ]
     },
     "execution_count": 15,
     "metadata": {},
     "output_type": "execute_result"
    }
   ],
   "source": [
    "get_gb('D:\\Prut\\Warehouses\\output\\Dec23\\wh\\complete\\AF_warehouse_exported_22-02-2024.csv')"
   ]
  },
  {
   "cell_type": "code",
   "execution_count": 16,
   "metadata": {},
   "outputs": [
    {
     "name": "stderr",
     "output_type": "stream",
     "text": [
      "<>:1: SyntaxWarning: invalid escape sequence '\\P'\n",
      "<>:1: SyntaxWarning: invalid escape sequence '\\P'\n",
      "C:\\Users\\PC5\\AppData\\Local\\Temp\\ipykernel_32068\\1581799426.py:1: SyntaxWarning: invalid escape sequence '\\P'\n",
      "  get_gb('D:\\Prut\\Warehouses\\output\\Dec23\\wh\\complete\\Stroke_warehouse_exported_05-03-2024.parquet.gzip')\n"
     ]
    },
    {
     "data": {
      "text/plain": [
       "0.16890922095626593"
      ]
     },
     "execution_count": 16,
     "metadata": {},
     "output_type": "execute_result"
    }
   ],
   "source": [
    "get_gb('D:\\Prut\\Warehouses\\output\\Dec23\\wh\\complete\\Stroke_warehouse_exported_05-03-2024.parquet.gzip')"
   ]
  },
  {
   "cell_type": "code",
   "execution_count": 17,
   "metadata": {},
   "outputs": [
    {
     "name": "stderr",
     "output_type": "stream",
     "text": [
      "<>:1: SyntaxWarning: invalid escape sequence '\\P'\n",
      "<>:1: SyntaxWarning: invalid escape sequence '\\P'\n",
      "C:\\Users\\PC5\\AppData\\Local\\Temp\\ipykernel_32068\\1821368543.py:1: SyntaxWarning: invalid escape sequence '\\P'\n",
      "  get_gb('D:\\Prut\\Warehouses\\output\\Dec23\\wh\\complete\\Stroke_warehouse_exported_05-03-2024.csv')\n"
     ]
    },
    {
     "data": {
      "text/plain": [
       "0.5216651801019907"
      ]
     },
     "execution_count": 17,
     "metadata": {},
     "output_type": "execute_result"
    }
   ],
   "source": [
    "get_gb('D:\\Prut\\Warehouses\\output\\Dec23\\wh\\complete\\Stroke_warehouse_exported_05-03-2024.csv')"
   ]
  },
  {
   "cell_type": "markdown",
   "metadata": {},
   "source": [
    "---"
   ]
  },
  {
   "cell_type": "markdown",
   "metadata": {},
   "source": [
    "AF before 2010"
   ]
  },
  {
   "cell_type": "code",
   "execution_count": 53,
   "metadata": {},
   "outputs": [],
   "source": [
    "cohort1_path = 'D:/Prut/Warehouses/output/Dec23/n/requests/cohort_1_2_310524/af_cohort_1.csv'\n",
    "cohort2_path = 'D:/Prut/Warehouses/output/Dec23/n/requests/cohort_1_2_310524/af_cohort_2.csv'"
   ]
  },
  {
   "cell_type": "code",
   "execution_count": 57,
   "metadata": {},
   "outputs": [],
   "source": [
    "# Cohort 1\n",
    "af[['ENC_HN', 'Date']].group_by('ENC_HN').agg(pl.col('Date').min()).write_csv(cohort1_path)\n",
    "# Cohort 2\n",
    "af.filter(~pl.col('ENC_HN').is_in(afbef_hn)).group_by('ENC_HN').agg(pl.col('Date').min()).write_csv(cohort2_path)"
   ]
  },
  {
   "cell_type": "code",
   "execution_count": 58,
   "metadata": {},
   "outputs": [
    {
     "data": {
      "text/html": [
       "<div><style>\n",
       ".dataframe > thead > tr,\n",
       ".dataframe > tbody > tr {\n",
       "  text-align: right;\n",
       "  white-space: pre-wrap;\n",
       "}\n",
       "</style>\n",
       "<small>shape: (23_337, 2)</small><table border=\"1\" class=\"dataframe\"><thead><tr><th>ENC_HN</th><th>Date</th></tr><tr><td>str</td><td>str</td></tr></thead><tbody><tr><td>&quot;0F83C3CAC1F74B…</td><td>&quot;2018-05-27&quot;</td></tr><tr><td>&quot;5D09DF747D7759…</td><td>&quot;2010-05-14&quot;</td></tr><tr><td>&quot;BDC73ACFB97F94…</td><td>&quot;2010-01-06&quot;</td></tr><tr><td>&quot;BB856292F23DDB…</td><td>&quot;2018-07-18&quot;</td></tr><tr><td>&quot;6CF6D685223CF7…</td><td>&quot;2012-10-03&quot;</td></tr><tr><td>&quot;F0119FC178B73D…</td><td>&quot;2010-02-04&quot;</td></tr><tr><td>&quot;A5740E1188FCDB…</td><td>&quot;2015-07-26&quot;</td></tr><tr><td>&quot;0B54FA16243766…</td><td>&quot;2019-10-02&quot;</td></tr><tr><td>&quot;9E6142CB803ECB…</td><td>&quot;2013-03-04&quot;</td></tr><tr><td>&quot;628B2940B1D182…</td><td>&quot;2017-08-11&quot;</td></tr><tr><td>&quot;199C38465CA7CC…</td><td>&quot;2021-08-23&quot;</td></tr><tr><td>&quot;AB97462F79EB1F…</td><td>&quot;2010-01-20&quot;</td></tr><tr><td>&hellip;</td><td>&hellip;</td></tr><tr><td>&quot;E4EA93EA366DD1…</td><td>&quot;2010-02-27&quot;</td></tr><tr><td>&quot;4256B08F473B5D…</td><td>&quot;2011-02-11&quot;</td></tr><tr><td>&quot;7D14249796E618…</td><td>&quot;2015-08-25&quot;</td></tr><tr><td>&quot;572DA41846673C…</td><td>&quot;2010-02-16&quot;</td></tr><tr><td>&quot;FC4DC69B7381AA…</td><td>&quot;2013-08-17&quot;</td></tr><tr><td>&quot;2E4F72AF2CD708…</td><td>&quot;2018-09-06&quot;</td></tr><tr><td>&quot;3F6EBFB771F873…</td><td>&quot;2010-01-18&quot;</td></tr><tr><td>&quot;1F0C9C8970477C…</td><td>&quot;2017-05-29&quot;</td></tr><tr><td>&quot;0329F4A72AFAE1…</td><td>&quot;2010-04-24&quot;</td></tr><tr><td>&quot;91905B34F1EE79…</td><td>&quot;2010-04-20&quot;</td></tr><tr><td>&quot;88E7674483DE34…</td><td>&quot;2020-01-24&quot;</td></tr><tr><td>&quot;C438701F5EB0F5…</td><td>&quot;2010-01-19&quot;</td></tr></tbody></table></div>"
      ],
      "text/plain": [
       "shape: (23_337, 2)\n",
       "┌───────────────────────────────────┬────────────┐\n",
       "│ ENC_HN                            ┆ Date       │\n",
       "│ ---                               ┆ ---        │\n",
       "│ str                               ┆ str        │\n",
       "╞═══════════════════════════════════╪════════════╡\n",
       "│ 0F83C3CAC1F74B05736161FA5ED64B21… ┆ 2018-05-27 │\n",
       "│ 5D09DF747D775972780D6811935645B2… ┆ 2010-05-14 │\n",
       "│ BDC73ACFB97F9424E396AFC5FEB9D63A… ┆ 2010-01-06 │\n",
       "│ BB856292F23DDB4DA8FA20BD9687A5C4… ┆ 2018-07-18 │\n",
       "│ 6CF6D685223CF7EBFB9FB83FDB5A71D5… ┆ 2012-10-03 │\n",
       "│ …                                 ┆ …          │\n",
       "│ 1F0C9C8970477C049B5024A766AB9EDF… ┆ 2017-05-29 │\n",
       "│ 0329F4A72AFAE175E10EADD5C3E5C3B4… ┆ 2010-04-24 │\n",
       "│ 91905B34F1EE7941CB1985B840069FE3… ┆ 2010-04-20 │\n",
       "│ 88E7674483DE346158070541B1123F96… ┆ 2020-01-24 │\n",
       "│ C438701F5EB0F5DD16C524EB4196F279… ┆ 2010-01-19 │\n",
       "└───────────────────────────────────┴────────────┘"
      ]
     },
     "execution_count": 58,
     "metadata": {},
     "output_type": "execute_result"
    }
   ],
   "source": [
    "pl.read_csv(cohort1_path)"
   ]
  },
  {
   "cell_type": "code",
   "execution_count": 59,
   "metadata": {},
   "outputs": [
    {
     "data": {
      "text/html": [
       "<div><style>\n",
       ".dataframe > thead > tr,\n",
       ".dataframe > tbody > tr {\n",
       "  text-align: right;\n",
       "  white-space: pre-wrap;\n",
       "}\n",
       "</style>\n",
       "<small>shape: (23_262, 2)</small><table border=\"1\" class=\"dataframe\"><thead><tr><th>ENC_HN</th><th>Date</th></tr><tr><td>str</td><td>str</td></tr></thead><tbody><tr><td>&quot;6D77A31D5F5CD4…</td><td>&quot;2010-01-08&quot;</td></tr><tr><td>&quot;462393C06C1A09…</td><td>&quot;2018-11-11&quot;</td></tr><tr><td>&quot;323D539D2590BC…</td><td>&quot;2015-05-28&quot;</td></tr><tr><td>&quot;588C41E88648FA…</td><td>&quot;2010-11-01&quot;</td></tr><tr><td>&quot;8C71FEE48988AA…</td><td>&quot;2016-03-31&quot;</td></tr><tr><td>&quot;3BF33AC0B21E5A…</td><td>&quot;2015-09-22&quot;</td></tr><tr><td>&quot;4B022971EB9D82…</td><td>&quot;2012-05-03&quot;</td></tr><tr><td>&quot;064F9109636874…</td><td>&quot;2010-03-30&quot;</td></tr><tr><td>&quot;9863FC46D54068…</td><td>&quot;2019-09-19&quot;</td></tr><tr><td>&quot;FD2B607F0C1048…</td><td>&quot;2010-06-25&quot;</td></tr><tr><td>&quot;0A9A54DB69377E…</td><td>&quot;2020-08-31&quot;</td></tr><tr><td>&quot;99FF7F95C5B4D3…</td><td>&quot;2010-01-25&quot;</td></tr><tr><td>&hellip;</td><td>&hellip;</td></tr><tr><td>&quot;08E79CE44F5CBA…</td><td>&quot;2010-03-30&quot;</td></tr><tr><td>&quot;9A9BC117595887…</td><td>&quot;2016-06-06&quot;</td></tr><tr><td>&quot;2FBACA2E6C7455…</td><td>&quot;2010-03-30&quot;</td></tr><tr><td>&quot;E6FC7CEB5DAB2A…</td><td>&quot;2013-09-30&quot;</td></tr><tr><td>&quot;95D2C944D31BFC…</td><td>&quot;2010-03-22&quot;</td></tr><tr><td>&quot;FD604D67D76446…</td><td>&quot;2018-11-07&quot;</td></tr><tr><td>&quot;F594DFB848C1FA…</td><td>&quot;2022-12-01&quot;</td></tr><tr><td>&quot;D45DB85DC5B060…</td><td>&quot;2018-01-20&quot;</td></tr><tr><td>&quot;526FDCF78A1082…</td><td>&quot;2012-07-12&quot;</td></tr><tr><td>&quot;5EA743B5C58844…</td><td>&quot;2016-12-29&quot;</td></tr><tr><td>&quot;AF449D12012D44…</td><td>&quot;2012-08-16&quot;</td></tr><tr><td>&quot;CB6E46C13A7BE4…</td><td>&quot;2010-02-02&quot;</td></tr></tbody></table></div>"
      ],
      "text/plain": [
       "shape: (23_262, 2)\n",
       "┌───────────────────────────────────┬────────────┐\n",
       "│ ENC_HN                            ┆ Date       │\n",
       "│ ---                               ┆ ---        │\n",
       "│ str                               ┆ str        │\n",
       "╞═══════════════════════════════════╪════════════╡\n",
       "│ 6D77A31D5F5CD42294A5F37E2019342D… ┆ 2010-01-08 │\n",
       "│ 462393C06C1A09236CE8DBBF23C535FF… ┆ 2018-11-11 │\n",
       "│ 323D539D2590BC4CC0D4F797C17D2C1E… ┆ 2015-05-28 │\n",
       "│ 588C41E88648FA969F2DA76D0FD9C184… ┆ 2010-11-01 │\n",
       "│ 8C71FEE48988AA2DCCA65D1DA127710D… ┆ 2016-03-31 │\n",
       "│ …                                 ┆ …          │\n",
       "│ D45DB85DC5B06091E029B691CD2B5818… ┆ 2018-01-20 │\n",
       "│ 526FDCF78A1082E5BBCCD78C7BE58FDD… ┆ 2012-07-12 │\n",
       "│ 5EA743B5C58844815ABE79A1BE5A0139… ┆ 2016-12-29 │\n",
       "│ AF449D12012D44EF907595E344E1A588… ┆ 2012-08-16 │\n",
       "│ CB6E46C13A7BE41A1F3DD54E095F20DF… ┆ 2010-02-02 │\n",
       "└───────────────────────────────────┴────────────┘"
      ]
     },
     "execution_count": 59,
     "metadata": {},
     "output_type": "execute_result"
    }
   ],
   "source": [
    "pl.read_csv(cohort2_path)"
   ]
  },
  {
   "cell_type": "code",
   "execution_count": 18,
   "metadata": {},
   "outputs": [],
   "source": [
    "afbef = pl.read_csv(r'D:\\Prut\\Warehouses\\src\\requests\\ajeak\\targets_AF_19991_2010-2022(HashedHN).csv')"
   ]
  },
  {
   "cell_type": "code",
   "execution_count": 19,
   "metadata": {},
   "outputs": [
    {
     "data": {
      "text/html": [
       "<div><style>\n",
       ".dataframe > thead > tr,\n",
       ".dataframe > tbody > tr {\n",
       "  text-align: right;\n",
       "  white-space: pre-wrap;\n",
       "}\n",
       "</style>\n",
       "<small>shape: (19_991, 4)</small><table border=\"1\" class=\"dataframe\"><thead><tr><th>ENC_HN</th><th>Diag</th><th>DiagDate</th><th>FirstDiag</th></tr><tr><td>str</td><td>str</td><td>str</td><td>str</td></tr></thead><tbody><tr><td>&quot;1B39D7D247FAF7…</td><td>&quot;1. icd+ecg/hol…</td><td>&quot;16/1/2022&quot;</td><td>&quot;by EKG&quot;</td></tr><tr><td>&quot;F44F7AD3764FD9…</td><td>&quot;1. icd+ecg/hol…</td><td>&quot;31/8/2022&quot;</td><td>&quot;by EKG&quot;</td></tr><tr><td>&quot;4798862B04EA72…</td><td>&quot;1. icd+ecg/hol…</td><td>&quot;22/6/2021&quot;</td><td>&quot;by EKG&quot;</td></tr><tr><td>&quot;FAB13CDF2898F4…</td><td>&quot;1. icd+ecg/hol…</td><td>&quot;22/6/2021&quot;</td><td>&quot;by EKG&quot;</td></tr><tr><td>&quot;D6DCF6F5555960…</td><td>&quot;1. icd+ecg/hol…</td><td>&quot;12/10/2021&quot;</td><td>&quot;by EKG&quot;</td></tr><tr><td>&quot;D5460D16700001…</td><td>&quot;1. icd+ecg/hol…</td><td>&quot;4/2/2021&quot;</td><td>&quot;by EKG&quot;</td></tr><tr><td>&quot;F1F523E2DCCA5F…</td><td>&quot;1. icd+ecg/hol…</td><td>&quot;31/5/2021&quot;</td><td>&quot;by EKG&quot;</td></tr><tr><td>&quot;78A94DE45A1987…</td><td>&quot;1. icd+ecg/hol…</td><td>&quot;13/1/2021&quot;</td><td>&quot;by EKG&quot;</td></tr><tr><td>&quot;D85CEDCFCBA668…</td><td>&quot;1. icd+ecg/hol…</td><td>&quot;13/3/2021&quot;</td><td>&quot;by EKG&quot;</td></tr><tr><td>&quot;F0A2E9BFFFD979…</td><td>&quot;1. icd+ecg/hol…</td><td>&quot;8/9/2022&quot;</td><td>&quot;by EKG&quot;</td></tr><tr><td>&quot;BC895B7B874BB6…</td><td>&quot;1. icd+ecg/hol…</td><td>&quot;23/3/2021&quot;</td><td>&quot;by EKG&quot;</td></tr><tr><td>&quot;2EBCB748312D65…</td><td>&quot;1. icd+ecg/hol…</td><td>&quot;2/7/2022&quot;</td><td>&quot;by EKG&quot;</td></tr><tr><td>&hellip;</td><td>&hellip;</td><td>&hellip;</td><td>&hellip;</td></tr><tr><td>&quot;FAD0BE29D191A4…</td><td>&quot;4. icd+oac&quot;</td><td>&quot;16/5/2018 0:00…</td><td>null</td></tr><tr><td>&quot;1ABDE7687B8E9F…</td><td>&quot;4. icd+oac&quot;</td><td>&quot;7/2/2018 0:00&quot;</td><td>null</td></tr><tr><td>&quot;99B6FBD8450B52…</td><td>&quot;4. icd+oac&quot;</td><td>&quot;18/3/2018 0:00…</td><td>null</td></tr><tr><td>&quot;9287498C6CB00C…</td><td>&quot;4. icd+oac&quot;</td><td>&quot;28/4/2018 0:00…</td><td>null</td></tr><tr><td>&quot;0910BE3307C226…</td><td>&quot;4. icd+oac&quot;</td><td>&quot;15/10/2019 0:0…</td><td>null</td></tr><tr><td>&quot;AC263AA012DF45…</td><td>&quot;4. icd+oac&quot;</td><td>&quot;6/4/2019 0:00&quot;</td><td>null</td></tr><tr><td>&quot;8A8DB22A838E24…</td><td>&quot;4. icd+oac&quot;</td><td>&quot;26/3/2019 0:00…</td><td>null</td></tr><tr><td>&quot;6C91CE6E99C401…</td><td>&quot;4. icd+oac&quot;</td><td>&quot;19/7/2019 0:00…</td><td>null</td></tr><tr><td>&quot;E1ACE9D2A02B31…</td><td>&quot;4. icd+oac&quot;</td><td>&quot;11/12/2020 0:0…</td><td>null</td></tr><tr><td>&quot;55F4E359A5E8F5…</td><td>&quot;4. icd+oac&quot;</td><td>&quot;13/12/2019 0:0…</td><td>null</td></tr><tr><td>&quot;0D4E9E5D98A1DE…</td><td>&quot;4. icd+oac&quot;</td><td>&quot;28/4/2020 0:00…</td><td>null</td></tr><tr><td>&quot;7B2EB3C99E8C8F…</td><td>&quot;4. icd+oac&quot;</td><td>&quot;11/9/2020 0:00…</td><td>null</td></tr></tbody></table></div>"
      ],
      "text/plain": [
       "shape: (19_991, 4)\n",
       "┌───────────────────────────────────┬───────────────────┬─────────────────┬───────────┐\n",
       "│ ENC_HN                            ┆ Diag              ┆ DiagDate        ┆ FirstDiag │\n",
       "│ ---                               ┆ ---               ┆ ---             ┆ ---       │\n",
       "│ str                               ┆ str               ┆ str             ┆ str       │\n",
       "╞═══════════════════════════════════╪═══════════════════╪═════════════════╪═══════════╡\n",
       "│ 1B39D7D247FAF7016CA1EAB23A0ED0BC… ┆ 1. icd+ecg/holter ┆ 16/1/2022       ┆ by EKG    │\n",
       "│ F44F7AD3764FD9233B52ED9F1F72DA49… ┆ 1. icd+ecg/holter ┆ 31/8/2022       ┆ by EKG    │\n",
       "│ 4798862B04EA7280B04379501F4770C1… ┆ 1. icd+ecg/holter ┆ 22/6/2021       ┆ by EKG    │\n",
       "│ FAB13CDF2898F415547A5A1573CE1FDD… ┆ 1. icd+ecg/holter ┆ 22/6/2021       ┆ by EKG    │\n",
       "│ D6DCF6F555596014FB67E8D255B93708… ┆ 1. icd+ecg/holter ┆ 12/10/2021      ┆ by EKG    │\n",
       "│ …                                 ┆ …                 ┆ …               ┆ …         │\n",
       "│ 6C91CE6E99C401953E598C91D0E228B6… ┆ 4. icd+oac        ┆ 19/7/2019 0:00  ┆ null      │\n",
       "│ E1ACE9D2A02B3174187B05D5FE6B28D5… ┆ 4. icd+oac        ┆ 11/12/2020 0:00 ┆ null      │\n",
       "│ 55F4E359A5E8F57C430B117905E62978… ┆ 4. icd+oac        ┆ 13/12/2019 0:00 ┆ null      │\n",
       "│ 0D4E9E5D98A1DED1BCC69D7BD1796970… ┆ 4. icd+oac        ┆ 28/4/2020 0:00  ┆ null      │\n",
       "│ 7B2EB3C99E8C8F081164FE7E225DA316… ┆ 4. icd+oac        ┆ 11/9/2020 0:00  ┆ null      │\n",
       "└───────────────────────────────────┴───────────────────┴─────────────────┴───────────┘"
      ]
     },
     "execution_count": 19,
     "metadata": {},
     "output_type": "execute_result"
    }
   ],
   "source": [
    "afbef"
   ]
  },
  {
   "cell_type": "code",
   "execution_count": 20,
   "metadata": {},
   "outputs": [
    {
     "data": {
      "text/html": [
       "<div><style>\n",
       ".dataframe > thead > tr,\n",
       ".dataframe > tbody > tr {\n",
       "  text-align: right;\n",
       "  white-space: pre-wrap;\n",
       "}\n",
       "</style>\n",
       "<small>shape: (75, 5)</small><table border=\"1\" class=\"dataframe\"><thead><tr><th>ENC_HN</th><th>Diag</th><th>DiagDate</th><th>FirstDiag</th><th>Year</th></tr><tr><td>str</td><td>str</td><td>str</td><td>str</td><td>i32</td></tr></thead><tbody><tr><td>&quot;74326D1DA6DC7B…</td><td>&quot;3. icd+ecg/hol…</td><td>&quot;28/9/1987 0:00…</td><td>null</td><td>1987</td></tr><tr><td>&quot;394E6007AE970C…</td><td>&quot;3. icd+ecg/hol…</td><td>&quot;17/10/2009 0:0…</td><td>null</td><td>2009</td></tr><tr><td>&quot;824ABD407F3809…</td><td>&quot;3. icd+ecg/hol…</td><td>&quot;5/7/2002 0:00&quot;</td><td>null</td><td>2002</td></tr><tr><td>&quot;A06DF37FA110C0…</td><td>&quot;3. icd+ecg/hol…</td><td>&quot;31/12/1989 0:0…</td><td>null</td><td>1989</td></tr><tr><td>&quot;8DC57B6479B38D…</td><td>&quot;3. icd+ecg/hol…</td><td>&quot;15/12/2009 0:0…</td><td>null</td><td>2009</td></tr><tr><td>&quot;F6EBD360312D01…</td><td>&quot;3. icd+ecg/hol…</td><td>&quot;19/9/2003 0:00…</td><td>null</td><td>2003</td></tr><tr><td>&quot;B4BE45C4B5F2C1…</td><td>&quot;3. icd+ecg/hol…</td><td>&quot;24/10/2007 0:0…</td><td>null</td><td>2007</td></tr><tr><td>&quot;80C74CF8D6EFBD…</td><td>&quot;3. icd+ecg/hol…</td><td>&quot;22/8/2006 0:00…</td><td>null</td><td>2006</td></tr><tr><td>&quot;9BCC5A2799C92A…</td><td>&quot;3. icd+ecg/hol…</td><td>&quot;4/9/2005 0:00&quot;</td><td>null</td><td>2005</td></tr><tr><td>&quot;49A1B1DAA55D28…</td><td>&quot;3. icd+ecg/hol…</td><td>&quot;7/3/2003 0:00&quot;</td><td>null</td><td>2003</td></tr><tr><td>&quot;81B855C41552C6…</td><td>&quot;3. icd+ecg/hol…</td><td>&quot;8/1/1993 0:00&quot;</td><td>null</td><td>1993</td></tr><tr><td>&quot;090C958F7B69DE…</td><td>&quot;3. icd+ecg/hol…</td><td>&quot;28/11/2008 0:0…</td><td>null</td><td>2008</td></tr><tr><td>&hellip;</td><td>&hellip;</td><td>&hellip;</td><td>&hellip;</td><td>&hellip;</td></tr><tr><td>&quot;5A944DC27FEA6D…</td><td>&quot;3. icd+ecg/hol…</td><td>&quot;3/3/2009 0:00&quot;</td><td>null</td><td>2009</td></tr><tr><td>&quot;35A08BDC4D22F4…</td><td>&quot;3. icd+ecg/hol…</td><td>&quot;18/4/2009 0:00…</td><td>null</td><td>2009</td></tr><tr><td>&quot;09C8154368B5AD…</td><td>&quot;3. icd+ecg/hol…</td><td>&quot;7/3/2009 0:00&quot;</td><td>null</td><td>2009</td></tr><tr><td>&quot;A538FBBB29B151…</td><td>&quot;3. icd+ecg/hol…</td><td>&quot;6/5/2009 0:00&quot;</td><td>null</td><td>2009</td></tr><tr><td>&quot;BE62ECB897D2E5…</td><td>&quot;3. icd+ecg/hol…</td><td>&quot;21/5/2009 0:00…</td><td>null</td><td>2009</td></tr><tr><td>&quot;F98DCA9A98FEC2…</td><td>&quot;3. icd+ecg/hol…</td><td>&quot;18/6/2009 0:00…</td><td>null</td><td>2009</td></tr><tr><td>&quot;03766564B227AE…</td><td>&quot;3. icd+ecg/hol…</td><td>&quot;27/4/2009 0:00…</td><td>null</td><td>2009</td></tr><tr><td>&quot;ABDC74EB59600E…</td><td>&quot;3. icd+ecg/hol…</td><td>&quot;11/10/2009 0:0…</td><td>null</td><td>2009</td></tr><tr><td>&quot;FAA1D97F47098D…</td><td>&quot;3. icd+ecg/hol…</td><td>&quot;2/12/2009 0:00…</td><td>null</td><td>2009</td></tr><tr><td>&quot;2EBCD52302981E…</td><td>&quot;3. icd+ecg/hol…</td><td>&quot;22/11/2009 0:0…</td><td>null</td><td>2009</td></tr><tr><td>&quot;313030F8CC2A03…</td><td>&quot;3. icd+ecg/hol…</td><td>&quot;13/12/2008 0:0…</td><td>null</td><td>2008</td></tr><tr><td>&quot;CC716600C80C63…</td><td>&quot;3. icd+ecg/hol…</td><td>&quot;23/12/2009 0:0…</td><td>null</td><td>2009</td></tr></tbody></table></div>"
      ],
      "text/plain": [
       "shape: (75, 5)\n",
       "┌─────────────────────────────────┬───────────────────────────┬─────────────────┬───────────┬──────┐\n",
       "│ ENC_HN                          ┆ Diag                      ┆ DiagDate        ┆ FirstDiag ┆ Year │\n",
       "│ ---                             ┆ ---                       ┆ ---             ┆ ---       ┆ ---  │\n",
       "│ str                             ┆ str                       ┆ str             ┆ str       ┆ i32  │\n",
       "╞═════════════════════════════════╪═══════════════════════════╪═════════════════╪═══════════╪══════╡\n",
       "│ 74326D1DA6DC7B1607D65CCA79C9D1B ┆ 3. icd+ecg/holter(review) ┆ 28/9/1987 0:00  ┆ null      ┆ 1987 │\n",
       "│ 3…                              ┆                           ┆                 ┆           ┆      │\n",
       "│ 394E6007AE970CF28D9255230B3FC10 ┆ 3. icd+ecg/holter(review) ┆ 17/10/2009 0:00 ┆ null      ┆ 2009 │\n",
       "│ 9…                              ┆                           ┆                 ┆           ┆      │\n",
       "│ 824ABD407F3809E8B6B53164E383977 ┆ 3. icd+ecg/holter(review) ┆ 5/7/2002 0:00   ┆ null      ┆ 2002 │\n",
       "│ 2…                              ┆                           ┆                 ┆           ┆      │\n",
       "│ A06DF37FA110C003AD8CEADCD5E06A9 ┆ 3. icd+ecg/holter(review) ┆ 31/12/1989 0:00 ┆ null      ┆ 1989 │\n",
       "│ 3…                              ┆                           ┆                 ┆           ┆      │\n",
       "│ 8DC57B6479B38DB728A43F7C0C09996 ┆ 3. icd+ecg/holter(review) ┆ 15/12/2009 0:00 ┆ null      ┆ 2009 │\n",
       "│ 2…                              ┆                           ┆                 ┆           ┆      │\n",
       "│ …                               ┆ …                         ┆ …               ┆ …         ┆ …    │\n",
       "│ ABDC74EB59600E0D0095DE304733982 ┆ 3. icd+ecg/holter(review) ┆ 11/10/2009 0:00 ┆ null      ┆ 2009 │\n",
       "│ 5…                              ┆                           ┆                 ┆           ┆      │\n",
       "│ FAA1D97F47098DF47BDCC1471271678 ┆ 3. icd+ecg/holter(review) ┆ 2/12/2009 0:00  ┆ null      ┆ 2009 │\n",
       "│ 0…                              ┆                           ┆                 ┆           ┆      │\n",
       "│ 2EBCD52302981E3B22017203120ED4D ┆ 3. icd+ecg/holter(review) ┆ 22/11/2009 0:00 ┆ null      ┆ 2009 │\n",
       "│ 4…                              ┆                           ┆                 ┆           ┆      │\n",
       "│ 313030F8CC2A036625574A7D0B25447 ┆ 3. icd+ecg/holter(review) ┆ 13/12/2008 0:00 ┆ null      ┆ 2008 │\n",
       "│ F…                              ┆                           ┆                 ┆           ┆      │\n",
       "│ CC716600C80C63A67DEA8F8D248E660 ┆ 3. icd+ecg/holter(review) ┆ 23/12/2009 0:00 ┆ null      ┆ 2009 │\n",
       "│ B…                              ┆                           ┆                 ┆           ┆      │\n",
       "└─────────────────────────────────┴───────────────────────────┴─────────────────┴───────────┴──────┘"
      ]
     },
     "execution_count": 20,
     "metadata": {},
     "output_type": "execute_result"
    }
   ],
   "source": [
    "afbef_df = (\n",
    "    afbef.with_columns(pl.col('DiagDate').str.split(' ').list.first().str.strptime(pl.Date).dt.year().alias('Year'))\n",
    "    .filter(pl.col('Year') < 2010)\n",
    ")\n",
    "afbef_hn = afbef_df['ENC_HN'].to_list()\n",
    "afbef_df"
   ]
  },
  {
   "cell_type": "code",
   "execution_count": 21,
   "metadata": {},
   "outputs": [
    {
     "data": {
      "text/plain": [
       "23337"
      ]
     },
     "execution_count": 21,
     "metadata": {},
     "output_type": "execute_result"
    }
   ],
   "source": [
    "af['ENC_HN'].n_unique()"
   ]
  },
  {
   "cell_type": "code",
   "execution_count": 47,
   "metadata": {},
   "outputs": [
    {
     "data": {
      "text/plain": [
       "25391"
      ]
     },
     "execution_count": 47,
     "metadata": {},
     "output_type": "execute_result"
    }
   ],
   "source": [
    "pl.read_csv(r'D:\\Prut\\Warehouses\\output\\Dec23\\n\\requests\\cohort_1_2_310524\\af_cohort_1.csv')['ENC_HN'].n_unique()"
   ]
  },
  {
   "cell_type": "code",
   "execution_count": 22,
   "metadata": {},
   "outputs": [
    {
     "data": {
      "text/plain": [
       "23262"
      ]
     },
     "execution_count": 22,
     "metadata": {},
     "output_type": "execute_result"
    }
   ],
   "source": [
    "af.filter(~pl.col('ENC_HN').is_in(afbef_hn))['ENC_HN'].n_unique()"
   ]
  },
  {
   "cell_type": "code",
   "execution_count": 23,
   "metadata": {},
   "outputs": [
    {
     "data": {
      "text/plain": [
       "75"
      ]
     },
     "execution_count": 23,
     "metadata": {},
     "output_type": "execute_result"
    }
   ],
   "source": [
    "af.filter(pl.col('ENC_HN').is_in(afbef_hn))['ENC_HN'].n_unique()"
   ]
  },
  {
   "cell_type": "code",
   "execution_count": 24,
   "metadata": {},
   "outputs": [
    {
     "data": {
      "text/plain": [
       "2756989"
      ]
     },
     "execution_count": 24,
     "metadata": {},
     "output_type": "execute_result"
    }
   ],
   "source": [
    "len(af.filter(~pl.col('ENC_HN').is_in(afbef_hn)))"
   ]
  },
  {
   "cell_type": "code",
   "execution_count": 25,
   "metadata": {},
   "outputs": [
    {
     "data": {
      "text/html": [
       "<div><style>\n",
       ".dataframe > thead > tr,\n",
       ".dataframe > tbody > tr {\n",
       "  text-align: right;\n",
       "  white-space: pre-wrap;\n",
       "}\n",
       "</style>\n",
       "<small>shape: (3_362_322, 25)</small><table border=\"1\" class=\"dataframe\"><thead><tr><th>ENC_HN</th><th>Date</th><th>Site</th><th>SBP</th><th>DBP</th><th>HR</th><th>WEIGHT</th><th>HEIGHT</th><th>BMI</th><th>ICD10</th><th>antihypertensive</th><th>antidiabetic</th><th>antidyslipidemic</th><th>anticlotting</th><th>glucose</th><th>Serum creatinine</th><th>HDL</th><th>Triglyceride</th><th>LDL</th><th>Urine creatinine</th><th>Death_date</th><th>DOB</th><th>Sex</th><th>Province_ID</th><th>Province_Thai</th></tr><tr><td>str</td><td>date</td><td>str</td><td>f64</td><td>f64</td><td>f64</td><td>f64</td><td>f64</td><td>f64</td><td>str</td><td>bool</td><td>bool</td><td>bool</td><td>bool</td><td>f64</td><td>f64</td><td>f64</td><td>f64</td><td>f64</td><td>f64</td><td>date</td><td>date</td><td>str</td><td>str</td><td>str</td></tr></thead><tbody><tr><td>&quot;021ADC0E3BB818…</td><td>2010-07-19</td><td>&quot;ORH01&quot;</td><td>null</td><td>null</td><td>null</td><td>null</td><td>null</td><td>null</td><td>null</td><td>null</td><td>null</td><td>null</td><td>null</td><td>null</td><td>null</td><td>null</td><td>null</td><td>null</td><td>null</td><td>null</td><td>1937-07-24</td><td>&quot;F&quot;</td><td>&quot;80&quot;</td><td>&quot;นครศรีธรรมราช&quot;</td></tr><tr><td>&quot;03E563AA42FA88…</td><td>2010-06-17</td><td>&quot;OMD01&quot;</td><td>null</td><td>null</td><td>null</td><td>null</td><td>null</td><td>null</td><td>&quot;G309, J150, J4…</td><td>null</td><td>null</td><td>null</td><td>null</td><td>null</td><td>null</td><td>null</td><td>null</td><td>null</td><td>null</td><td>2016-03-24</td><td>1930-01-01</td><td>&quot;M&quot;</td><td>&quot;10&quot;</td><td>&quot;กทม&quot;</td></tr><tr><td>&quot;054787A7FCD8F6…</td><td>2010-12-24</td><td>&quot;OMD06&quot;</td><td>null</td><td>null</td><td>null</td><td>null</td><td>null</td><td>null</td><td>&quot;E119, I10, R80…</td><td>true</td><td>true</td><td>true</td><td>false</td><td>null</td><td>null</td><td>null</td><td>null</td><td>null</td><td>null</td><td>2019-03-15</td><td>1939-06-12</td><td>&quot;M&quot;</td><td>&quot;10&quot;</td><td>&quot;กทม&quot;</td></tr><tr><td>&quot;08396C0BC4AE25…</td><td>2010-05-25</td><td>&quot;OMD10&quot;</td><td>null</td><td>null</td><td>null</td><td>null</td><td>null</td><td>null</td><td>null</td><td>false</td><td>false</td><td>false</td><td>true</td><td>null</td><td>null</td><td>null</td><td>null</td><td>null</td><td>null</td><td>null</td><td>1974-03-27</td><td>&quot;F&quot;</td><td>&quot;18&quot;</td><td>&quot;สระบุรี&quot;</td></tr><tr><td>&quot;0B21EBB455463E…</td><td>2010-02-26</td><td>&quot;OMD27&quot;</td><td>null</td><td>null</td><td>null</td><td>null</td><td>null</td><td>null</td><td>&quot;K589&quot;</td><td>null</td><td>null</td><td>null</td><td>null</td><td>null</td><td>null</td><td>null</td><td>null</td><td>null</td><td>null</td><td>2014-11-26</td><td>1922-01-23</td><td>&quot;F&quot;</td><td>&quot;10&quot;</td><td>&quot;กทม&quot;</td></tr><tr><td>&quot;0BB76BBFA64996…</td><td>2010-03-22</td><td>&quot;OMD10&quot;</td><td>null</td><td>null</td><td>null</td><td>null</td><td>null</td><td>null</td><td>&quot;I251&quot;</td><td>null</td><td>null</td><td>null</td><td>null</td><td>null</td><td>null</td><td>null</td><td>null</td><td>null</td><td>null</td><td>2013-04-03</td><td>1916-01-01</td><td>&quot;M&quot;</td><td>&quot;999&quot;</td><td>&quot;999&quot;</td></tr><tr><td>&quot;10FE43A4937C55…</td><td>2010-08-25</td><td>&quot;MDF02&quot;</td><td>null</td><td>null</td><td>null</td><td>null</td><td>null</td><td>null</td><td>null</td><td>true</td><td>false</td><td>false</td><td>false</td><td>null</td><td>null</td><td>null</td><td>null</td><td>null</td><td>null</td><td>null</td><td>1949-01-04</td><td>&quot;M&quot;</td><td>&quot;10&quot;</td><td>&quot;กทม&quot;</td></tr><tr><td>&quot;113F06BC59333A…</td><td>2010-11-29</td><td>&quot;OMD10&quot;</td><td>null</td><td>null</td><td>null</td><td>null</td><td>null</td><td>null</td><td>&quot;E789, I251&quot;</td><td>false</td><td>false</td><td>true</td><td>false</td><td>null</td><td>null</td><td>null</td><td>null</td><td>null</td><td>null</td><td>null</td><td>1949-04-16</td><td>&quot;F&quot;</td><td>&quot;70&quot;</td><td>&quot;ราชบุรี&quot;</td></tr><tr><td>&quot;139594A4C47644…</td><td>2010-11-11</td><td>&quot;OMD17&quot;</td><td>null</td><td>null</td><td>null</td><td>null</td><td>null</td><td>null</td><td>&quot;G409&quot;</td><td>null</td><td>null</td><td>null</td><td>null</td><td>null</td><td>null</td><td>null</td><td>null</td><td>null</td><td>null</td><td>null</td><td>1978-01-29</td><td>&quot;F&quot;</td><td>&quot;10&quot;</td><td>&quot;กทม&quot;</td></tr><tr><td>&quot;140D9A7D787D07…</td><td>2010-06-07</td><td>&quot;SDOEY03&quot;</td><td>null</td><td>null</td><td>null</td><td>null</td><td>null</td><td>null</td><td>&quot;E149, H250&quot;</td><td>null</td><td>null</td><td>null</td><td>null</td><td>null</td><td>null</td><td>null</td><td>null</td><td>null</td><td>null</td><td>2014-10-31</td><td>1940-06-26</td><td>&quot;F&quot;</td><td>&quot;10&quot;</td><td>&quot;กทม&quot;</td></tr><tr><td>&quot;159B0235FB1EA9…</td><td>2010-01-06</td><td>&quot;OPD16&quot;</td><td>null</td><td>null</td><td>null</td><td>null</td><td>null</td><td>null</td><td>&quot;I639&quot;</td><td>null</td><td>null</td><td>null</td><td>null</td><td>null</td><td>null</td><td>null</td><td>null</td><td>null</td><td>null</td><td>null</td><td>1985-12-07</td><td>&quot;M&quot;</td><td>&quot;10&quot;</td><td>&quot;กทม&quot;</td></tr><tr><td>&quot;16DF2673DF46CC…</td><td>2010-08-31</td><td>&quot;OER101&quot;</td><td>null</td><td>null</td><td>null</td><td>null</td><td>null</td><td>null</td><td>&quot;E119, I10, J45…</td><td>null</td><td>null</td><td>null</td><td>null</td><td>null</td><td>null</td><td>null</td><td>null</td><td>null</td><td>null</td><td>null</td><td>1933-01-01</td><td>&quot;F&quot;</td><td>&quot;10&quot;</td><td>&quot;กทม&quot;</td></tr><tr><td>&hellip;</td><td>&hellip;</td><td>&hellip;</td><td>&hellip;</td><td>&hellip;</td><td>&hellip;</td><td>&hellip;</td><td>&hellip;</td><td>&hellip;</td><td>&hellip;</td><td>&hellip;</td><td>&hellip;</td><td>&hellip;</td><td>&hellip;</td><td>&hellip;</td><td>&hellip;</td><td>&hellip;</td><td>&hellip;</td><td>&hellip;</td><td>&hellip;</td><td>&hellip;</td><td>&hellip;</td><td>&hellip;</td><td>&hellip;</td><td>&hellip;</td></tr><tr><td>&quot;E28F1DFF574D38…</td><td>2019-07-04</td><td>null</td><td>null</td><td>null</td><td>null</td><td>null</td><td>null</td><td>null</td><td>null</td><td>null</td><td>null</td><td>null</td><td>null</td><td>null</td><td>0.89</td><td>null</td><td>null</td><td>null</td><td>null</td><td>null</td><td>1960-10-07</td><td>&quot;M&quot;</td><td>&quot;15&quot;</td><td>&quot;ลพบุรี&quot;</td></tr><tr><td>&quot;3657390872AA25…</td><td>2011-08-30</td><td>null</td><td>null</td><td>null</td><td>null</td><td>null</td><td>null</td><td>null</td><td>null</td><td>null</td><td>null</td><td>null</td><td>null</td><td>null</td><td>1.44</td><td>null</td><td>null</td><td>null</td><td>null</td><td>2017-12-23</td><td>1930-07-07</td><td>&quot;M&quot;</td><td>&quot;61&quot;</td><td>&quot;อุทัยธานี&quot;</td></tr><tr><td>&quot;DEFF18D3885DB7…</td><td>2014-11-05</td><td>null</td><td>null</td><td>null</td><td>null</td><td>null</td><td>null</td><td>null</td><td>null</td><td>null</td><td>null</td><td>null</td><td>null</td><td>76.0</td><td>1.08</td><td>null</td><td>null</td><td>82.0</td><td>null</td><td>null</td><td>1929-02-10</td><td>&quot;F&quot;</td><td>&quot;10&quot;</td><td>&quot;กทม&quot;</td></tr><tr><td>&quot;C5761627AB413B…</td><td>2015-09-09</td><td>null</td><td>null</td><td>null</td><td>null</td><td>null</td><td>null</td><td>null</td><td>null</td><td>null</td><td>null</td><td>null</td><td>null</td><td>77.0</td><td>null</td><td>74.0</td><td>50.0</td><td>null</td><td>null</td><td>null</td><td>1959-08-25</td><td>&quot;M&quot;</td><td>&quot;76&quot;</td><td>&quot;เพชรบุรี&quot;</td></tr><tr><td>&quot;51A30D815836A0…</td><td>2016-08-07</td><td>null</td><td>null</td><td>null</td><td>null</td><td>null</td><td>null</td><td>null</td><td>null</td><td>null</td><td>null</td><td>null</td><td>null</td><td>null</td><td>0.75</td><td>null</td><td>null</td><td>null</td><td>null</td><td>null</td><td>1941-10-26</td><td>&quot;F&quot;</td><td>&quot;61&quot;</td><td>&quot;อุทัยธานี&quot;</td></tr><tr><td>&quot;8BAAC4940DDA25…</td><td>2022-10-17</td><td>null</td><td>null</td><td>null</td><td>null</td><td>null</td><td>null</td><td>null</td><td>null</td><td>null</td><td>null</td><td>null</td><td>null</td><td>96.0</td><td>2.44</td><td>null</td><td>null</td><td>null</td><td>null</td><td>null</td><td>1944-11-21</td><td>&quot;M&quot;</td><td>&quot;10&quot;</td><td>&quot;กทม&quot;</td></tr><tr><td>&quot;54B8B4E1D5BB96…</td><td>2013-05-15</td><td>null</td><td>null</td><td>null</td><td>null</td><td>null</td><td>null</td><td>null</td><td>null</td><td>null</td><td>null</td><td>null</td><td>null</td><td>null</td><td>0.99</td><td>null</td><td>null</td><td>null</td><td>null</td><td>null</td><td>1927-12-12</td><td>&quot;M&quot;</td><td>&quot;999&quot;</td><td>&quot;999&quot;</td></tr><tr><td>&quot;E9ED3B0C9A13D5…</td><td>2018-05-20</td><td>null</td><td>null</td><td>null</td><td>null</td><td>null</td><td>null</td><td>null</td><td>null</td><td>null</td><td>null</td><td>null</td><td>null</td><td>90.0</td><td>0.61</td><td>58.0</td><td>89.0</td><td>78.0</td><td>null</td><td>null</td><td>1943-10-07</td><td>&quot;F&quot;</td><td>&quot;10&quot;</td><td>&quot;กทม&quot;</td></tr><tr><td>&quot;224D1E6DB702BB…</td><td>2013-10-11</td><td>null</td><td>null</td><td>null</td><td>null</td><td>null</td><td>null</td><td>null</td><td>null</td><td>null</td><td>null</td><td>null</td><td>null</td><td>92.0</td><td>1.65</td><td>null</td><td>null</td><td>null</td><td>null</td><td>null</td><td>1928-01-01</td><td>&quot;F&quot;</td><td>&quot;10&quot;</td><td>&quot;กทม&quot;</td></tr><tr><td>&quot;FC67B06AC15BF1…</td><td>2013-06-27</td><td>null</td><td>null</td><td>null</td><td>null</td><td>null</td><td>null</td><td>null</td><td>null</td><td>null</td><td>null</td><td>null</td><td>null</td><td>247.0</td><td>1.35</td><td>null</td><td>null</td><td>null</td><td>null</td><td>2018-07-31</td><td>1934-01-01</td><td>&quot;M&quot;</td><td>&quot;73&quot;</td><td>&quot;นครปฐม&quot;</td></tr><tr><td>&quot;DC3EB40963DF23…</td><td>2018-02-23</td><td>null</td><td>null</td><td>null</td><td>null</td><td>null</td><td>null</td><td>null</td><td>null</td><td>null</td><td>null</td><td>null</td><td>null</td><td>98.0</td><td>null</td><td>50.0</td><td>105.0</td><td>120.0</td><td>null</td><td>null</td><td>1943-04-01</td><td>&quot;M&quot;</td><td>&quot;90&quot;</td><td>&quot;สงขลา&quot;</td></tr><tr><td>&quot;5C706D117CD772…</td><td>2015-01-21</td><td>null</td><td>null</td><td>null</td><td>null</td><td>null</td><td>null</td><td>null</td><td>null</td><td>null</td><td>null</td><td>null</td><td>null</td><td>null</td><td>null</td><td>41.0</td><td>98.0</td><td>100.0</td><td>null</td><td>null</td><td>1933-01-01</td><td>&quot;F&quot;</td><td>&quot;10&quot;</td><td>&quot;กทม&quot;</td></tr></tbody></table></div>"
      ],
      "text/plain": [
       "shape: (3_362_322, 25)\n",
       "┌─────────────────┬────────────┬───────┬──────┬───┬────────────┬─────┬─────────────┬───────────────┐\n",
       "│ ENC_HN          ┆ Date       ┆ Site  ┆ SBP  ┆ … ┆ DOB        ┆ Sex ┆ Province_ID ┆ Province_Thai │\n",
       "│ ---             ┆ ---        ┆ ---   ┆ ---  ┆   ┆ ---        ┆ --- ┆ ---         ┆ ---           │\n",
       "│ str             ┆ date       ┆ str   ┆ f64  ┆   ┆ date       ┆ str ┆ str         ┆ str           │\n",
       "╞═════════════════╪════════════╪═══════╪══════╪═══╪════════════╪═════╪═════════════╪═══════════════╡\n",
       "│ 021ADC0E3BB818B ┆ 2010-07-19 ┆ ORH01 ┆ null ┆ … ┆ 1937-07-24 ┆ F   ┆ 80          ┆ นครศรีธรรมราช  │\n",
       "│ 00DAF641BAF7C69 ┆            ┆       ┆      ┆   ┆            ┆     ┆             ┆               │\n",
       "│ 34…             ┆            ┆       ┆      ┆   ┆            ┆     ┆             ┆               │\n",
       "│ 03E563AA42FA883 ┆ 2010-06-17 ┆ OMD01 ┆ null ┆ … ┆ 1930-01-01 ┆ M   ┆ 10          ┆ กทม           │\n",
       "│ 55D35D94CAC5AD0 ┆            ┆       ┆      ┆   ┆            ┆     ┆             ┆               │\n",
       "│ 2A…             ┆            ┆       ┆      ┆   ┆            ┆     ┆             ┆               │\n",
       "│ 054787A7FCD8F68 ┆ 2010-12-24 ┆ OMD06 ┆ null ┆ … ┆ 1939-06-12 ┆ M   ┆ 10          ┆ กทม           │\n",
       "│ ED6D683CC829118 ┆            ┆       ┆      ┆   ┆            ┆     ┆             ┆               │\n",
       "│ C7…             ┆            ┆       ┆      ┆   ┆            ┆     ┆             ┆               │\n",
       "│ 08396C0BC4AE251 ┆ 2010-05-25 ┆ OMD10 ┆ null ┆ … ┆ 1974-03-27 ┆ F   ┆ 18          ┆ สระบุรี         │\n",
       "│ EF8E89AE0F7C0FD ┆            ┆       ┆      ┆   ┆            ┆     ┆             ┆               │\n",
       "│ 26…             ┆            ┆       ┆      ┆   ┆            ┆     ┆             ┆               │\n",
       "│ 0B21EBB455463E8 ┆ 2010-02-26 ┆ OMD27 ┆ null ┆ … ┆ 1922-01-23 ┆ F   ┆ 10          ┆ กทม           │\n",
       "│ DC62BBF15920449 ┆            ┆       ┆      ┆   ┆            ┆     ┆             ┆               │\n",
       "│ F7…             ┆            ┆       ┆      ┆   ┆            ┆     ┆             ┆               │\n",
       "│ …               ┆ …          ┆ …     ┆ …    ┆ … ┆ …          ┆ …   ┆ …           ┆ …             │\n",
       "│ E9ED3B0C9A13D5E ┆ 2018-05-20 ┆ null  ┆ null ┆ … ┆ 1943-10-07 ┆ F   ┆ 10          ┆ กทม           │\n",
       "│ 335B4A137E4144B ┆            ┆       ┆      ┆   ┆            ┆     ┆             ┆               │\n",
       "│ 49…             ┆            ┆       ┆      ┆   ┆            ┆     ┆             ┆               │\n",
       "│ 224D1E6DB702BB9 ┆ 2013-10-11 ┆ null  ┆ null ┆ … ┆ 1928-01-01 ┆ F   ┆ 10          ┆ กทม           │\n",
       "│ 96034C67EF1739A ┆            ┆       ┆      ┆   ┆            ┆     ┆             ┆               │\n",
       "│ 88…             ┆            ┆       ┆      ┆   ┆            ┆     ┆             ┆               │\n",
       "│ FC67B06AC15BF16 ┆ 2013-06-27 ┆ null  ┆ null ┆ … ┆ 1934-01-01 ┆ M   ┆ 73          ┆ นครปฐม        │\n",
       "│ 451EB2ECFDD13B9 ┆            ┆       ┆      ┆   ┆            ┆     ┆             ┆               │\n",
       "│ 9E…             ┆            ┆       ┆      ┆   ┆            ┆     ┆             ┆               │\n",
       "│ DC3EB40963DF23B ┆ 2018-02-23 ┆ null  ┆ null ┆ … ┆ 1943-04-01 ┆ M   ┆ 90          ┆ สงขลา         │\n",
       "│ 8A2BF0C7F1662F6 ┆            ┆       ┆      ┆   ┆            ┆     ┆             ┆               │\n",
       "│ 26…             ┆            ┆       ┆      ┆   ┆            ┆     ┆             ┆               │\n",
       "│ 5C706D117CD7724 ┆ 2015-01-21 ┆ null  ┆ null ┆ … ┆ 1933-01-01 ┆ F   ┆ 10          ┆ กทม           │\n",
       "│ EF3247D1924B238 ┆            ┆       ┆      ┆   ┆            ┆     ┆             ┆               │\n",
       "│ A6…             ┆            ┆       ┆      ┆   ┆            ┆     ┆             ┆               │\n",
       "└─────────────────┴────────────┴───────┴──────┴───┴────────────┴─────┴─────────────┴───────────────┘"
      ]
     },
     "execution_count": 25,
     "metadata": {},
     "output_type": "execute_result"
    }
   ],
   "source": [
    "st"
   ]
  },
  {
   "cell_type": "code",
   "execution_count": 26,
   "metadata": {},
   "outputs": [
    {
     "data": {
      "text/plain": [
       "datetime.date(2010, 1, 1)"
      ]
     },
     "execution_count": 26,
     "metadata": {},
     "output_type": "execute_result"
    }
   ],
   "source": [
    "st['Date'].min()"
   ]
  },
  {
   "cell_type": "code",
   "execution_count": 27,
   "metadata": {},
   "outputs": [],
   "source": [
    "st_bef = pl.read_csv(r'D:\\Prut\\Warehouses\\output\\Dec23\\n\\requests\\2005-2009\\stroke_2005_2009.csv')"
   ]
  },
  {
   "cell_type": "code",
   "execution_count": 28,
   "metadata": {},
   "outputs": [
    {
     "data": {
      "text/html": [
       "<div><style>\n",
       ".dataframe > thead > tr,\n",
       ".dataframe > tbody > tr {\n",
       "  text-align: right;\n",
       "  white-space: pre-wrap;\n",
       "}\n",
       "</style>\n",
       "<small>shape: (0, 25)</small><table border=\"1\" class=\"dataframe\"><thead><tr><th>ENC_HN</th><th>Date</th><th>Site</th><th>SBP</th><th>DBP</th><th>HR</th><th>WEIGHT</th><th>HEIGHT</th><th>BMI</th><th>ICD10</th><th>antihypertensive</th><th>antidiabetic</th><th>antidyslipidemic</th><th>anticlotting</th><th>glucose</th><th>Serum creatinine</th><th>HDL</th><th>Triglyceride</th><th>LDL</th><th>Urine creatinine</th><th>Death_date</th><th>DOB</th><th>Sex</th><th>Province_ID</th><th>Province_Thai</th></tr><tr><td>str</td><td>date</td><td>str</td><td>f64</td><td>f64</td><td>f64</td><td>f64</td><td>f64</td><td>f64</td><td>str</td><td>bool</td><td>bool</td><td>bool</td><td>bool</td><td>f64</td><td>f64</td><td>f64</td><td>f64</td><td>f64</td><td>f64</td><td>date</td><td>date</td><td>str</td><td>str</td><td>str</td></tr></thead><tbody></tbody></table></div>"
      ],
      "text/plain": [
       "shape: (0, 25)\n",
       "┌────────┬──────┬──────┬─────┬───┬──────┬─────┬─────────────┬───────────────┐\n",
       "│ ENC_HN ┆ Date ┆ Site ┆ SBP ┆ … ┆ DOB  ┆ Sex ┆ Province_ID ┆ Province_Thai │\n",
       "│ ---    ┆ ---  ┆ ---  ┆ --- ┆   ┆ ---  ┆ --- ┆ ---         ┆ ---           │\n",
       "│ str    ┆ date ┆ str  ┆ f64 ┆   ┆ date ┆ str ┆ str         ┆ str           │\n",
       "╞════════╪══════╪══════╪═════╪═══╪══════╪═════╪═════════════╪═══════════════╡\n",
       "└────────┴──────┴──────┴─────┴───┴──────┴─────┴─────────────┴───────────────┘"
      ]
     },
     "execution_count": 28,
     "metadata": {},
     "output_type": "execute_result"
    }
   ],
   "source": [
    "st.filter(pl.col('ENC_HN').is_in(st_bef['ENC_HN'].to_list()))"
   ]
  },
  {
   "cell_type": "code",
   "execution_count": 29,
   "metadata": {},
   "outputs": [
    {
     "data": {
      "text/plain": [
       "6339"
      ]
     },
     "execution_count": 29,
     "metadata": {},
     "output_type": "execute_result"
    }
   ],
   "source": [
    "st_bef['ENC_HN'].n_unique()"
   ]
  },
  {
   "cell_type": "markdown",
   "metadata": {},
   "source": [
    "--- 4jun---"
   ]
  },
  {
   "cell_type": "code",
   "execution_count": 35,
   "metadata": {},
   "outputs": [
    {
     "data": {
      "text/plain": [
       "23337"
      ]
     },
     "execution_count": 35,
     "metadata": {},
     "output_type": "execute_result"
    }
   ],
   "source": [
    "af['ENC_HN'].n_unique()"
   ]
  },
  {
   "cell_type": "code",
   "execution_count": 38,
   "metadata": {},
   "outputs": [
    {
     "data": {
      "text/plain": [
       "152"
      ]
     },
     "execution_count": 38,
     "metadata": {},
     "output_type": "execute_result"
    }
   ],
   "source": [
    "len(set(afbef['ENC_HN']) - set(af['ENC_HN']))"
   ]
  },
  {
   "cell_type": "code",
   "execution_count": 43,
   "metadata": {},
   "outputs": [
    {
     "data": {
      "text/plain": [
       "75"
      ]
     },
     "execution_count": 43,
     "metadata": {},
     "output_type": "execute_result"
    }
   ],
   "source": [
    "len(afbef_hn)"
   ]
  },
  {
   "cell_type": "code",
   "execution_count": 45,
   "metadata": {},
   "outputs": [
    {
     "data": {
      "text/html": [
       "<div><style>\n",
       ".dataframe > thead > tr,\n",
       ".dataframe > tbody > tr {\n",
       "  text-align: right;\n",
       "  white-space: pre-wrap;\n",
       "}\n",
       "</style>\n",
       "<small>shape: (2_756_989, 32)</small><table border=\"1\" class=\"dataframe\"><thead><tr><th>ENC_HN</th><th>Date</th><th>Site</th><th>SBP</th><th>DBP</th><th>HR</th><th>WEIGHT</th><th>HEIGHT</th><th>BMI</th><th>ICD10</th><th>Warfarin_sodium_5_mg</th><th>Warfarin_sodium_3_mg</th><th>Dabigatran_etexilate_110_mg</th><th>Rivaroxaban_10_mg</th><th>Dabigatran_etexilate_75_mg</th><th>Dabigatran_etexilate_150_mg</th><th>Rivaroxaban_15_mg</th><th>Rivaroxaban_20_mg</th><th>Apixaban_5_mg</th><th>Edoxaban_tosilate_60_mg</th><th>Rivaroxaban_2.5_mg</th><th>glucose</th><th>Serum creatinine</th><th>LDL</th><th>Triglyceride</th><th>HDL</th><th>Urine creatinine</th><th>Death_date</th><th>DOB</th><th>Sex</th><th>Province_ID</th><th>Province_Thai</th></tr><tr><td>str</td><td>date</td><td>str</td><td>f64</td><td>f64</td><td>f64</td><td>f64</td><td>f64</td><td>f64</td><td>str</td><td>str</td><td>str</td><td>str</td><td>str</td><td>str</td><td>str</td><td>str</td><td>str</td><td>str</td><td>str</td><td>str</td><td>f64</td><td>f64</td><td>f64</td><td>f64</td><td>f64</td><td>f64</td><td>date</td><td>date</td><td>str</td><td>str</td><td>str</td></tr></thead><tbody><tr><td>&quot;02B9A45D4615C1…</td><td>2010-03-05</td><td>&quot;OMD15&quot;</td><td>null</td><td>null</td><td>null</td><td>null</td><td>null</td><td>null</td><td>&quot;J459&quot;</td><td>null</td><td>null</td><td>null</td><td>null</td><td>null</td><td>null</td><td>null</td><td>null</td><td>null</td><td>null</td><td>null</td><td>null</td><td>null</td><td>null</td><td>null</td><td>null</td><td>null</td><td>2017-01-18</td><td>1932-02-15</td><td>&quot;F&quot;</td><td>&quot;10&quot;</td><td>&quot;กทม&quot;</td></tr><tr><td>&quot;06DDB477F640CA…</td><td>2010-09-01</td><td>&quot;ORP01&quot;</td><td>null</td><td>null</td><td>null</td><td>null</td><td>null</td><td>null</td><td>&quot;M4316, M5416&quot;</td><td>null</td><td>null</td><td>null</td><td>null</td><td>null</td><td>null</td><td>null</td><td>null</td><td>null</td><td>null</td><td>null</td><td>null</td><td>null</td><td>null</td><td>null</td><td>null</td><td>null</td><td>null</td><td>1961-10-07</td><td>&quot;F&quot;</td><td>&quot;10&quot;</td><td>&quot;กทม&quot;</td></tr><tr><td>&quot;14872CEC0215B4…</td><td>2010-04-27</td><td>&quot;OFM05&quot;</td><td>null</td><td>null</td><td>null</td><td>null</td><td>null</td><td>null</td><td>&quot;G939&quot;</td><td>null</td><td>null</td><td>null</td><td>null</td><td>null</td><td>null</td><td>null</td><td>null</td><td>null</td><td>null</td><td>null</td><td>null</td><td>null</td><td>null</td><td>null</td><td>null</td><td>null</td><td>null</td><td>1942-01-23</td><td>&quot;M&quot;</td><td>&quot;94&quot;</td><td>&quot;ปัตตานี&quot;</td></tr><tr><td>&quot;182325FC7323B7…</td><td>2010-05-25</td><td>&quot;OER101&quot;</td><td>null</td><td>null</td><td>null</td><td>null</td><td>null</td><td>null</td><td>&quot;I251, I48, R50…</td><td>null</td><td>null</td><td>null</td><td>null</td><td>null</td><td>null</td><td>null</td><td>null</td><td>null</td><td>null</td><td>null</td><td>null</td><td>null</td><td>null</td><td>null</td><td>null</td><td>null</td><td>null</td><td>1940-08-04</td><td>&quot;M&quot;</td><td>&quot;10&quot;</td><td>&quot;กทม&quot;</td></tr><tr><td>&quot;1AB53044B55507…</td><td>2010-05-08</td><td>&quot;OFM05&quot;</td><td>null</td><td>null</td><td>null</td><td>null</td><td>null</td><td>null</td><td>null</td><td>null</td><td>null</td><td>null</td><td>null</td><td>null</td><td>null</td><td>null</td><td>null</td><td>null</td><td>null</td><td>null</td><td>null</td><td>null</td><td>null</td><td>null</td><td>null</td><td>null</td><td>null</td><td>1963-08-17</td><td>&quot;F&quot;</td><td>&quot;10&quot;</td><td>&quot;กทม&quot;</td></tr><tr><td>&quot;1EDF33F6605037…</td><td>2010-01-11</td><td>&quot;OET01&quot;</td><td>null</td><td>null</td><td>null</td><td>null</td><td>null</td><td>null</td><td>&quot;H810&quot;</td><td>null</td><td>null</td><td>null</td><td>null</td><td>null</td><td>null</td><td>null</td><td>null</td><td>null</td><td>null</td><td>null</td><td>null</td><td>null</td><td>null</td><td>null</td><td>null</td><td>null</td><td>null</td><td>1958-07-15</td><td>&quot;F&quot;</td><td>&quot;57&quot;</td><td>&quot;เชียงราย&quot;</td></tr><tr><td>&quot;365C2222E90558…</td><td>2010-09-07</td><td>&quot;SDOEY03&quot;</td><td>null</td><td>null</td><td>null</td><td>null</td><td>null</td><td>null</td><td>&quot;H401&quot;</td><td>null</td><td>null</td><td>null</td><td>null</td><td>null</td><td>null</td><td>null</td><td>null</td><td>null</td><td>null</td><td>null</td><td>null</td><td>null</td><td>null</td><td>null</td><td>null</td><td>null</td><td>null</td><td>1937-01-01</td><td>&quot;M&quot;</td><td>&quot;24&quot;</td><td>&quot;ฉะเชิงเทรา&quot;</td></tr><tr><td>&quot;39588445CD1CA4…</td><td>2010-02-03</td><td>&quot;OMD01&quot;</td><td>null</td><td>null</td><td>null</td><td>null</td><td>null</td><td>null</td><td>&quot;E041, K30&quot;</td><td>null</td><td>null</td><td>null</td><td>null</td><td>null</td><td>null</td><td>null</td><td>null</td><td>null</td><td>null</td><td>null</td><td>null</td><td>null</td><td>null</td><td>null</td><td>null</td><td>null</td><td>null</td><td>1937-09-12</td><td>&quot;M&quot;</td><td>&quot;13&quot;</td><td>&quot;พระนครศรีอยุธย…</td></tr><tr><td>&quot;3BD75FBE6406D4…</td><td>2010-10-11</td><td>&quot;OMD07&quot;</td><td>null</td><td>null</td><td>null</td><td>null</td><td>null</td><td>null</td><td>null</td><td>null</td><td>null</td><td>null</td><td>null</td><td>null</td><td>null</td><td>null</td><td>null</td><td>null</td><td>null</td><td>null</td><td>null</td><td>null</td><td>null</td><td>null</td><td>null</td><td>null</td><td>null</td><td>1927-09-18</td><td>&quot;M&quot;</td><td>&quot;10&quot;</td><td>&quot;กทม&quot;</td></tr><tr><td>&quot;4188FAD93FDB3E…</td><td>2010-09-29</td><td>&quot;OMD18&quot;</td><td>null</td><td>null</td><td>null</td><td>null</td><td>null</td><td>null</td><td>null</td><td>null</td><td>null</td><td>null</td><td>null</td><td>null</td><td>null</td><td>null</td><td>null</td><td>null</td><td>null</td><td>null</td><td>null</td><td>null</td><td>null</td><td>null</td><td>null</td><td>null</td><td>2012-05-19</td><td>1932-08-11</td><td>&quot;F&quot;</td><td>&quot;11&quot;</td><td>&quot;นนทบุรี&quot;</td></tr><tr><td>&quot;4336A26CDA8FCA…</td><td>2010-01-14</td><td>&quot;OSU03&quot;</td><td>null</td><td>null</td><td>null</td><td>null</td><td>null</td><td>null</td><td>&quot;S819&quot;</td><td>null</td><td>null</td><td>null</td><td>null</td><td>null</td><td>null</td><td>null</td><td>null</td><td>null</td><td>null</td><td>null</td><td>null</td><td>null</td><td>null</td><td>null</td><td>null</td><td>null</td><td>null</td><td>1980-10-10</td><td>&quot;F&quot;</td><td>&quot;10&quot;</td><td>&quot;กทม&quot;</td></tr><tr><td>&quot;43ACD002520685…</td><td>2010-01-09</td><td>&quot;OET11&quot;</td><td>null</td><td>null</td><td>null</td><td>null</td><td>null</td><td>null</td><td>&quot;J304, Z090&quot;</td><td>null</td><td>null</td><td>null</td><td>null</td><td>null</td><td>null</td><td>null</td><td>null</td><td>null</td><td>null</td><td>null</td><td>null</td><td>null</td><td>null</td><td>null</td><td>null</td><td>null</td><td>null</td><td>1934-04-16</td><td>&quot;F&quot;</td><td>&quot;86&quot;</td><td>&quot;ชุมพร&quot;</td></tr><tr><td>&hellip;</td><td>&hellip;</td><td>&hellip;</td><td>&hellip;</td><td>&hellip;</td><td>&hellip;</td><td>&hellip;</td><td>&hellip;</td><td>&hellip;</td><td>&hellip;</td><td>&hellip;</td><td>&hellip;</td><td>&hellip;</td><td>&hellip;</td><td>&hellip;</td><td>&hellip;</td><td>&hellip;</td><td>&hellip;</td><td>&hellip;</td><td>&hellip;</td><td>&hellip;</td><td>&hellip;</td><td>&hellip;</td><td>&hellip;</td><td>&hellip;</td><td>&hellip;</td><td>&hellip;</td><td>&hellip;</td><td>&hellip;</td><td>&hellip;</td><td>&hellip;</td><td>&hellip;</td></tr><tr><td>&quot;579B4E2690D7B3…</td><td>2015-12-17</td><td>null</td><td>null</td><td>null</td><td>null</td><td>null</td><td>null</td><td>null</td><td>null</td><td>null</td><td>null</td><td>null</td><td>null</td><td>null</td><td>null</td><td>null</td><td>null</td><td>null</td><td>null</td><td>null</td><td>194.0</td><td>0.64</td><td>51.0</td><td>113.0</td><td>46.0</td><td>null</td><td>null</td><td>1960-03-11</td><td>&quot;F&quot;</td><td>&quot;13&quot;</td><td>&quot;พระนครศรีอยุธย…</td></tr><tr><td>&quot;AD0FB1F2BE704E…</td><td>2020-05-03</td><td>null</td><td>null</td><td>null</td><td>null</td><td>null</td><td>null</td><td>null</td><td>null</td><td>null</td><td>null</td><td>null</td><td>null</td><td>null</td><td>null</td><td>null</td><td>null</td><td>null</td><td>null</td><td>null</td><td>null</td><td>1.17</td><td>null</td><td>null</td><td>null</td><td>null</td><td>null</td><td>1952-06-24</td><td>&quot;F&quot;</td><td>&quot;84&quot;</td><td>&quot;สุราษฎร์ธานี&quot;</td></tr><tr><td>&quot;98CCA131F38923…</td><td>2012-03-04</td><td>null</td><td>null</td><td>null</td><td>null</td><td>null</td><td>null</td><td>null</td><td>null</td><td>null</td><td>null</td><td>null</td><td>null</td><td>null</td><td>null</td><td>null</td><td>null</td><td>null</td><td>null</td><td>null</td><td>135.0</td><td>1.57</td><td>109.0</td><td>176.0</td><td>30.0</td><td>null</td><td>null</td><td>1933-07-08</td><td>&quot;F&quot;</td><td>&quot;10&quot;</td><td>&quot;กทม&quot;</td></tr><tr><td>&quot;0A8525B9F101CB…</td><td>2014-11-25</td><td>null</td><td>null</td><td>null</td><td>null</td><td>null</td><td>null</td><td>null</td><td>null</td><td>null</td><td>null</td><td>null</td><td>null</td><td>null</td><td>null</td><td>null</td><td>null</td><td>null</td><td>null</td><td>null</td><td>210.0</td><td>null</td><td>null</td><td>null</td><td>null</td><td>null</td><td>null</td><td>1957-03-23</td><td>&quot;F&quot;</td><td>&quot;24&quot;</td><td>&quot;ฉะเชิงเทรา&quot;</td></tr><tr><td>&quot;DC90334961F4B0…</td><td>2016-11-30</td><td>null</td><td>null</td><td>null</td><td>null</td><td>null</td><td>null</td><td>null</td><td>null</td><td>null</td><td>null</td><td>null</td><td>null</td><td>null</td><td>null</td><td>null</td><td>null</td><td>null</td><td>null</td><td>null</td><td>null</td><td>0.64</td><td>null</td><td>null</td><td>null</td><td>null</td><td>null</td><td>1936-01-31</td><td>&quot;F&quot;</td><td>&quot;10&quot;</td><td>&quot;กทม&quot;</td></tr><tr><td>&quot;A96DE4834C772D…</td><td>2017-02-08</td><td>null</td><td>null</td><td>null</td><td>null</td><td>null</td><td>null</td><td>null</td><td>null</td><td>null</td><td>null</td><td>null</td><td>null</td><td>null</td><td>null</td><td>null</td><td>null</td><td>null</td><td>null</td><td>null</td><td>96.0</td><td>0.87</td><td>56.0</td><td>50.0</td><td>60.0</td><td>null</td><td>null</td><td>1960-01-09</td><td>&quot;M&quot;</td><td>&quot;10&quot;</td><td>&quot;กทม&quot;</td></tr><tr><td>&quot;6FEF8AFBBA0828…</td><td>2019-06-27</td><td>null</td><td>null</td><td>null</td><td>null</td><td>null</td><td>null</td><td>null</td><td>null</td><td>null</td><td>null</td><td>null</td><td>null</td><td>null</td><td>null</td><td>null</td><td>null</td><td>null</td><td>null</td><td>null</td><td>92.0</td><td>6.97</td><td>48.0</td><td>31.0</td><td>null</td><td>null</td><td>null</td><td>1956-04-29</td><td>&quot;M&quot;</td><td>&quot;13&quot;</td><td>&quot;พระนครศรีอยุธย…</td></tr><tr><td>&quot;C3FD766CABD120…</td><td>2012-04-12</td><td>null</td><td>null</td><td>null</td><td>null</td><td>null</td><td>null</td><td>null</td><td>null</td><td>null</td><td>null</td><td>null</td><td>null</td><td>null</td><td>null</td><td>null</td><td>null</td><td>null</td><td>null</td><td>null</td><td>null</td><td>2.48</td><td>null</td><td>null</td><td>null</td><td>null</td><td>null</td><td>1942-01-13</td><td>&quot;M&quot;</td><td>&quot;84&quot;</td><td>&quot;สุราษฎร์ธานี&quot;</td></tr><tr><td>&quot;75CE3891CA1EF1…</td><td>2018-02-07</td><td>null</td><td>null</td><td>null</td><td>null</td><td>null</td><td>null</td><td>null</td><td>null</td><td>null</td><td>null</td><td>null</td><td>null</td><td>null</td><td>null</td><td>null</td><td>null</td><td>null</td><td>null</td><td>null</td><td>null</td><td>3.15</td><td>null</td><td>null</td><td>null</td><td>null</td><td>null</td><td>1944-11-17</td><td>&quot;F&quot;</td><td>&quot;21&quot;</td><td>&quot;ระยอง&quot;</td></tr><tr><td>&quot;C713CDF08EAFF5…</td><td>2017-09-16</td><td>null</td><td>null</td><td>null</td><td>null</td><td>null</td><td>null</td><td>null</td><td>null</td><td>null</td><td>null</td><td>null</td><td>null</td><td>null</td><td>null</td><td>null</td><td>null</td><td>null</td><td>null</td><td>null</td><td>null</td><td>0.58</td><td>null</td><td>null</td><td>null</td><td>null</td><td>2017-11-17</td><td>1923-12-16</td><td>&quot;F&quot;</td><td>&quot;10&quot;</td><td>&quot;กทม&quot;</td></tr><tr><td>&quot;7427D67262440F…</td><td>2020-01-10</td><td>null</td><td>null</td><td>null</td><td>null</td><td>null</td><td>null</td><td>null</td><td>null</td><td>null</td><td>null</td><td>null</td><td>null</td><td>null</td><td>null</td><td>null</td><td>null</td><td>null</td><td>null</td><td>null</td><td>null</td><td>1.58</td><td>null</td><td>null</td><td>null</td><td>null</td><td>2020-03-26</td><td>1940-01-01</td><td>&quot;F&quot;</td><td>&quot;10&quot;</td><td>&quot;กทม&quot;</td></tr><tr><td>&quot;CFCB972F3CABAF…</td><td>2017-02-22</td><td>null</td><td>null</td><td>null</td><td>null</td><td>null</td><td>null</td><td>null</td><td>null</td><td>null</td><td>null</td><td>null</td><td>null</td><td>null</td><td>null</td><td>null</td><td>null</td><td>null</td><td>null</td><td>null</td><td>null</td><td>1.78</td><td>null</td><td>null</td><td>null</td><td>null</td><td>2017-10-21</td><td>1934-10-22</td><td>&quot;M&quot;</td><td>&quot;10&quot;</td><td>&quot;กทม&quot;</td></tr></tbody></table></div>"
      ],
      "text/plain": [
       "shape: (2_756_989, 32)\n",
       "┌────────────────┬────────────┬────────┬──────┬───┬────────────┬─────┬─────────────┬───────────────┐\n",
       "│ ENC_HN         ┆ Date       ┆ Site   ┆ SBP  ┆ … ┆ DOB        ┆ Sex ┆ Province_ID ┆ Province_Thai │\n",
       "│ ---            ┆ ---        ┆ ---    ┆ ---  ┆   ┆ ---        ┆ --- ┆ ---         ┆ ---           │\n",
       "│ str            ┆ date       ┆ str    ┆ f64  ┆   ┆ date       ┆ str ┆ str         ┆ str           │\n",
       "╞════════════════╪════════════╪════════╪══════╪═══╪════════════╪═════╪═════════════╪═══════════════╡\n",
       "│ 02B9A45D4615C1 ┆ 2010-03-05 ┆ OMD15  ┆ null ┆ … ┆ 1932-02-15 ┆ F   ┆ 10          ┆ กทม           │\n",
       "│ 58EA4669EAACE6 ┆            ┆        ┆      ┆   ┆            ┆     ┆             ┆               │\n",
       "│ AC8E…          ┆            ┆        ┆      ┆   ┆            ┆     ┆             ┆               │\n",
       "│ 06DDB477F640CA ┆ 2010-09-01 ┆ ORP01  ┆ null ┆ … ┆ 1961-10-07 ┆ F   ┆ 10          ┆ กทม           │\n",
       "│ A4C075A4E9FEE6 ┆            ┆        ┆      ┆   ┆            ┆     ┆             ┆               │\n",
       "│ 3354…          ┆            ┆        ┆      ┆   ┆            ┆     ┆             ┆               │\n",
       "│ 14872CEC0215B4 ┆ 2010-04-27 ┆ OFM05  ┆ null ┆ … ┆ 1942-01-23 ┆ M   ┆ 94          ┆ ปัตตานี         │\n",
       "│ A6680B66FAB6C5 ┆            ┆        ┆      ┆   ┆            ┆     ┆             ┆               │\n",
       "│ 8C6A…          ┆            ┆        ┆      ┆   ┆            ┆     ┆             ┆               │\n",
       "│ 182325FC7323B7 ┆ 2010-05-25 ┆ OER101 ┆ null ┆ … ┆ 1940-08-04 ┆ M   ┆ 10          ┆ กทม           │\n",
       "│ FE7E3DB373BBD2 ┆            ┆        ┆      ┆   ┆            ┆     ┆             ┆               │\n",
       "│ F54F…          ┆            ┆        ┆      ┆   ┆            ┆     ┆             ┆               │\n",
       "│ 1AB53044B55507 ┆ 2010-05-08 ┆ OFM05  ┆ null ┆ … ┆ 1963-08-17 ┆ F   ┆ 10          ┆ กทม           │\n",
       "│ ACB09F0A2E45DD ┆            ┆        ┆      ┆   ┆            ┆     ┆             ┆               │\n",
       "│ 8A10…          ┆            ┆        ┆      ┆   ┆            ┆     ┆             ┆               │\n",
       "│ …              ┆ …          ┆ …      ┆ …    ┆ … ┆ …          ┆ …   ┆ …           ┆ …             │\n",
       "│ C3FD766CABD120 ┆ 2012-04-12 ┆ null   ┆ null ┆ … ┆ 1942-01-13 ┆ M   ┆ 84          ┆ สุราษฎร์ธานี     │\n",
       "│ 4B1A4334AA6979 ┆            ┆        ┆      ┆   ┆            ┆     ┆             ┆               │\n",
       "│ FFE4…          ┆            ┆        ┆      ┆   ┆            ┆     ┆             ┆               │\n",
       "│ 75CE3891CA1EF1 ┆ 2018-02-07 ┆ null   ┆ null ┆ … ┆ 1944-11-17 ┆ F   ┆ 21          ┆ ระยอง         │\n",
       "│ 380108F130B50C ┆            ┆        ┆      ┆   ┆            ┆     ┆             ┆               │\n",
       "│ 6FCE…          ┆            ┆        ┆      ┆   ┆            ┆     ┆             ┆               │\n",
       "│ C713CDF08EAFF5 ┆ 2017-09-16 ┆ null   ┆ null ┆ … ┆ 1923-12-16 ┆ F   ┆ 10          ┆ กทม           │\n",
       "│ D8518BCDB63487 ┆            ┆        ┆      ┆   ┆            ┆     ┆             ┆               │\n",
       "│ E5C4…          ┆            ┆        ┆      ┆   ┆            ┆     ┆             ┆               │\n",
       "│ 7427D67262440F ┆ 2020-01-10 ┆ null   ┆ null ┆ … ┆ 1940-01-01 ┆ F   ┆ 10          ┆ กทม           │\n",
       "│ 005C446FB238BD ┆            ┆        ┆      ┆   ┆            ┆     ┆             ┆               │\n",
       "│ B10A…          ┆            ┆        ┆      ┆   ┆            ┆     ┆             ┆               │\n",
       "│ CFCB972F3CABAF ┆ 2017-02-22 ┆ null   ┆ null ┆ … ┆ 1934-10-22 ┆ M   ┆ 10          ┆ กทม           │\n",
       "│ 410BDBAFADBE9C ┆            ┆        ┆      ┆   ┆            ┆     ┆             ┆               │\n",
       "│ 3A56…          ┆            ┆        ┆      ┆   ┆            ┆     ┆             ┆               │\n",
       "└────────────────┴────────────┴────────┴──────┴───┴────────────┴─────┴─────────────┴───────────────┘"
      ]
     },
     "execution_count": 45,
     "metadata": {},
     "output_type": "execute_result"
    }
   ],
   "source": [
    "af.filter(~pl.col('ENC_HN').is_in(afbef_hn))"
   ]
  },
  {
   "cell_type": "code",
   "execution_count": 41,
   "metadata": {},
   "outputs": [
    {
     "data": {
      "text/html": [
       "<div><style>\n",
       ".dataframe > thead > tr,\n",
       ".dataframe > tbody > tr {\n",
       "  text-align: right;\n",
       "  white-space: pre-wrap;\n",
       "}\n",
       "</style>\n",
       "<small>shape: (0, 32)</small><table border=\"1\" class=\"dataframe\"><thead><tr><th>ENC_HN</th><th>Date</th><th>Site</th><th>SBP</th><th>DBP</th><th>HR</th><th>WEIGHT</th><th>HEIGHT</th><th>BMI</th><th>ICD10</th><th>Warfarin_sodium_5_mg</th><th>Warfarin_sodium_3_mg</th><th>Dabigatran_etexilate_110_mg</th><th>Rivaroxaban_10_mg</th><th>Dabigatran_etexilate_75_mg</th><th>Dabigatran_etexilate_150_mg</th><th>Rivaroxaban_15_mg</th><th>Rivaroxaban_20_mg</th><th>Apixaban_5_mg</th><th>Edoxaban_tosilate_60_mg</th><th>Rivaroxaban_2.5_mg</th><th>glucose</th><th>Serum creatinine</th><th>LDL</th><th>Triglyceride</th><th>HDL</th><th>Urine creatinine</th><th>Death_date</th><th>DOB</th><th>Sex</th><th>Province_ID</th><th>Province_Thai</th></tr><tr><td>str</td><td>date</td><td>str</td><td>f64</td><td>f64</td><td>f64</td><td>f64</td><td>f64</td><td>f64</td><td>str</td><td>str</td><td>str</td><td>str</td><td>str</td><td>str</td><td>str</td><td>str</td><td>str</td><td>str</td><td>str</td><td>str</td><td>f64</td><td>f64</td><td>f64</td><td>f64</td><td>f64</td><td>f64</td><td>date</td><td>date</td><td>str</td><td>str</td><td>str</td></tr></thead><tbody></tbody></table></div>"
      ],
      "text/plain": [
       "shape: (0, 32)\n",
       "┌────────┬──────┬──────┬─────┬───┬──────┬─────┬─────────────┬───────────────┐\n",
       "│ ENC_HN ┆ Date ┆ Site ┆ SBP ┆ … ┆ DOB  ┆ Sex ┆ Province_ID ┆ Province_Thai │\n",
       "│ ---    ┆ ---  ┆ ---  ┆ --- ┆   ┆ ---  ┆ --- ┆ ---         ┆ ---           │\n",
       "│ str    ┆ date ┆ str  ┆ f64 ┆   ┆ date ┆ str ┆ str         ┆ str           │\n",
       "╞════════╪══════╪══════╪═════╪═══╪══════╪═════╪═════════════╪═══════════════╡\n",
       "└────────┴──────┴──────┴─────┴───┴──────┴─────┴─────────────┴───────────────┘"
      ]
     },
     "execution_count": 41,
     "metadata": {},
     "output_type": "execute_result"
    }
   ],
   "source": [
    "af.filter(pl.col('Date').dt.year() < 2010)"
   ]
  },
  {
   "cell_type": "code",
   "execution_count": null,
   "metadata": {},
   "outputs": [],
   "source": [
    "len(set(afbef['ENC_HN']) - set(af['ENC_HN']))"
   ]
  }
 ],
 "metadata": {
  "kernelspec": {
   "display_name": "prut",
   "language": "python",
   "name": "python3"
  },
  "language_info": {
   "codemirror_mode": {
    "name": "ipython",
    "version": 3
   },
   "file_extension": ".py",
   "mimetype": "text/x-python",
   "name": "python",
   "nbconvert_exporter": "python",
   "pygments_lexer": "ipython3",
   "version": "3.12.1"
  }
 },
 "nbformat": 4,
 "nbformat_minor": 2
}
